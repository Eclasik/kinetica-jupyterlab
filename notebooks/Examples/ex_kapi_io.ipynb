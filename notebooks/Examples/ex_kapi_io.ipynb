{
 "cells": [
  {
   "cell_type": "markdown",
   "metadata": {},
   "source": [
    "# Examples for Kinetica API\n",
    "\n",
    "The following steps will test:\n",
    "1. Saving of a Pandas Dataframe to a Kinetica table \n",
    "1. saving of a Pandas Dataframe to a table with shard key and column properties.\n",
    "1. Loading of a Kinetica table to a Pandas dataframe\n",
    "\n",
    "Also See:\n",
    "* [Kinetica Python Guide](https://www.kinetica.com/docs/6.2/tutorials/python_guide.html)\n",
    "* [Kinetica Python API](https://www.kinetica.com/docs/api/python/index.html)\n",
    "* [Intro to Pandas Dataframes](https://pandas.pydata.org/pandas-docs/stable/dsintro.html#dataframe)\n",
    "* [10 Minutes to Pandas](https://pandas.pydata.org/pandas-docs/stable/10min.html)\n"
   ]
  },
  {
   "cell_type": "code",
   "execution_count": 1,
   "metadata": {},
   "outputs": [],
   "source": [
    "# Local libraries should automatically reload\n",
    "%reload_ext autoreload\n",
    "%autoreload 1\n",
    "\n",
    "# to access Kinetica Jupyter I/O functions\n",
    "import sys\n",
    "sys.path.append('../KJIO') \n",
    "\n",
    "import numpy as np\n",
    "import pandas as pd"
   ]
  },
  {
   "cell_type": "markdown",
   "metadata": {},
   "source": [
    "### Create a test dataframe\n",
    "\n",
    "This is the data we will save to a table."
   ]
  },
  {
   "cell_type": "code",
   "execution_count": 2,
   "metadata": {},
   "outputs": [
    {
     "data": {
      "text/html": [
       "<div>\n",
       "<style scoped>\n",
       "    .dataframe tbody tr th:only-of-type {\n",
       "        vertical-align: middle;\n",
       "    }\n",
       "\n",
       "    .dataframe tbody tr th {\n",
       "        vertical-align: top;\n",
       "    }\n",
       "\n",
       "    .dataframe thead th {\n",
       "        text-align: right;\n",
       "    }\n",
       "</style>\n",
       "<table border=\"1\" class=\"dataframe\">\n",
       "  <thead>\n",
       "    <tr style=\"text-align: right;\">\n",
       "      <th></th>\n",
       "      <th>str_col</th>\n",
       "      <th>double_col</th>\n",
       "      <th>float_col</th>\n",
       "      <th>int_col</th>\n",
       "    </tr>\n",
       "  </thead>\n",
       "  <tbody>\n",
       "    <tr>\n",
       "      <th>0</th>\n",
       "      <td>A</td>\n",
       "      <td>1.0</td>\n",
       "      <td>0.0</td>\n",
       "      <td>1</td>\n",
       "    </tr>\n",
       "    <tr>\n",
       "      <th>1</th>\n",
       "      <td>B</td>\n",
       "      <td>1.0</td>\n",
       "      <td>1.0</td>\n",
       "      <td>-3</td>\n",
       "    </tr>\n",
       "    <tr>\n",
       "      <th>2</th>\n",
       "      <td>C</td>\n",
       "      <td>1.0</td>\n",
       "      <td>2.0</td>\n",
       "      <td>-14</td>\n",
       "    </tr>\n",
       "    <tr>\n",
       "      <th>3</th>\n",
       "      <td>D</td>\n",
       "      <td>1.0</td>\n",
       "      <td>3.0</td>\n",
       "      <td>-6</td>\n",
       "    </tr>\n",
       "  </tbody>\n",
       "</table>\n",
       "</div>"
      ],
      "text/plain": [
       "  str_col  double_col  float_col  int_col\n",
       "0       A         1.0        0.0        1\n",
       "1       B         1.0        1.0       -3\n",
       "2       C         1.0        2.0      -14\n",
       "3       D         1.0        3.0       -6"
      ]
     },
     "execution_count": 2,
     "metadata": {},
     "output_type": "execute_result"
    }
   ],
   "source": [
    "# Create a dataframe from a dict of series. \n",
    "_test_df = pd.DataFrame({ \n",
    "    'str_col' : ['A', 'B', 'C', 'D'],\n",
    "    #'cat_col' : pd.Categorical([\"test\",\"train\",\"test\",\"train\"]),\n",
    "    'double_col' : 1.,\n",
    "    #'ts_col' : pd.date_range('1/1/2000', periods=4),\n",
    "    'float_col' : pd.Series(range(4), dtype='float32'),\n",
    "    'int_col' : np.array(np.random.randn(4)*10, dtype='int32')\n",
    "    })\n",
    "\n",
    "_test_df.head()"
   ]
  },
  {
   "cell_type": "markdown",
   "metadata": {},
   "source": [
    "### Understanding Dataframe Column Types\n",
    "\n",
    "The dtypes property lists types that will be used to create the Kinetica table."
   ]
  },
  {
   "cell_type": "code",
   "execution_count": 3,
   "metadata": {},
   "outputs": [
    {
     "data": {
      "text/plain": [
       "str_col        object\n",
       "double_col    float64\n",
       "float_col     float32\n",
       "int_col         int32\n",
       "dtype: object"
      ]
     },
     "execution_count": 3,
     "metadata": {},
     "output_type": "execute_result"
    }
   ],
   "source": [
    "_test_df.dtypes"
   ]
  },
  {
   "cell_type": "markdown",
   "metadata": {},
   "source": [
    "### Understanding Dataframe column and row indexes\n",
    "\n",
    "Each dataframe has separate indexes for **rows** and **columns** that determine its dimensions. When the dataframe is converted to a table the indexes will be used to generate table attributes."
   ]
  },
  {
   "cell_type": "markdown",
   "metadata": {},
   "source": [
    "The **column index** is typically a list of strings. It could also be a range of numbers but this is not good for creating a table so we use column names."
   ]
  },
  {
   "cell_type": "code",
   "execution_count": 4,
   "metadata": {},
   "outputs": [
    {
     "data": {
      "text/plain": [
       "Index(['str_col', 'double_col', 'float_col', 'int_col'], dtype='object')"
      ]
     },
     "execution_count": 4,
     "metadata": {},
     "output_type": "execute_result"
    }
   ],
   "source": [
    "_test_df.columns"
   ]
  },
  {
   "cell_type": "markdown",
   "metadata": {},
   "source": [
    "The **row index** will be converted to a table column and used as the shard key if it has a name. In this case we convert `str_col` to an index."
   ]
  },
  {
   "cell_type": "code",
   "execution_count": 5,
   "metadata": {},
   "outputs": [
    {
     "name": "stdout",
     "output_type": "stream",
     "text": [
      "Index(['A', 'B', 'C', 'D'], dtype='object', name='str_col')\n"
     ]
    },
    {
     "data": {
      "text/html": [
       "<div>\n",
       "<style scoped>\n",
       "    .dataframe tbody tr th:only-of-type {\n",
       "        vertical-align: middle;\n",
       "    }\n",
       "\n",
       "    .dataframe tbody tr th {\n",
       "        vertical-align: top;\n",
       "    }\n",
       "\n",
       "    .dataframe thead th {\n",
       "        text-align: right;\n",
       "    }\n",
       "</style>\n",
       "<table border=\"1\" class=\"dataframe\">\n",
       "  <thead>\n",
       "    <tr style=\"text-align: right;\">\n",
       "      <th></th>\n",
       "      <th>double_col</th>\n",
       "      <th>float_col</th>\n",
       "      <th>int_col</th>\n",
       "    </tr>\n",
       "    <tr>\n",
       "      <th>str_col</th>\n",
       "      <th></th>\n",
       "      <th></th>\n",
       "      <th></th>\n",
       "    </tr>\n",
       "  </thead>\n",
       "  <tbody>\n",
       "    <tr>\n",
       "      <th>A</th>\n",
       "      <td>1.0</td>\n",
       "      <td>0.0</td>\n",
       "      <td>1</td>\n",
       "    </tr>\n",
       "    <tr>\n",
       "      <th>B</th>\n",
       "      <td>1.0</td>\n",
       "      <td>1.0</td>\n",
       "      <td>-3</td>\n",
       "    </tr>\n",
       "    <tr>\n",
       "      <th>C</th>\n",
       "      <td>1.0</td>\n",
       "      <td>2.0</td>\n",
       "      <td>-14</td>\n",
       "    </tr>\n",
       "    <tr>\n",
       "      <th>D</th>\n",
       "      <td>1.0</td>\n",
       "      <td>3.0</td>\n",
       "      <td>-6</td>\n",
       "    </tr>\n",
       "  </tbody>\n",
       "</table>\n",
       "</div>"
      ],
      "text/plain": [
       "         double_col  float_col  int_col\n",
       "str_col                                \n",
       "A               1.0        0.0        1\n",
       "B               1.0        1.0       -3\n",
       "C               1.0        2.0      -14\n",
       "D               1.0        3.0       -6"
      ]
     },
     "execution_count": 5,
     "metadata": {},
     "output_type": "execute_result"
    }
   ],
   "source": [
    "_test_df2 = _test_df.set_index('str_col')\n",
    "print(_test_df2.index)\n",
    "_test_df2"
   ]
  },
  {
   "cell_type": "markdown",
   "metadata": {},
   "source": [
    "### Set Kinetica schema and connection parameters"
   ]
  },
  {
   "cell_type": "markdown",
   "metadata": {},
   "source": [
    "### Import kapi_io functions\n",
    "\n",
    "In this example we use %aimport so changes to the source are reloaded each time we execute the cell."
   ]
  },
  {
   "cell_type": "code",
   "execution_count": 6,
   "metadata": {},
   "outputs": [],
   "source": [
    "%aimport kapi_io\n",
    "\n",
    "SCHEMA = 'TEST'"
   ]
  },
  {
   "cell_type": "markdown",
   "metadata": {},
   "source": [
    "### Create and save the dataframe to a table\n",
    "\n",
    "Typtes are converted and strings get a default `char16` attribute."
   ]
  },
  {
   "cell_type": "code",
   "execution_count": 7,
   "metadata": {},
   "outputs": [
    {
     "name": "stdout",
     "output_type": "stream",
     "text": [
      "Dropping table: <test_df>\n",
      "Creating  table: <test_df>\n",
      "Column 0: <str_col> (string) ['char16']\n",
      "Column 1: <double_col> (double) []\n",
      "Column 2: <float_col> (float) []\n",
      "Column 3: <int_col> (int) []\n",
      "Inserted rows into <TEST.test_df>: 4\n"
     ]
    }
   ],
   "source": [
    "kapi_io.save_df(_test_df, 'test_df', SCHEMA)"
   ]
  },
  {
   "cell_type": "markdown",
   "metadata": {},
   "source": [
    "### Save Dataframe with shard key and column properties\n",
    "\n",
    "More fine control over the column properties is available."
   ]
  },
  {
   "cell_type": "code",
   "execution_count": 8,
   "metadata": {},
   "outputs": [
    {
     "name": "stdout",
     "output_type": "stream",
     "text": [
      "Dropping table: <test_df_sk>\n",
      "Creating  table: <test_df_sk>\n",
      "Column 0: <str_col> (string) ['char32', 'shard_key']\n",
      "Column 1: <double_col> (double) []\n",
      "Column 2: <float_col> (float) []\n",
      "Column 3: <int_col> (int) ['nullable']\n",
      "Inserted rows into <TEST.test_df_sk>: 4\n"
     ]
    }
   ],
   "source": [
    "import gpudb\n",
    "\n",
    "# Convert str_col to a row index so it will be used as the shard_key\n",
    "_test_df_sk = _test_df.set_index('str_col')\n",
    "\n",
    "# you can specify additional column properties\n",
    "_col_props = { 'str_col' : [gpudb.GPUdbColumnProperty.CHAR32], \n",
    "             'int_col' : [gpudb.GPUdbColumnProperty.NULLABLE]}\n",
    "\n",
    "kapi_io.save_df(_test_df_sk, 'test_df_sk', SCHEMA, _col_props=_col_props)"
   ]
  },
  {
   "cell_type": "markdown",
   "metadata": {},
   "source": [
    "### Load the test_df table to a dataframe"
   ]
  },
  {
   "cell_type": "code",
   "execution_count": 9,
   "metadata": {},
   "outputs": [
    {
     "name": "stdout",
     "output_type": "stream",
     "text": [
      "Getting 4 records from <test_df>.\n",
      "Records Retrieved: (4, 4)\n"
     ]
    },
    {
     "data": {
      "text/html": [
       "<div>\n",
       "<style scoped>\n",
       "    .dataframe tbody tr th:only-of-type {\n",
       "        vertical-align: middle;\n",
       "    }\n",
       "\n",
       "    .dataframe tbody tr th {\n",
       "        vertical-align: top;\n",
       "    }\n",
       "\n",
       "    .dataframe thead th {\n",
       "        text-align: right;\n",
       "    }\n",
       "</style>\n",
       "<table border=\"1\" class=\"dataframe\">\n",
       "  <thead>\n",
       "    <tr style=\"text-align: right;\">\n",
       "      <th></th>\n",
       "      <th>str_col</th>\n",
       "      <th>double_col</th>\n",
       "      <th>float_col</th>\n",
       "      <th>int_col</th>\n",
       "    </tr>\n",
       "  </thead>\n",
       "  <tbody>\n",
       "    <tr>\n",
       "      <th>0</th>\n",
       "      <td>A</td>\n",
       "      <td>1.0</td>\n",
       "      <td>0.0</td>\n",
       "      <td>1</td>\n",
       "    </tr>\n",
       "    <tr>\n",
       "      <th>1</th>\n",
       "      <td>B</td>\n",
       "      <td>1.0</td>\n",
       "      <td>1.0</td>\n",
       "      <td>-3</td>\n",
       "    </tr>\n",
       "    <tr>\n",
       "      <th>2</th>\n",
       "      <td>C</td>\n",
       "      <td>1.0</td>\n",
       "      <td>2.0</td>\n",
       "      <td>-14</td>\n",
       "    </tr>\n",
       "    <tr>\n",
       "      <th>3</th>\n",
       "      <td>D</td>\n",
       "      <td>1.0</td>\n",
       "      <td>3.0</td>\n",
       "      <td>-6</td>\n",
       "    </tr>\n",
       "  </tbody>\n",
       "</table>\n",
       "</div>"
      ],
      "text/plain": [
       "  str_col  double_col  float_col  int_col\n",
       "0       A         1.0        0.0        1\n",
       "1       B         1.0        1.0       -3\n",
       "2       C         1.0        2.0      -14\n",
       "3       D         1.0        3.0       -6"
      ]
     },
     "execution_count": 9,
     "metadata": {},
     "output_type": "execute_result"
    }
   ],
   "source": [
    "_loaded_df = kapi_io.load_df('test_df')\n",
    "_loaded_df"
   ]
  },
  {
   "cell_type": "markdown",
   "metadata": {},
   "source": [
    "### Set row index (optional)\n",
    "\n",
    "If one of the columns should be the index you can specify this."
   ]
  },
  {
   "cell_type": "code",
   "execution_count": 10,
   "metadata": {},
   "outputs": [
    {
     "data": {
      "text/html": [
       "<div>\n",
       "<style scoped>\n",
       "    .dataframe tbody tr th:only-of-type {\n",
       "        vertical-align: middle;\n",
       "    }\n",
       "\n",
       "    .dataframe tbody tr th {\n",
       "        vertical-align: top;\n",
       "    }\n",
       "\n",
       "    .dataframe thead th {\n",
       "        text-align: right;\n",
       "    }\n",
       "</style>\n",
       "<table border=\"1\" class=\"dataframe\">\n",
       "  <thead>\n",
       "    <tr style=\"text-align: right;\">\n",
       "      <th></th>\n",
       "      <th>double_col</th>\n",
       "      <th>float_col</th>\n",
       "      <th>int_col</th>\n",
       "    </tr>\n",
       "    <tr>\n",
       "      <th>str_col</th>\n",
       "      <th></th>\n",
       "      <th></th>\n",
       "      <th></th>\n",
       "    </tr>\n",
       "  </thead>\n",
       "  <tbody>\n",
       "    <tr>\n",
       "      <th>A</th>\n",
       "      <td>1.0</td>\n",
       "      <td>0.0</td>\n",
       "      <td>1</td>\n",
       "    </tr>\n",
       "    <tr>\n",
       "      <th>B</th>\n",
       "      <td>1.0</td>\n",
       "      <td>1.0</td>\n",
       "      <td>-3</td>\n",
       "    </tr>\n",
       "    <tr>\n",
       "      <th>C</th>\n",
       "      <td>1.0</td>\n",
       "      <td>2.0</td>\n",
       "      <td>-14</td>\n",
       "    </tr>\n",
       "    <tr>\n",
       "      <th>D</th>\n",
       "      <td>1.0</td>\n",
       "      <td>3.0</td>\n",
       "      <td>-6</td>\n",
       "    </tr>\n",
       "  </tbody>\n",
       "</table>\n",
       "</div>"
      ],
      "text/plain": [
       "         double_col  float_col  int_col\n",
       "str_col                                \n",
       "A               1.0        0.0        1\n",
       "B               1.0        1.0       -3\n",
       "C               1.0        2.0      -14\n",
       "D               1.0        3.0       -6"
      ]
     },
     "execution_count": 10,
     "metadata": {},
     "output_type": "execute_result"
    }
   ],
   "source": [
    "_loaded_df2 = _loaded_df.set_index('str_col')\n",
    "_loaded_df2"
   ]
  }
 ],
 "metadata": {
  "kernelspec": {
   "display_name": "Python 3",
   "language": "python",
   "name": "python3"
  },
  "language_info": {
   "codemirror_mode": {
    "name": "ipython",
    "version": 3
   },
   "file_extension": ".py",
   "mimetype": "text/x-python",
   "name": "python",
   "nbconvert_exporter": "python",
   "pygments_lexer": "ipython3",
   "version": "3.6.5"
  }
 },
 "nbformat": 4,
 "nbformat_minor": 2
}
