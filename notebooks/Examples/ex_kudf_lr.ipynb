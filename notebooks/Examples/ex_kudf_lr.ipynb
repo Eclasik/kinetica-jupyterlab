{
 "cells": [
  {
   "cell_type": "markdown",
   "metadata": {},
   "source": [
    "# Example UDF Linear Regression\n",
    "\n",
    "The following steps will test training and inference of linear regression on a set of 1000 rows with 10 x-columns.\n",
    "\n",
    "1. Generate of input table `udf_example_lr_in`.\n",
    "1. Create empty output table `udf_example_lr_out`.\n",
    "1. Create non-distributed training script `udf_lr_train.py`.\n",
    "1. Execute training script.\n",
    "1. Create distributed inference script `udf_lr_infer.py`.\n",
    "1. Execute inference script.\n",
    "1. Analyze predictions with SQL.\n",
    "\n",
    "Also See:\n",
    "\n",
    "* [Linear Regression](https://en.wikipedia.org/wiki/Linear_regression)\n",
    "* [sklearn Linear Regression Example](http://scikit-learn.org/stable/auto_examples/linear_model/plot_ols.html)\n",
    "* [sklearn LinearRegression reference](http://scikit-learn.org/stable/modules/generated/sklearn.linear_model.LinearRegression.html)\n"
   ]
  },
  {
   "cell_type": "markdown",
   "metadata": {},
   "source": [
    "### Import dependencies"
   ]
  },
  {
   "cell_type": "code",
   "execution_count": 1,
   "metadata": {},
   "outputs": [
    {
     "name": "stderr",
     "output_type": "stream",
     "text": [
      "/usr/lib64/python3.6/importlib/_bootstrap.py:219: RuntimeWarning: numpy.dtype size changed, may indicate binary incompatibility. Expected 96, got 88\n",
      "  return f(*args, **kwds)\n",
      "/usr/lib64/python3.6/importlib/_bootstrap.py:219: RuntimeWarning: numpy.dtype size changed, may indicate binary incompatibility. Expected 96, got 88\n",
      "  return f(*args, **kwds)\n"
     ]
    }
   ],
   "source": [
    "# Local libraries should automatically reload\n",
    "%reload_ext autoreload\n",
    "%autoreload 1\n",
    "\n",
    "# to access Kinetica Jupyter I/O functions\n",
    "import sys\n",
    "sys.path.append('../KJIO') \n",
    "\n",
    "import numpy as np\n",
    "import pandas as pd\n",
    "\n",
    "%aimport kodbc_io\n",
    "%aimport kapi_io\n",
    "\n",
    "SCHEMA = 'TEST'"
   ]
  },
  {
   "cell_type": "markdown",
   "metadata": {},
   "source": [
    "### Create input table and data\n",
    "\n",
    "Create input table with randomly generated x-values."
   ]
  },
  {
   "cell_type": "code",
   "execution_count": 2,
   "metadata": {},
   "outputs": [
    {
     "name": "stdout",
     "output_type": "stream",
     "text": [
      "Dropping table: <udf_example_lr_in>\n",
      "Creating table: <udf_example_lr_in>\n",
      "Column 0: <id> (long) ['primary_key']\n",
      "Column 1: <x0> (double) []\n",
      "Column 2: <x1> (double) []\n",
      "Column 3: <x2> (double) []\n",
      "Column 4: <x3> (double) []\n",
      "Column 5: <x4> (double) []\n",
      "Column 6: <x5> (double) []\n",
      "Column 7: <x6> (double) []\n",
      "Column 8: <x7> (double) []\n",
      "Column 9: <x8> (double) []\n",
      "Column 10: <x9> (double) []\n",
      "Column 11: <y0> (double) []\n",
      "Inserted rows into <TEST.udf_example_lr_in>: 1000\n"
     ]
    },
    {
     "data": {
      "text/html": [
       "<div>\n",
       "<style scoped>\n",
       "    .dataframe tbody tr th:only-of-type {\n",
       "        vertical-align: middle;\n",
       "    }\n",
       "\n",
       "    .dataframe tbody tr th {\n",
       "        vertical-align: top;\n",
       "    }\n",
       "\n",
       "    .dataframe thead th {\n",
       "        text-align: right;\n",
       "    }\n",
       "</style>\n",
       "<table border=\"1\" class=\"dataframe\">\n",
       "  <thead>\n",
       "    <tr style=\"text-align: right;\">\n",
       "      <th></th>\n",
       "      <th>x0</th>\n",
       "      <th>x1</th>\n",
       "      <th>x2</th>\n",
       "      <th>x3</th>\n",
       "      <th>x4</th>\n",
       "      <th>x5</th>\n",
       "      <th>x6</th>\n",
       "      <th>x7</th>\n",
       "      <th>x8</th>\n",
       "      <th>x9</th>\n",
       "      <th>y0</th>\n",
       "    </tr>\n",
       "    <tr>\n",
       "      <th>id</th>\n",
       "      <th></th>\n",
       "      <th></th>\n",
       "      <th></th>\n",
       "      <th></th>\n",
       "      <th></th>\n",
       "      <th></th>\n",
       "      <th></th>\n",
       "      <th></th>\n",
       "      <th></th>\n",
       "      <th></th>\n",
       "      <th></th>\n",
       "    </tr>\n",
       "  </thead>\n",
       "  <tbody>\n",
       "    <tr>\n",
       "      <th>0</th>\n",
       "      <td>0.578553</td>\n",
       "      <td>0.830800</td>\n",
       "      <td>0.254940</td>\n",
       "      <td>0.420119</td>\n",
       "      <td>0.481351</td>\n",
       "      <td>0.876553</td>\n",
       "      <td>0.057114</td>\n",
       "      <td>0.542622</td>\n",
       "      <td>0.122846</td>\n",
       "      <td>0.792798</td>\n",
       "      <td>6.480924</td>\n",
       "    </tr>\n",
       "    <tr>\n",
       "      <th>1</th>\n",
       "      <td>0.744140</td>\n",
       "      <td>0.876429</td>\n",
       "      <td>0.573956</td>\n",
       "      <td>0.838551</td>\n",
       "      <td>0.092669</td>\n",
       "      <td>0.110693</td>\n",
       "      <td>0.996091</td>\n",
       "      <td>0.111226</td>\n",
       "      <td>0.365169</td>\n",
       "      <td>0.462991</td>\n",
       "      <td>6.956070</td>\n",
       "    </tr>\n",
       "    <tr>\n",
       "      <th>2</th>\n",
       "      <td>0.408107</td>\n",
       "      <td>0.452961</td>\n",
       "      <td>0.485118</td>\n",
       "      <td>0.258277</td>\n",
       "      <td>0.723331</td>\n",
       "      <td>0.415332</td>\n",
       "      <td>0.118527</td>\n",
       "      <td>0.324220</td>\n",
       "      <td>0.795756</td>\n",
       "      <td>0.115730</td>\n",
       "      <td>4.185134</td>\n",
       "    </tr>\n",
       "    <tr>\n",
       "      <th>3</th>\n",
       "      <td>0.174860</td>\n",
       "      <td>0.118865</td>\n",
       "      <td>0.510145</td>\n",
       "      <td>0.984710</td>\n",
       "      <td>0.415070</td>\n",
       "      <td>0.887213</td>\n",
       "      <td>0.941575</td>\n",
       "      <td>0.514211</td>\n",
       "      <td>0.703649</td>\n",
       "      <td>0.327186</td>\n",
       "      <td>8.288303</td>\n",
       "    </tr>\n",
       "    <tr>\n",
       "      <th>4</th>\n",
       "      <td>0.974973</td>\n",
       "      <td>0.721610</td>\n",
       "      <td>0.786799</td>\n",
       "      <td>0.024460</td>\n",
       "      <td>0.801757</td>\n",
       "      <td>0.148838</td>\n",
       "      <td>0.071539</td>\n",
       "      <td>0.754976</td>\n",
       "      <td>0.663770</td>\n",
       "      <td>0.311761</td>\n",
       "      <td>5.681353</td>\n",
       "    </tr>\n",
       "  </tbody>\n",
       "</table>\n",
       "</div>"
      ],
      "text/plain": [
       "          x0        x1        x2        x3        x4        x5        x6  \\\n",
       "id                                                                         \n",
       "0   0.578553  0.830800  0.254940  0.420119  0.481351  0.876553  0.057114   \n",
       "1   0.744140  0.876429  0.573956  0.838551  0.092669  0.110693  0.996091   \n",
       "2   0.408107  0.452961  0.485118  0.258277  0.723331  0.415332  0.118527   \n",
       "3   0.174860  0.118865  0.510145  0.984710  0.415070  0.887213  0.941575   \n",
       "4   0.974973  0.721610  0.786799  0.024460  0.801757  0.148838  0.071539   \n",
       "\n",
       "          x7        x8        x9        y0  \n",
       "id                                          \n",
       "0   0.542622  0.122846  0.792798  6.480924  \n",
       "1   0.111226  0.365169  0.462991  6.956070  \n",
       "2   0.324220  0.795756  0.115730  4.185134  \n",
       "3   0.514211  0.703649  0.327186  8.288303  \n",
       "4   0.754976  0.663770  0.311761  5.681353  "
      ]
     },
     "execution_count": 2,
     "metadata": {},
     "output_type": "execute_result"
    }
   ],
   "source": [
    "NUM_ROWS = 1000\n",
    "NUM_X_COLS = 10\n",
    "\n",
    "_x_val = np.random.random([NUM_ROWS, NUM_X_COLS])\n",
    "_x_df = pd.DataFrame(_x_val).add_prefix('x')\n",
    "\n",
    "_y_val = _x_val.sum(axis=1) + np.random.random([NUM_ROWS])*3\n",
    "_y_df = pd.DataFrame(_y_val).add_prefix('y')\n",
    "\n",
    "# Create a combined dataframe\n",
    "_input_df = pd.concat([_x_df, _y_df], axis=1)\n",
    "\n",
    "# Give the index a name so a primary key is created from it.\n",
    "_input_df.index.name = 'id'\n",
    "\n",
    "# create the table.\n",
    "INPUT_TABLE = 'udf_example_lr_in'\n",
    "kapi_io.save_df(_input_df, INPUT_TABLE, SCHEMA)\n",
    "_input_df.head()"
   ]
  },
  {
   "cell_type": "markdown",
   "metadata": {},
   "source": [
    "### Create empty output table\n",
    "\n",
    "Create an output table based on the input table with an additeional `predict` column."
   ]
  },
  {
   "cell_type": "code",
   "execution_count": 3,
   "metadata": {},
   "outputs": [
    {
     "name": "stdout",
     "output_type": "stream",
     "text": [
      "Dropping table: <udf_example_lr_out>\n",
      "Creating table: <udf_example_lr_out>\n",
      "Column 0: <id> (long) ['primary_key']\n",
      "Column 1: <x0> (float) []\n",
      "Column 2: <x1> (float) []\n",
      "Column 3: <x2> (float) []\n",
      "Column 4: <x3> (float) []\n",
      "Column 5: <x4> (float) []\n",
      "Column 6: <x5> (float) []\n",
      "Column 7: <x6> (float) []\n",
      "Column 8: <x7> (float) []\n",
      "Column 9: <x8> (float) []\n",
      "Column 10: <x9> (float) []\n",
      "Column 11: <y0> (float) []\n",
      "Column 12: <predict> (float) []\n",
      "Inserted rows into <TEST.udf_example_lr_out>: 0\n"
     ]
    }
   ],
   "source": [
    "_output_df = pd.DataFrame(data=None, dtype='float32', columns=_input_df.columns)\n",
    "_output_df['predict'] = pd.Series(None, dtype='float32')\n",
    "_output_df['id'] = pd.Series(None, dtype='int32')\n",
    "\n",
    "# set the index which will become the primary key\n",
    "_output_df.set_index('id', inplace=True)\n",
    "\n",
    "# create the table.\n",
    "OUTPUT_TABLE = 'udf_example_lr_out'\n",
    "kapi_io.save_df(_output_df, OUTPUT_TABLE, SCHEMA)"
   ]
  },
  {
   "cell_type": "markdown",
   "metadata": {},
   "source": [
    "### Create UDF training script\n",
    "\n",
    "This UDF will create a model from the input table and return the model ID."
   ]
  },
  {
   "cell_type": "code",
   "execution_count": 4,
   "metadata": {},
   "outputs": [
    {
     "name": "stdout",
     "output_type": "stream",
     "text": [
      "Overwriting udf_lr_train.py\n"
     ]
    }
   ],
   "source": [
    "%%writefile udf_lr_train.py\n",
    "###########################################################\n",
    "# Proc Name: lr_train\n",
    "# Input Params: in_table_name\n",
    "# Output Params: model_id, processed_rows\n",
    "###########################################################\n",
    "\n",
    "import gpudb\n",
    "import numpy as np\n",
    "import pandas as pd\n",
    "import pickle\n",
    "from sklearn.linear_model import LinearRegression\n",
    "from kmodel_io import KModelIO\n",
    "from kinetica_proc import ProcData\n",
    "import kapi_io\n",
    "\n",
    "PROC_DATA = ProcData()\n",
    "\n",
    "# Log some proc details.\n",
    "PROC_NAME = PROC_DATA.request_info['proc_name']\n",
    "RUN_ID = PROC_DATA.request_info['run_id']\n",
    "print('UDF Start: {} ({})'.format(PROC_NAME, RUN_ID))\n",
    "\n",
    "IN_TABLE_NAME = PROC_DATA.params['in_table_name']\n",
    "print('Got intput table: {}'.format(IN_TABLE_NAME))\n",
    "MODEL_NAME = 'LinearReg_Model'\n",
    "\n",
    "# read input table to a dataframe\n",
    "_in_df = kapi_io.load_df(IN_TABLE_NAME)\n",
    "_y_df = _in_df['y0']\n",
    "_x_df = _in_df.drop(['y0', 'id'], axis=1)\n",
    "\n",
    "_model = LinearRegression()\n",
    "_model.fit(X=_x_df, y=_y_df)\n",
    "print('LinearRegression coefficients: {}'.format(_model.coef_))\n",
    "\n",
    "# save model to database\n",
    "_model_pickle = pickle.dumps(_model)\n",
    "\n",
    "kio = KModelIO()\n",
    "_model_id = kio.Model2Kinetica(pbfile=_model_pickle, \n",
    "                   ModelName=MODEL_NAME, \n",
    "                   Loss=-99, \n",
    "                   COLLECTION='TEST')\n",
    "print('Saving model: {} ({})'.format(MODEL_NAME, _model_id))\n",
    "\n",
    "_result_rows = str(_in_df.shape[0])\n",
    "PROC_DATA.results['processed_rows'] = _result_rows\n",
    "PROC_DATA.results['model_id'] = _model_id\n",
    "PROC_DATA.complete()\n",
    "print('UDF Complete: {} rows ({})'.format(_result_rows, RUN_ID))"
   ]
  },
  {
   "cell_type": "markdown",
   "metadata": {},
   "source": [
    "### Run Training UDF\n",
    "\n",
    "We need to pass as a parameter the input table. It will create a model and we save the resulting model ID."
   ]
  },
  {
   "cell_type": "code",
   "execution_count": 5,
   "metadata": {},
   "outputs": [
    {
     "name": "stdout",
     "output_type": "stream",
     "text": [
      "Reading file: udf_lr_train.py\n",
      "Reading file: kmodel_io.py\n",
      "Reading file: kapi_io.py\n",
      "Creating UDF: lr_train [udf_lr_train.py, ../KJIO/kmodel_io.py, ../KJIO/kapi_io.py]\n",
      "Dropping older version of proc: lr_train \n",
      "Starting UDF: lr_train (id=12)\n",
      "   Input Tables: []\n",
      "   Output Tables: []\n",
      "[12] UDF Running... (0/1 complete) (time=0.0)\n",
      "[12] UDF Running... (1/1 complete) (time=5.0)\n",
      "[12] UDF finished with status: complete \n",
      "TOM 0: [complete] {'model_id': '99e4d4fc-903f-11e8-a356-0242ac130002', 'processed_rows': '1000'}  (time=3.6 sec)\n",
      "Generated model: 99e4d4fc-903f-11e8-a356-0242ac130002\n"
     ]
    }
   ],
   "source": [
    "%aimport kudf_io\n",
    "\n",
    "kudf_io.create_proc(\n",
    "    _proc_name='lr_train',\n",
    "    _file_paths=['udf_lr_train.py', '../KJIO/kmodel_io.py', '../KJIO/kapi_io.py'],\n",
    "    _execution_mode='nondistributed')\n",
    "\n",
    "_results = kudf_io.submit_proc(_proc_name='lr_train', \n",
    "                       _input_table_names=[], \n",
    "                       _output_table_names=[],\n",
    "                       _params={'in_table_name' : INPUT_TABLE})\n",
    "\n",
    "_model_id = _results['0']['model_id']\n",
    "print('Generated model: {}'.format(_model_id))"
   ]
  },
  {
   "cell_type": "markdown",
   "metadata": {},
   "source": [
    "### View saved models\n",
    "\n",
    "Model is saved to the TFmodel table. The next UDF will load it and do distributed inferencing."
   ]
  },
  {
   "cell_type": "code",
   "execution_count": 6,
   "metadata": {},
   "outputs": [
    {
     "name": "stdout",
     "output_type": "stream",
     "text": [
      "Connected to GPUdb ODBC Server (6.2.0.12.20180720232954)\n"
     ]
    },
    {
     "data": {
      "text/html": [
       "<div>\n",
       "<style scoped>\n",
       "    .dataframe tbody tr th:only-of-type {\n",
       "        vertical-align: middle;\n",
       "    }\n",
       "\n",
       "    .dataframe tbody tr th {\n",
       "        vertical-align: top;\n",
       "    }\n",
       "\n",
       "    .dataframe thead th {\n",
       "        text-align: right;\n",
       "    }\n",
       "</style>\n",
       "<table border=\"1\" class=\"dataframe\">\n",
       "  <thead>\n",
       "    <tr style=\"text-align: right;\">\n",
       "      <th></th>\n",
       "      <th>model</th>\n",
       "      <th>model_id</th>\n",
       "      <th>Accuracy</th>\n",
       "      <th>Data_Time_created</th>\n",
       "    </tr>\n",
       "  </thead>\n",
       "  <tbody>\n",
       "    <tr>\n",
       "      <th>0</th>\n",
       "      <td>LinearReg_Model</td>\n",
       "      <td>99e4d4fc-903f-11e8-a356-0242ac130002</td>\n",
       "      <td>-99.0</td>\n",
       "      <td>2018-07-25 19:19:06</td>\n",
       "    </tr>\n",
       "    <tr>\n",
       "      <th>1</th>\n",
       "      <td>LinearReg_Model</td>\n",
       "      <td>073a40ba-903f-11e8-b693-0242ac130002</td>\n",
       "      <td>-99.0</td>\n",
       "      <td>2018-07-25 19:15:00</td>\n",
       "    </tr>\n",
       "  </tbody>\n",
       "</table>\n",
       "</div>"
      ],
      "text/plain": [
       "             model                              model_id  Accuracy  \\\n",
       "0  LinearReg_Model  99e4d4fc-903f-11e8-a356-0242ac130002     -99.0   \n",
       "1  LinearReg_Model  073a40ba-903f-11e8-b693-0242ac130002     -99.0   \n",
       "\n",
       "    Data_Time_created  \n",
       "0 2018-07-25 19:19:06  \n",
       "1 2018-07-25 19:15:00  "
      ]
     },
     "execution_count": 6,
     "metadata": {},
     "output_type": "execute_result"
    }
   ],
   "source": [
    "kodbc_io.get_df(\"\"\"\n",
    "SELECT\n",
    "    model,\n",
    "    model_id,\n",
    "    accuracy,\n",
    "    data_time_created\n",
    "FROM TFmodel\n",
    "order by data_time_created desc\n",
    "\"\"\")"
   ]
  },
  {
   "cell_type": "markdown",
   "metadata": {},
   "source": [
    "### Create UDF inference script\n",
    "\n",
    "This UDF will use the model ID we pass and generate predictions which are saved in the output table."
   ]
  },
  {
   "cell_type": "code",
   "execution_count": 7,
   "metadata": {},
   "outputs": [
    {
     "name": "stdout",
     "output_type": "stream",
     "text": [
      "Overwriting udf_lr_infer.py\n"
     ]
    }
   ],
   "source": [
    "%%writefile udf_lr_infer.py\n",
    "###########################################################\n",
    "# Proc Name: lr_infer\n",
    "# Input Params: model_id\n",
    "# Output Params: result_rows, mse, variance\n",
    "###########################################################\n",
    "\n",
    "import gpudb\n",
    "import numpy as np\n",
    "import pickle\n",
    "from kmodel_io import KModelIO\n",
    "from kinetica_proc import ProcData\n",
    "from sklearn.metrics import mean_squared_error, r2_score\n",
    "\n",
    "_proc_data = ProcData()\n",
    "\n",
    "# Log some proc details.\n",
    "PROC_NAME = _proc_data.request_info['proc_name']\n",
    "DATA_SEGMENT_ID = _proc_data.request_info['data_segment_id']\n",
    "RUN_ID = _proc_data.request_info['run_id']\n",
    "print('UDF Start: {} ({}-{})'.format(PROC_NAME, RUN_ID, DATA_SEGMENT_ID))\n",
    "\n",
    "_in_table = _proc_data.input_data[0]\n",
    "_out_table = _proc_data.output_data[0]\n",
    "_out_table.size = _in_table.size\n",
    "\n",
    "# Load the model\n",
    "_model_id = _proc_data.params['model_id']\n",
    "print('Reading model: {}'.format(_model_id))\n",
    "_kio = KModelIO()\n",
    "_picklebytes = _kio.SkModel_from_Kinetica(_model_id)\n",
    "_model = pickle.loads(_picklebytes)\n",
    "\n",
    "# copy data colums to out table.\n",
    "for _idx, _col in enumerate(_in_table):\n",
    "    _out_table[_col.name][:] = _in_table[_col.name][:]\n",
    "\n",
    "# copy each column by name into a numpy array\n",
    "_y_values = _in_table['y0']\n",
    "_x_values = np.zeros((_in_table.size, 10), dtype=float)\n",
    "_x_col_names = ['x' + str(i) for i in range(10)]\n",
    "for _idx, _x_col in enumerate(_x_col_names):\n",
    "    _x_values[:,_idx] = _in_table[_x_col]\n",
    "\n",
    "_y_predict = _model.predict(_x_values)\n",
    "_out_table['predict'][:] = _y_predict\n",
    "\n",
    "# Calculate stats\n",
    "_mse = mean_squared_error(_y_values, _y_predict)\n",
    "_proc_data.results['mse'] = str(_mse)\n",
    "\n",
    "_variance = r2_score(_y_values, _y_predict)\n",
    "_proc_data.results['variance'] = str(_variance)\n",
    "\n",
    "_result_rows = str(_out_table.size)\n",
    "_proc_data.results['result_rows'] = _result_rows\n",
    "\n",
    "_proc_data.complete()\n",
    "\n",
    "print('UDF Complete: {} rows ({}-{})'.format(_result_rows, RUN_ID, DATA_SEGMENT_ID))"
   ]
  },
  {
   "cell_type": "markdown",
   "metadata": {},
   "source": [
    "### Run UDF inference script\n",
    "\n",
    "Run the inference UDF and pass the model ID generated by the training UDF."
   ]
  },
  {
   "cell_type": "code",
   "execution_count": 8,
   "metadata": {},
   "outputs": [
    {
     "name": "stdout",
     "output_type": "stream",
     "text": [
      "Reading file: udf_lr_infer.py\n",
      "Reading file: kmodel_io.py\n",
      "Creating UDF: lr_infer [udf_lr_infer.py, ../KJIO/kmodel_io.py]\n",
      "Dropping older version of proc: lr_infer \n",
      "Submitting proc with model: 99e4d4fc-903f-11e8-a356-0242ac130002\n",
      "Starting UDF: lr_infer (id=13)\n",
      "   Input Tables: ['udf_example_lr_in']\n",
      "   Output Tables: ['udf_example_lr_out']\n",
      "[13] UDF Running... (0/2 complete) (time=0.0)\n",
      "[13] UDF Running... (2/2 complete) (time=5.0)\n",
      "[13] UDF finished with status: complete \n",
      "TOM 0: [complete] {'mse': '0.8154020040933726', 'result_rows': '516', 'variance': '0.5373550737647687'}  (time=1.8 sec)\n",
      "TOM 1000: [complete] {'mse': '0.7414310222615849', 'result_rows': '484', 'variance': '0.5220175504006552'}  (time=1.8 sec)\n"
     ]
    }
   ],
   "source": [
    "%aimport kudf_io\n",
    "\n",
    "kudf_io.create_proc(\n",
    "    _proc_name='lr_infer',\n",
    "    _file_paths=['udf_lr_infer.py', '../KJIO/kmodel_io.py'],\n",
    "    _execution_mode='distributed')\n",
    "\n",
    "print('Submitting proc with model: {}'.format(_model_id))\n",
    "_run_id = kudf_io.submit_proc(_proc_name='lr_infer', \n",
    "                       _input_table_names=[INPUT_TABLE], \n",
    "                       _output_table_names=[OUTPUT_TABLE],\n",
    "                       _params={'model_id' : _model_id})"
   ]
  },
  {
   "cell_type": "markdown",
   "metadata": {},
   "source": [
    "### Analyze results\n",
    "\n",
    "Use SQL to compare the actuals with predictions."
   ]
  },
  {
   "cell_type": "code",
   "execution_count": 9,
   "metadata": {},
   "outputs": [
    {
     "name": "stdout",
     "output_type": "stream",
     "text": [
      "Connected to GPUdb ODBC Server (6.2.0.12.20180720232954)\n"
     ]
    },
    {
     "data": {
      "text/html": [
       "<div>\n",
       "<style scoped>\n",
       "    .dataframe tbody tr th:only-of-type {\n",
       "        vertical-align: middle;\n",
       "    }\n",
       "\n",
       "    .dataframe tbody tr th {\n",
       "        vertical-align: top;\n",
       "    }\n",
       "\n",
       "    .dataframe thead th {\n",
       "        text-align: right;\n",
       "    }\n",
       "</style>\n",
       "<table border=\"1\" class=\"dataframe\">\n",
       "  <thead>\n",
       "    <tr style=\"text-align: right;\">\n",
       "      <th></th>\n",
       "      <th>real_value</th>\n",
       "      <th>predict</th>\n",
       "      <th>error</th>\n",
       "    </tr>\n",
       "  </thead>\n",
       "  <tbody>\n",
       "    <tr>\n",
       "      <th>0</th>\n",
       "      <td>6.480924</td>\n",
       "      <td>6.409591</td>\n",
       "      <td>0.071333</td>\n",
       "    </tr>\n",
       "    <tr>\n",
       "      <th>1</th>\n",
       "      <td>6.956070</td>\n",
       "      <td>6.728884</td>\n",
       "      <td>0.227186</td>\n",
       "    </tr>\n",
       "    <tr>\n",
       "      <th>2</th>\n",
       "      <td>4.185134</td>\n",
       "      <td>5.564436</td>\n",
       "      <td>1.379302</td>\n",
       "    </tr>\n",
       "    <tr>\n",
       "      <th>3</th>\n",
       "      <td>8.288303</td>\n",
       "      <td>7.179564</td>\n",
       "      <td>1.108739</td>\n",
       "    </tr>\n",
       "    <tr>\n",
       "      <th>4</th>\n",
       "      <td>5.681353</td>\n",
       "      <td>6.597044</td>\n",
       "      <td>0.915690</td>\n",
       "    </tr>\n",
       "    <tr>\n",
       "      <th>5</th>\n",
       "      <td>3.837377</td>\n",
       "      <td>5.169572</td>\n",
       "      <td>1.332196</td>\n",
       "    </tr>\n",
       "    <tr>\n",
       "      <th>6</th>\n",
       "      <td>6.397273</td>\n",
       "      <td>6.450260</td>\n",
       "      <td>0.052987</td>\n",
       "    </tr>\n",
       "    <tr>\n",
       "      <th>7</th>\n",
       "      <td>4.830026</td>\n",
       "      <td>5.284570</td>\n",
       "      <td>0.454544</td>\n",
       "    </tr>\n",
       "    <tr>\n",
       "      <th>8</th>\n",
       "      <td>6.626303</td>\n",
       "      <td>5.911208</td>\n",
       "      <td>0.715095</td>\n",
       "    </tr>\n",
       "    <tr>\n",
       "      <th>9</th>\n",
       "      <td>8.302239</td>\n",
       "      <td>7.144397</td>\n",
       "      <td>1.157842</td>\n",
       "    </tr>\n",
       "  </tbody>\n",
       "</table>\n",
       "</div>"
      ],
      "text/plain": [
       "   real_value   predict     error\n",
       "0    6.480924  6.409591  0.071333\n",
       "1    6.956070  6.728884  0.227186\n",
       "2    4.185134  5.564436  1.379302\n",
       "3    8.288303  7.179564  1.108739\n",
       "4    5.681353  6.597044  0.915690\n",
       "5    3.837377  5.169572  1.332196\n",
       "6    6.397273  6.450260  0.052987\n",
       "7    4.830026  5.284570  0.454544\n",
       "8    6.626303  5.911208  0.715095\n",
       "9    8.302239  7.144397  1.157842"
      ]
     },
     "execution_count": 9,
     "metadata": {},
     "output_type": "execute_result"
    }
   ],
   "source": [
    "kodbc_io.get_df(\"\"\"\n",
    "SELECT\n",
    "    y0 AS real_value, \n",
    "    predict, \n",
    "    ABS(y0 - predict) AS error\n",
    "FROM {}\n",
    "LIMIT 10\n",
    "\"\"\".format(OUTPUT_TABLE))"
   ]
  }
 ],
 "metadata": {
  "kernelspec": {
   "display_name": "Python 3",
   "language": "python",
   "name": "python3"
  },
  "language_info": {
   "codemirror_mode": {
    "name": "ipython",
    "version": 3
   },
   "file_extension": ".py",
   "mimetype": "text/x-python",
   "name": "python",
   "nbconvert_exporter": "python",
   "pygments_lexer": "ipython3",
   "version": "3.6.5"
  }
 },
 "nbformat": 4,
 "nbformat_minor": 2
}
