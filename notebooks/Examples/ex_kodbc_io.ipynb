{
 "cells": [
  {
   "cell_type": "markdown",
   "metadata": {},
   "source": [
    "# Examples for Kinetica ODBC\n",
    "\n",
    "The following steps will test:\n",
    "1. Creating a table with DDL.\n",
    "2. Saving a Dataframe to a table.\n",
    "2. Loading a table to a dataframe.\n",
    "\n",
    "For this to work the Kinetica driver and connection must be configured in `/etc/odbcinst.ini` and `/etc/odbc.ini`.\n",
    "\n",
    "See also:\n",
    "* [PyODBC Wiki](https://github.com/mkleehammer/pyodbc/wiki)\n",
    "* [Pandas SQL I/O](https://pandas.pydata.org/pandas-docs/stable/io.html#io-sql)"
   ]
  },
  {
   "cell_type": "markdown",
   "metadata": {},
   "source": [
    "### Import kodbc_io script."
   ]
  },
  {
   "cell_type": "code",
   "execution_count": 1,
   "metadata": {},
   "outputs": [
    {
     "name": "stderr",
     "output_type": "stream",
     "text": [
      "/usr/lib64/python3.6/importlib/_bootstrap.py:219: RuntimeWarning: numpy.dtype size changed, may indicate binary incompatibility. Expected 96, got 88\n",
      "  return f(*args, **kwds)\n",
      "/usr/lib64/python3.6/importlib/_bootstrap.py:219: RuntimeWarning: numpy.dtype size changed, may indicate binary incompatibility. Expected 96, got 88\n",
      "  return f(*args, **kwds)\n"
     ]
    }
   ],
   "source": [
    "# Local libraries should automatically reload\n",
    "%reload_ext autoreload\n",
    "%autoreload 1\n",
    "\n",
    "# to access Kinetica Jupyter I/O functions\n",
    "import sys\n",
    "sys.path.append('../KJIO') \n",
    "\n",
    "%aimport kodbc_io\n",
    "SCHEMA = 'TEST'"
   ]
  },
  {
   "cell_type": "markdown",
   "metadata": {},
   "source": [
    "### Function get_odbc()\n",
    "\n",
    "Convenience function to get a kinetica ODBC connection."
   ]
  },
  {
   "cell_type": "markdown",
   "metadata": {},
   "source": [
    "### Create test table"
   ]
  },
  {
   "cell_type": "code",
   "execution_count": 2,
   "metadata": {},
   "outputs": [
    {
     "name": "stdout",
     "output_type": "stream",
     "text": [
      "Connected to GPUdb ODBC Server (6.2.0.12.20180720232954)\n",
      "Created table: test_odbc\n"
     ]
    }
   ],
   "source": [
    "_sql = '''\n",
    "create or replace replicated table {}.test_odbc (\n",
    "    str_col    varchar(16) not null,\n",
    "    double_col double not null,     \n",
    "    float_col  float not null,    \n",
    "    int_col    integer not null\n",
    ")\n",
    "'''.format(SCHEMA)\n",
    "\n",
    "_cnxn = kodbc_io.get_odbc()\n",
    "_cnxn.execute(_sql)\n",
    "_cnxn.close()\n",
    "\n",
    "print('Created table: test_odbc')"
   ]
  },
  {
   "cell_type": "markdown",
   "metadata": {},
   "source": [
    "### Create test dataset"
   ]
  },
  {
   "cell_type": "code",
   "execution_count": 3,
   "metadata": {},
   "outputs": [
    {
     "data": {
      "text/html": [
       "<div>\n",
       "<style scoped>\n",
       "    .dataframe tbody tr th:only-of-type {\n",
       "        vertical-align: middle;\n",
       "    }\n",
       "\n",
       "    .dataframe tbody tr th {\n",
       "        vertical-align: top;\n",
       "    }\n",
       "\n",
       "    .dataframe thead th {\n",
       "        text-align: right;\n",
       "    }\n",
       "</style>\n",
       "<table border=\"1\" class=\"dataframe\">\n",
       "  <thead>\n",
       "    <tr style=\"text-align: right;\">\n",
       "      <th></th>\n",
       "      <th>str_col</th>\n",
       "      <th>double_col</th>\n",
       "      <th>float_col</th>\n",
       "      <th>int_col</th>\n",
       "    </tr>\n",
       "  </thead>\n",
       "  <tbody>\n",
       "    <tr>\n",
       "      <th>0</th>\n",
       "      <td>A</td>\n",
       "      <td>1.0</td>\n",
       "      <td>0.0</td>\n",
       "      <td>7</td>\n",
       "    </tr>\n",
       "    <tr>\n",
       "      <th>1</th>\n",
       "      <td>B</td>\n",
       "      <td>1.0</td>\n",
       "      <td>1.0</td>\n",
       "      <td>-22</td>\n",
       "    </tr>\n",
       "    <tr>\n",
       "      <th>2</th>\n",
       "      <td>C</td>\n",
       "      <td>1.0</td>\n",
       "      <td>2.0</td>\n",
       "      <td>16</td>\n",
       "    </tr>\n",
       "    <tr>\n",
       "      <th>3</th>\n",
       "      <td>D</td>\n",
       "      <td>1.0</td>\n",
       "      <td>3.0</td>\n",
       "      <td>0</td>\n",
       "    </tr>\n",
       "  </tbody>\n",
       "</table>\n",
       "</div>"
      ],
      "text/plain": [
       "  str_col  double_col  float_col  int_col\n",
       "0       A         1.0        0.0        7\n",
       "1       B         1.0        1.0      -22\n",
       "2       C         1.0        2.0       16\n",
       "3       D         1.0        3.0        0"
      ]
     },
     "execution_count": 3,
     "metadata": {},
     "output_type": "execute_result"
    }
   ],
   "source": [
    "import numpy as np\n",
    "import pandas as pd\n",
    "\n",
    "# Create a dataframe from a dict of series. \n",
    "_test_df = pd.DataFrame({ \n",
    "    'str_col' : ['A', 'B', 'C', 'D'],\n",
    "    #'cat_col' : pd.Categorical([\"test\",\"train\",\"test\",\"train\"]),\n",
    "    'double_col' : 1.,\n",
    "    #'ts_col' : pd.date_range('1/1/2000', periods=4),\n",
    "    'float_col' : pd.Series(range(4), dtype='float32'),\n",
    "    'int_col' : np.array(np.random.randn(4)*10, dtype='int32')\n",
    "    })\n",
    "\n",
    "_test_df.head()"
   ]
  },
  {
   "cell_type": "markdown",
   "metadata": {},
   "source": [
    "### Insert rows into test_odbc table"
   ]
  },
  {
   "cell_type": "code",
   "execution_count": 4,
   "metadata": {},
   "outputs": [
    {
     "name": "stdout",
     "output_type": "stream",
     "text": [
      "Connected to GPUdb ODBC Server (6.2.0.12.20180720232954)\n",
      "Inserted 4 rows.\n"
     ]
    }
   ],
   "source": [
    "_sql = '''\n",
    "insert into test_odbc (str_col, double_col, float_col, int_col)\n",
    "values (?, ?, ?, ?)\n",
    "'''\n",
    "\n",
    "_records = _test_df.to_records(index=False)\n",
    "_cnxn = kodbc_io.get_odbc()\n",
    "_cursor = _cnxn.cursor()\n",
    "\n",
    "for _row in _records:\n",
    "    _cursor.execute(_sql, *_row.item())\n",
    "\n",
    "_cnxn.close()\n",
    "print('Inserted {} rows.'.format(len(_records)))"
   ]
  },
  {
   "cell_type": "markdown",
   "metadata": {},
   "source": [
    "### Read table to dataframe\n",
    "\n",
    "Here we use the Panads `read_sql()` function to fetch the sql into a Dataframe."
   ]
  },
  {
   "cell_type": "code",
   "execution_count": 5,
   "metadata": {},
   "outputs": [],
   "source": [
    "import pandas as pd\n",
    "\n",
    "def kodbc_read_sql(_sql):\n",
    "    _cnxn = get_odbc()\n",
    "    _sql_df = pd.read_sql(_sql, _cnxn)\n",
    "    _cnxn.close()\n",
    "    return _sql_df"
   ]
  },
  {
   "cell_type": "code",
   "execution_count": 6,
   "metadata": {},
   "outputs": [
    {
     "name": "stdout",
     "output_type": "stream",
     "text": [
      "Connected to GPUdb ODBC Server (6.2.0.12.20180720232954)\n"
     ]
    },
    {
     "data": {
      "text/html": [
       "<div>\n",
       "<style scoped>\n",
       "    .dataframe tbody tr th:only-of-type {\n",
       "        vertical-align: middle;\n",
       "    }\n",
       "\n",
       "    .dataframe tbody tr th {\n",
       "        vertical-align: top;\n",
       "    }\n",
       "\n",
       "    .dataframe thead th {\n",
       "        text-align: right;\n",
       "    }\n",
       "</style>\n",
       "<table border=\"1\" class=\"dataframe\">\n",
       "  <thead>\n",
       "    <tr style=\"text-align: right;\">\n",
       "      <th></th>\n",
       "      <th>str_col</th>\n",
       "      <th>double_col</th>\n",
       "      <th>float_col</th>\n",
       "      <th>int_col</th>\n",
       "    </tr>\n",
       "  </thead>\n",
       "  <tbody>\n",
       "    <tr>\n",
       "      <th>0</th>\n",
       "      <td>A</td>\n",
       "      <td>1.0</td>\n",
       "      <td>0.0</td>\n",
       "      <td>7</td>\n",
       "    </tr>\n",
       "    <tr>\n",
       "      <th>1</th>\n",
       "      <td>B</td>\n",
       "      <td>1.0</td>\n",
       "      <td>1.0</td>\n",
       "      <td>-22</td>\n",
       "    </tr>\n",
       "    <tr>\n",
       "      <th>2</th>\n",
       "      <td>C</td>\n",
       "      <td>1.0</td>\n",
       "      <td>2.0</td>\n",
       "      <td>16</td>\n",
       "    </tr>\n",
       "    <tr>\n",
       "      <th>3</th>\n",
       "      <td>D</td>\n",
       "      <td>1.0</td>\n",
       "      <td>3.0</td>\n",
       "      <td>0</td>\n",
       "    </tr>\n",
       "  </tbody>\n",
       "</table>\n",
       "</div>"
      ],
      "text/plain": [
       "  str_col  double_col  float_col  int_col\n",
       "0       A         1.0        0.0        7\n",
       "1       B         1.0        1.0      -22\n",
       "2       C         1.0        2.0       16\n",
       "3       D         1.0        3.0        0"
      ]
     },
     "execution_count": 6,
     "metadata": {},
     "output_type": "execute_result"
    }
   ],
   "source": [
    "_sql_df = kodbc_io.get_df('select * from test_odbc')\n",
    "_sql_df"
   ]
  },
  {
   "cell_type": "markdown",
   "metadata": {},
   "source": [
    "### Check type conversions\n",
    "\n",
    "Kietica types are converted to Pandas datatypes."
   ]
  },
  {
   "cell_type": "code",
   "execution_count": 7,
   "metadata": {},
   "outputs": [
    {
     "data": {
      "text/plain": [
       "str_col        object\n",
       "double_col    float64\n",
       "float_col     float64\n",
       "int_col         int64\n",
       "dtype: object"
      ]
     },
     "execution_count": 7,
     "metadata": {},
     "output_type": "execute_result"
    }
   ],
   "source": [
    "_sql_df.dtypes"
   ]
  }
 ],
 "metadata": {
  "kernelspec": {
   "display_name": "Python 3",
   "language": "python",
   "name": "python3"
  },
  "language_info": {
   "codemirror_mode": {
    "name": "ipython",
    "version": 3
   },
   "file_extension": ".py",
   "mimetype": "text/x-python",
   "name": "python",
   "nbconvert_exporter": "python",
   "pygments_lexer": "ipython3",
   "version": "3.6.5"
  }
 },
 "nbformat": 4,
 "nbformat_minor": 2
}
