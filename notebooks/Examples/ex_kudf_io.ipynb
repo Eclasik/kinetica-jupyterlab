{
 "cells": [
  {
   "cell_type": "markdown",
   "metadata": {},
   "source": [
    "# Example UDF Sum-of-squares\n",
    "\n",
    "This turtorial performs the following steps:\n",
    "\n",
    "1. Create input table `udf_sos_in` with 1000 rows of random data for $x_1$ and $x_2$.\n",
    "2. Create output table `udf_sos_out` where results will be stored.\n",
    "2. Create a UDF that will calculate $y={x_1}^2+{x_2}^2 $ from the input table and save results to the output table.\n",
    "4. Execute the UDF.\n",
    "5. Compare the actual and expected results.\n",
    "\n",
    "Also See:\n",
    "* [Sum of Squares Tutorial](https://www.kinetica.com/docs/udf/python/examples/dist_noncuda_sum_of_squares/dist_noncuda_sum_of_squares.html)\n",
    "* [Running Python UDFs](https://www.kinetica.com/docs/udf/python/running.html)\n",
    "* [Python UDF API](https://www.kinetica.com/docs/udf/python/writing.html)\n",
    "* [UDF Simulator](https://www.kinetica.com/docs/udf/simulating_udfs.html)\n"
   ]
  },
  {
   "cell_type": "markdown",
   "metadata": {},
   "source": [
    "### Import dependencies"
   ]
  },
  {
   "cell_type": "code",
   "execution_count": 1,
   "metadata": {},
   "outputs": [
    {
     "name": "stderr",
     "output_type": "stream",
     "text": [
      "/usr/lib64/python3.6/importlib/_bootstrap.py:219: RuntimeWarning: numpy.dtype size changed, may indicate binary incompatibility. Expected 96, got 88\n",
      "  return f(*args, **kwds)\n",
      "/usr/lib64/python3.6/importlib/_bootstrap.py:219: RuntimeWarning: numpy.dtype size changed, may indicate binary incompatibility. Expected 96, got 88\n",
      "  return f(*args, **kwds)\n"
     ]
    }
   ],
   "source": [
    "# Local libraries should automatically reload\n",
    "%reload_ext autoreload\n",
    "%autoreload 1\n",
    "\n",
    "# to access Kinetica Jupyter I/O functions\n",
    "import sys\n",
    "sys.path.append('../KJIO') \n",
    "\n",
    "import numpy as np\n",
    "import pandas as pd\n",
    "\n",
    "%aimport kodbc_io\n",
    "%aimport kapi_io\n",
    "\n",
    "INPUT_TABLE = 'udf_example_sos_in'\n",
    "OUTPUT_TABLE = 'udf_example_sos_out'\n",
    "SCHEMA = 'TEST'"
   ]
  },
  {
   "cell_type": "markdown",
   "metadata": {},
   "source": [
    "### Create input data table\n",
    "\n",
    "Create a table named with `udf_sos_in` with 1000 rows of random numbers into x1 and x2 colomns. "
   ]
  },
  {
   "cell_type": "code",
   "execution_count": 2,
   "metadata": {},
   "outputs": [
    {
     "name": "stdout",
     "output_type": "stream",
     "text": [
      "Dropping table: <udf_example_sos_in>\n",
      "Creating table: <udf_example_sos_in>\n",
      "Column 0: <id> (long) ['primary_key']\n",
      "Column 1: <x1> (float) []\n",
      "Column 2: <x2> (float) []\n",
      "Inserted rows into <TEST.udf_example_sos_in>: 1000\n"
     ]
    }
   ],
   "source": [
    "NUM_ROWS = 1000\n",
    "\n",
    "# Create a dataframe from a dict of series. \n",
    "_input_df = pd.DataFrame({ \n",
    "    'id' : np.array(range(NUM_ROWS), dtype='int32'),\n",
    "    'x1' : pd.Series(np.random.randn(NUM_ROWS)*10, dtype='float32'),\n",
    "    'x2' : pd.Series(np.random.randn(NUM_ROWS)*10, dtype='float32'),\n",
    "    }).set_index('id')\n",
    "\n",
    "kapi_io.save_df(_input_df, INPUT_TABLE, SCHEMA)"
   ]
  },
  {
   "cell_type": "markdown",
   "metadata": {},
   "source": [
    "### View Input table contents"
   ]
  },
  {
   "cell_type": "code",
   "execution_count": 3,
   "metadata": {},
   "outputs": [
    {
     "name": "stdout",
     "output_type": "stream",
     "text": [
      "Connected to GPUdb ODBC Server (6.2.0.12.20180720232954)\n"
     ]
    },
    {
     "data": {
      "text/html": [
       "<div>\n",
       "<style scoped>\n",
       "    .dataframe tbody tr th:only-of-type {\n",
       "        vertical-align: middle;\n",
       "    }\n",
       "\n",
       "    .dataframe tbody tr th {\n",
       "        vertical-align: top;\n",
       "    }\n",
       "\n",
       "    .dataframe thead th {\n",
       "        text-align: right;\n",
       "    }\n",
       "</style>\n",
       "<table border=\"1\" class=\"dataframe\">\n",
       "  <thead>\n",
       "    <tr style=\"text-align: right;\">\n",
       "      <th></th>\n",
       "      <th>id</th>\n",
       "      <th>x1</th>\n",
       "      <th>x2</th>\n",
       "    </tr>\n",
       "  </thead>\n",
       "  <tbody>\n",
       "    <tr>\n",
       "      <th>0</th>\n",
       "      <td>0</td>\n",
       "      <td>-10.361672</td>\n",
       "      <td>13.911313</td>\n",
       "    </tr>\n",
       "    <tr>\n",
       "      <th>1</th>\n",
       "      <td>1</td>\n",
       "      <td>-7.041492</td>\n",
       "      <td>10.108344</td>\n",
       "    </tr>\n",
       "    <tr>\n",
       "      <th>2</th>\n",
       "      <td>2</td>\n",
       "      <td>13.620737</td>\n",
       "      <td>-3.828699</td>\n",
       "    </tr>\n",
       "    <tr>\n",
       "      <th>3</th>\n",
       "      <td>3</td>\n",
       "      <td>14.187577</td>\n",
       "      <td>-7.668947</td>\n",
       "    </tr>\n",
       "    <tr>\n",
       "      <th>4</th>\n",
       "      <td>4</td>\n",
       "      <td>13.199041</td>\n",
       "      <td>2.597409</td>\n",
       "    </tr>\n",
       "    <tr>\n",
       "      <th>5</th>\n",
       "      <td>5</td>\n",
       "      <td>12.789336</td>\n",
       "      <td>-13.196888</td>\n",
       "    </tr>\n",
       "    <tr>\n",
       "      <th>6</th>\n",
       "      <td>9</td>\n",
       "      <td>0.255070</td>\n",
       "      <td>-14.228614</td>\n",
       "    </tr>\n",
       "    <tr>\n",
       "      <th>7</th>\n",
       "      <td>16</td>\n",
       "      <td>-3.547219</td>\n",
       "      <td>-5.768481</td>\n",
       "    </tr>\n",
       "    <tr>\n",
       "      <th>8</th>\n",
       "      <td>19</td>\n",
       "      <td>-5.373274</td>\n",
       "      <td>-10.674331</td>\n",
       "    </tr>\n",
       "    <tr>\n",
       "      <th>9</th>\n",
       "      <td>22</td>\n",
       "      <td>3.114088</td>\n",
       "      <td>18.321789</td>\n",
       "    </tr>\n",
       "  </tbody>\n",
       "</table>\n",
       "</div>"
      ],
      "text/plain": [
       "   id         x1         x2\n",
       "0   0 -10.361672  13.911313\n",
       "1   1  -7.041492  10.108344\n",
       "2   2  13.620737  -3.828699\n",
       "3   3  14.187577  -7.668947\n",
       "4   4  13.199041   2.597409\n",
       "5   5  12.789336 -13.196888\n",
       "6   9   0.255070 -14.228614\n",
       "7  16  -3.547219  -5.768481\n",
       "8  19  -5.373274 -10.674331\n",
       "9  22   3.114088  18.321789"
      ]
     },
     "execution_count": 3,
     "metadata": {},
     "output_type": "execute_result"
    }
   ],
   "source": [
    "kodbc_io.get_df(\"\"\"\n",
    "select top 10 * from {}\n",
    "\"\"\".format(INPUT_TABLE))"
   ]
  },
  {
   "cell_type": "markdown",
   "metadata": {},
   "source": [
    "### Create an empty output table"
   ]
  },
  {
   "cell_type": "code",
   "execution_count": 4,
   "metadata": {},
   "outputs": [
    {
     "name": "stdout",
     "output_type": "stream",
     "text": [
      "Dropping table: <udf_example_sos_out>\n",
      "Creating table: <udf_example_sos_out>\n",
      "Column 0: <id> (long) ['primary_key']\n",
      "Column 1: <y> (float) []\n",
      "Inserted rows into <TEST.udf_example_sos_out>: 0\n"
     ]
    }
   ],
   "source": [
    "_output_df = pd.DataFrame({ \n",
    "    'id' : pd.Series(None, dtype='int32'),\n",
    "    'y' : pd.Series(None, dtype='float32'),\n",
    "    }).set_index('id')\n",
    "\n",
    "kapi_io.save_df(_output_df, OUTPUT_TABLE, SCHEMA)"
   ]
  },
  {
   "cell_type": "markdown",
   "metadata": {},
   "source": [
    "### Below is the contents of the UDF\n",
    "\n",
    "A python file named `udf_sos_proc.py` will be saved in the current folder"
   ]
  },
  {
   "cell_type": "code",
   "execution_count": 5,
   "metadata": {},
   "outputs": [
    {
     "name": "stdout",
     "output_type": "stream",
     "text": [
      "Overwriting udf_sos_proc.py\n"
     ]
    }
   ],
   "source": [
    "%%writefile udf_sos_proc.py\n",
    "from kinetica_proc import ProcData\n",
    "proc_data = ProcData()\n",
    "\n",
    "proc_name = proc_data.request_info['proc_name']\n",
    "data_segment_id = proc_data.request_info['data_segment_id']\n",
    "run_id = proc_data.request_info['run_id']\n",
    "print('UDF Start: {} ({}-{})'.format(proc_name, run_id, data_segment_id))\n",
    "\n",
    "in_table = proc_data.input_data[0]\n",
    "col_in_x1 = in_table['x1']\n",
    "col_in_x2 = in_table['x2']\n",
    "col_in_id = in_table['id']\n",
    "\n",
    "out_table = proc_data.output_data[0]\n",
    "col_out_y = out_table['y']\n",
    "col_out_id = out_table['id']\n",
    "\n",
    "# Extend the output table by the number of record entries in the input table\n",
    "out_table.size = in_table.size\n",
    "\n",
    "# Use the first column in the output table as the output column\n",
    "# Loop through all the input table columns\n",
    "for i in xrange(0, in_table.size):\n",
    "    col_out_y[i] = col_in_x1[i]**2 + col_in_x2[i]**2\n",
    "    col_out_id[i] = col_in_id[i]\n",
    "\n",
    "# we will get the results when the proc finishes\n",
    "result_rows = str(out_table.size)\n",
    "proc_data.results['result_rows'] = result_rows\n",
    "proc_data.complete()\n",
    "\n",
    "print('UDF Complete: {} rows ({}-{})'.format(result_rows, run_id, data_segment_id))"
   ]
  },
  {
   "cell_type": "markdown",
   "metadata": {},
   "source": [
    "### Execute the UDF\n",
    "\n",
    "Submit the script for execution and monitor the results."
   ]
  },
  {
   "cell_type": "code",
   "execution_count": 6,
   "metadata": {},
   "outputs": [
    {
     "name": "stdout",
     "output_type": "stream",
     "text": [
      "Reading file: udf_sos_proc.py\n",
      "Creating UDF: sos_proc [./udf_sos_proc.py]\n",
      "Dropping older version of proc: sos_proc \n",
      "Starting UDF: sos_proc (id=7)\n",
      "   Input Tables: ['udf_example_sos_in']\n",
      "   Output Tables: ['udf_example_sos_out']\n",
      "[7] UDF Running... (0/2 complete) (time=0.0)\n",
      "[7] UDF Running... (2/2 complete) (time=5.0)\n",
      "[7] UDF finished with status: complete \n",
      "TOM 0: [complete] {'result_rows': '516'}  (time=0.6 sec)\n",
      "TOM 1000: [complete] {'result_rows': '484'}  (time=0.6 sec)\n"
     ]
    },
    {
     "data": {
      "text/plain": [
       "{'0': {'result_rows': '516'}, '1000': {'result_rows': '484'}}"
      ]
     },
     "execution_count": 6,
     "metadata": {},
     "output_type": "execute_result"
    }
   ],
   "source": [
    "%aimport kudf_io\n",
    "\n",
    "kudf_io.create_proc(\n",
    "    _proc_name='sos_proc',\n",
    "    _file_paths=['./udf_sos_proc.py'])\n",
    "\n",
    "_result = kudf_io.submit_proc(_proc_name='sos_proc', \n",
    "                    _params={},\n",
    "                    _input_table_names=[INPUT_TABLE], \n",
    "                    _output_table_names=[OUTPUT_TABLE])"
   ]
  },
  {
   "cell_type": "markdown",
   "metadata": {},
   "source": [
    "### Query the results\n",
    "\n",
    "We should see that the `diff` column shows zero."
   ]
  },
  {
   "cell_type": "code",
   "execution_count": 7,
   "metadata": {},
   "outputs": [
    {
     "name": "stdout",
     "output_type": "stream",
     "text": [
      "Connected to GPUdb ODBC Server (6.2.0.12.20180720232954)\n"
     ]
    },
    {
     "data": {
      "text/html": [
       "<div>\n",
       "<style scoped>\n",
       "    .dataframe tbody tr th:only-of-type {\n",
       "        vertical-align: middle;\n",
       "    }\n",
       "\n",
       "    .dataframe tbody tr th {\n",
       "        vertical-align: top;\n",
       "    }\n",
       "\n",
       "    .dataframe thead th {\n",
       "        text-align: right;\n",
       "    }\n",
       "</style>\n",
       "<table border=\"1\" class=\"dataframe\">\n",
       "  <thead>\n",
       "    <tr style=\"text-align: right;\">\n",
       "      <th></th>\n",
       "      <th>x1</th>\n",
       "      <th>x2</th>\n",
       "      <th>actual_result</th>\n",
       "      <th>expected_result</th>\n",
       "      <th>diff</th>\n",
       "    </tr>\n",
       "  </thead>\n",
       "  <tbody>\n",
       "    <tr>\n",
       "      <th>0</th>\n",
       "      <td>-10.361672</td>\n",
       "      <td>13.911313</td>\n",
       "      <td>300.888885</td>\n",
       "      <td>300.888885</td>\n",
       "      <td>0.000000</td>\n",
       "    </tr>\n",
       "    <tr>\n",
       "      <th>1</th>\n",
       "      <td>-7.041492</td>\n",
       "      <td>10.108344</td>\n",
       "      <td>151.761215</td>\n",
       "      <td>151.761230</td>\n",
       "      <td>0.000015</td>\n",
       "    </tr>\n",
       "    <tr>\n",
       "      <th>2</th>\n",
       "      <td>13.620737</td>\n",
       "      <td>-3.828699</td>\n",
       "      <td>200.183411</td>\n",
       "      <td>200.183411</td>\n",
       "      <td>0.000000</td>\n",
       "    </tr>\n",
       "    <tr>\n",
       "      <th>3</th>\n",
       "      <td>14.187577</td>\n",
       "      <td>-7.668947</td>\n",
       "      <td>260.100098</td>\n",
       "      <td>260.100098</td>\n",
       "      <td>0.000000</td>\n",
       "    </tr>\n",
       "    <tr>\n",
       "      <th>4</th>\n",
       "      <td>13.199041</td>\n",
       "      <td>2.597409</td>\n",
       "      <td>180.961227</td>\n",
       "      <td>180.961227</td>\n",
       "      <td>0.000000</td>\n",
       "    </tr>\n",
       "    <tr>\n",
       "      <th>5</th>\n",
       "      <td>12.789336</td>\n",
       "      <td>-13.196888</td>\n",
       "      <td>337.724976</td>\n",
       "      <td>337.724976</td>\n",
       "      <td>0.000000</td>\n",
       "    </tr>\n",
       "    <tr>\n",
       "      <th>6</th>\n",
       "      <td>0.255070</td>\n",
       "      <td>-14.228614</td>\n",
       "      <td>202.518509</td>\n",
       "      <td>202.518509</td>\n",
       "      <td>0.000000</td>\n",
       "    </tr>\n",
       "    <tr>\n",
       "      <th>7</th>\n",
       "      <td>-3.547219</td>\n",
       "      <td>-5.768481</td>\n",
       "      <td>45.858131</td>\n",
       "      <td>45.858131</td>\n",
       "      <td>0.000000</td>\n",
       "    </tr>\n",
       "    <tr>\n",
       "      <th>8</th>\n",
       "      <td>-5.373274</td>\n",
       "      <td>-10.674331</td>\n",
       "      <td>142.813416</td>\n",
       "      <td>142.813416</td>\n",
       "      <td>0.000000</td>\n",
       "    </tr>\n",
       "    <tr>\n",
       "      <th>9</th>\n",
       "      <td>3.114088</td>\n",
       "      <td>18.321789</td>\n",
       "      <td>345.385498</td>\n",
       "      <td>345.385498</td>\n",
       "      <td>0.000000</td>\n",
       "    </tr>\n",
       "  </tbody>\n",
       "</table>\n",
       "</div>"
      ],
      "text/plain": [
       "          x1         x2  actual_result  expected_result      diff\n",
       "0 -10.361672  13.911313     300.888885       300.888885  0.000000\n",
       "1  -7.041492  10.108344     151.761215       151.761230  0.000015\n",
       "2  13.620737  -3.828699     200.183411       200.183411  0.000000\n",
       "3  14.187577  -7.668947     260.100098       260.100098  0.000000\n",
       "4  13.199041   2.597409     180.961227       180.961227  0.000000\n",
       "5  12.789336 -13.196888     337.724976       337.724976  0.000000\n",
       "6   0.255070 -14.228614     202.518509       202.518509  0.000000\n",
       "7  -3.547219  -5.768481      45.858131        45.858131  0.000000\n",
       "8  -5.373274 -10.674331     142.813416       142.813416  0.000000\n",
       "9   3.114088  18.321789     345.385498       345.385498  0.000000"
      ]
     },
     "execution_count": 7,
     "metadata": {},
     "output_type": "execute_result"
    }
   ],
   "source": [
    "kodbc_io.get_df('''\n",
    "SELECT \n",
    "    in_t.x1, \n",
    "    in_t.x2, \n",
    "    out_t.y AS actual_result, \n",
    "    FLOAT(in_t.x1 * in_t.x1 + in_t.x2 * in_t.x2) AS expected_result,\n",
    "    FLOAT(in_t.x1 * in_t.x1 + in_t.x2 * in_t.x2) - out_t.y AS diff\n",
    "FROM {} as out_t\n",
    "INNER JOIN {} AS in_t \n",
    "    ON in_t.id = out_t.id\n",
    "LIMIT 10\n",
    "'''.format(OUTPUT_TABLE, INPUT_TABLE))"
   ]
  }
 ],
 "metadata": {
  "kernelspec": {
   "display_name": "Python 3",
   "language": "python",
   "name": "python3"
  },
  "language_info": {
   "codemirror_mode": {
    "name": "ipython",
    "version": 3
   },
   "file_extension": ".py",
   "mimetype": "text/x-python",
   "name": "python",
   "nbconvert_exporter": "python",
   "pygments_lexer": "ipython3",
   "version": "3.6.5"
  }
 },
 "nbformat": 4,
 "nbformat_minor": 2
}
