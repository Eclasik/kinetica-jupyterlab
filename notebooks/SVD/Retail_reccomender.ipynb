{
 "cells": [
  {
   "cell_type": "markdown",
   "metadata": {},
   "source": [
    "# Retail SVD Recommender\n",
    "\n",
    "In this example we use SQL to calculate dot products for a drug recommendation."
   ]
  },
  {
   "cell_type": "code",
   "execution_count": 1,
   "metadata": {},
   "outputs": [],
   "source": [
    "import pandas as pd\n",
    "\n",
    "# Local libraries should automatically reload\n",
    "%load_ext autoreload\n",
    "%autoreload 1"
   ]
  },
  {
   "cell_type": "markdown",
   "metadata": {},
   "source": [
    "### Get actual purchases"
   ]
  },
  {
   "cell_type": "code",
   "execution_count": 2,
   "metadata": {},
   "outputs": [
    {
     "name": "stdout",
     "output_type": "stream",
     "text": [
      "Connected to GPUdb ODBC Server (6.2.0.9.20180622232941)\n"
     ]
    },
    {
     "ename": "DatabaseError",
     "evalue": "Execution failed on sql '\nselect \n    rm.STOCK_CODE,\n    rp.DESCRIPTION,\n    rm.TXN_COUNT\nfrom RETAIL_MATRIX rm\njoin RETAIL_PROD rp\non rp.STOCK_CODE = rm.STOCK_CODE\nwhere rm.CUSTOMER_ID = 12358\norder by rm.CUSTOMER_ID, rm.STOCK_CODE\n': ('42S02', '[42S02] [Kinetica][SQLEngine] (31740) Table or view not found: KINETICA..RETAIL_MATRIX (31740) (SQLExecDirectW)')",
     "output_type": "error",
     "traceback": [
      "\u001b[0;31m---------------------------------------------------------------------------\u001b[0m",
      "\u001b[0;31mProgrammingError\u001b[0m                          Traceback (most recent call last)",
      "\u001b[0;32m/usr/lib64/python3.6/site-packages/pandas/io/sql.py\u001b[0m in \u001b[0;36mexecute\u001b[0;34m(self, *args, **kwargs)\u001b[0m\n\u001b[1;32m   1377\u001b[0m             \u001b[0;32melse\u001b[0m\u001b[0;34m:\u001b[0m\u001b[0;34m\u001b[0m\u001b[0m\n\u001b[0;32m-> 1378\u001b[0;31m                 \u001b[0mcur\u001b[0m\u001b[0;34m.\u001b[0m\u001b[0mexecute\u001b[0m\u001b[0;34m(\u001b[0m\u001b[0;34m*\u001b[0m\u001b[0margs\u001b[0m\u001b[0;34m)\u001b[0m\u001b[0;34m\u001b[0m\u001b[0m\n\u001b[0m\u001b[1;32m   1379\u001b[0m             \u001b[0;32mreturn\u001b[0m \u001b[0mcur\u001b[0m\u001b[0;34m\u001b[0m\u001b[0m\n",
      "\u001b[0;31mProgrammingError\u001b[0m: ('42S02', '[42S02] [Kinetica][SQLEngine] (31740) Table or view not found: KINETICA..RETAIL_MATRIX (31740) (SQLExecDirectW)')",
      "\nDuring handling of the above exception, another exception occurred:\n",
      "\u001b[0;31mDatabaseError\u001b[0m                             Traceback (most recent call last)",
      "\u001b[0;32m<ipython-input-2-7b7595876028>\u001b[0m in \u001b[0;36m<module>\u001b[0;34m()\u001b[0m\n\u001b[1;32m     17\u001b[0m \"\"\".format(CUSTOMER_ID)\n\u001b[1;32m     18\u001b[0m \u001b[0;34m\u001b[0m\u001b[0m\n\u001b[0;32m---> 19\u001b[0;31m \u001b[0m_actual_df\u001b[0m \u001b[0;34m=\u001b[0m \u001b[0mpd\u001b[0m\u001b[0;34m.\u001b[0m\u001b[0mread_sql\u001b[0m\u001b[0;34m(\u001b[0m\u001b[0m_sql\u001b[0m\u001b[0;34m,\u001b[0m \u001b[0m_cnxn\u001b[0m\u001b[0;34m)\u001b[0m\u001b[0;34m\u001b[0m\u001b[0m\n\u001b[0m\u001b[1;32m     20\u001b[0m \u001b[0m_cnxn\u001b[0m\u001b[0;34m.\u001b[0m\u001b[0mclose\u001b[0m\u001b[0;34m(\u001b[0m\u001b[0;34m)\u001b[0m\u001b[0;34m\u001b[0m\u001b[0m\n\u001b[1;32m     21\u001b[0m \u001b[0;34m\u001b[0m\u001b[0m\n",
      "\u001b[0;32m/usr/lib64/python3.6/site-packages/pandas/io/sql.py\u001b[0m in \u001b[0;36mread_sql\u001b[0;34m(sql, con, index_col, coerce_float, params, parse_dates, columns, chunksize)\u001b[0m\n\u001b[1;32m    379\u001b[0m             \u001b[0msql\u001b[0m\u001b[0;34m,\u001b[0m \u001b[0mindex_col\u001b[0m\u001b[0;34m=\u001b[0m\u001b[0mindex_col\u001b[0m\u001b[0;34m,\u001b[0m \u001b[0mparams\u001b[0m\u001b[0;34m=\u001b[0m\u001b[0mparams\u001b[0m\u001b[0;34m,\u001b[0m\u001b[0;34m\u001b[0m\u001b[0m\n\u001b[1;32m    380\u001b[0m             \u001b[0mcoerce_float\u001b[0m\u001b[0;34m=\u001b[0m\u001b[0mcoerce_float\u001b[0m\u001b[0;34m,\u001b[0m \u001b[0mparse_dates\u001b[0m\u001b[0;34m=\u001b[0m\u001b[0mparse_dates\u001b[0m\u001b[0;34m,\u001b[0m\u001b[0;34m\u001b[0m\u001b[0m\n\u001b[0;32m--> 381\u001b[0;31m             chunksize=chunksize)\n\u001b[0m\u001b[1;32m    382\u001b[0m \u001b[0;34m\u001b[0m\u001b[0m\n\u001b[1;32m    383\u001b[0m     \u001b[0;32mtry\u001b[0m\u001b[0;34m:\u001b[0m\u001b[0;34m\u001b[0m\u001b[0m\n",
      "\u001b[0;32m/usr/lib64/python3.6/site-packages/pandas/io/sql.py\u001b[0m in \u001b[0;36mread_query\u001b[0;34m(self, sql, index_col, coerce_float, params, parse_dates, chunksize)\u001b[0m\n\u001b[1;32m   1411\u001b[0m \u001b[0;34m\u001b[0m\u001b[0m\n\u001b[1;32m   1412\u001b[0m         \u001b[0margs\u001b[0m \u001b[0;34m=\u001b[0m \u001b[0m_convert_params\u001b[0m\u001b[0;34m(\u001b[0m\u001b[0msql\u001b[0m\u001b[0;34m,\u001b[0m \u001b[0mparams\u001b[0m\u001b[0;34m)\u001b[0m\u001b[0;34m\u001b[0m\u001b[0m\n\u001b[0;32m-> 1413\u001b[0;31m         \u001b[0mcursor\u001b[0m \u001b[0;34m=\u001b[0m \u001b[0mself\u001b[0m\u001b[0;34m.\u001b[0m\u001b[0mexecute\u001b[0m\u001b[0;34m(\u001b[0m\u001b[0;34m*\u001b[0m\u001b[0margs\u001b[0m\u001b[0;34m)\u001b[0m\u001b[0;34m\u001b[0m\u001b[0m\n\u001b[0m\u001b[1;32m   1414\u001b[0m         \u001b[0mcolumns\u001b[0m \u001b[0;34m=\u001b[0m \u001b[0;34m[\u001b[0m\u001b[0mcol_desc\u001b[0m\u001b[0;34m[\u001b[0m\u001b[0;36m0\u001b[0m\u001b[0;34m]\u001b[0m \u001b[0;32mfor\u001b[0m \u001b[0mcol_desc\u001b[0m \u001b[0;32min\u001b[0m \u001b[0mcursor\u001b[0m\u001b[0;34m.\u001b[0m\u001b[0mdescription\u001b[0m\u001b[0;34m]\u001b[0m\u001b[0;34m\u001b[0m\u001b[0m\n\u001b[1;32m   1415\u001b[0m \u001b[0;34m\u001b[0m\u001b[0m\n",
      "\u001b[0;32m/usr/lib64/python3.6/site-packages/pandas/io/sql.py\u001b[0m in \u001b[0;36mexecute\u001b[0;34m(self, *args, **kwargs)\u001b[0m\n\u001b[1;32m   1388\u001b[0m             ex = DatabaseError(\n\u001b[1;32m   1389\u001b[0m                 \"Execution failed on sql '%s': %s\" % (args[0], exc))\n\u001b[0;32m-> 1390\u001b[0;31m             \u001b[0mraise_with_traceback\u001b[0m\u001b[0;34m(\u001b[0m\u001b[0mex\u001b[0m\u001b[0;34m)\u001b[0m\u001b[0;34m\u001b[0m\u001b[0m\n\u001b[0m\u001b[1;32m   1391\u001b[0m \u001b[0;34m\u001b[0m\u001b[0m\n\u001b[1;32m   1392\u001b[0m     \u001b[0;34m@\u001b[0m\u001b[0mstaticmethod\u001b[0m\u001b[0;34m\u001b[0m\u001b[0m\n",
      "\u001b[0;32m/usr/lib64/python3.6/site-packages/pandas/compat/__init__.py\u001b[0m in \u001b[0;36mraise_with_traceback\u001b[0;34m(exc, traceback)\u001b[0m\n\u001b[1;32m    401\u001b[0m         \u001b[0;32mif\u001b[0m \u001b[0mtraceback\u001b[0m \u001b[0;34m==\u001b[0m \u001b[0mEllipsis\u001b[0m\u001b[0;34m:\u001b[0m\u001b[0;34m\u001b[0m\u001b[0m\n\u001b[1;32m    402\u001b[0m             \u001b[0m_\u001b[0m\u001b[0;34m,\u001b[0m \u001b[0m_\u001b[0m\u001b[0;34m,\u001b[0m \u001b[0mtraceback\u001b[0m \u001b[0;34m=\u001b[0m \u001b[0msys\u001b[0m\u001b[0;34m.\u001b[0m\u001b[0mexc_info\u001b[0m\u001b[0;34m(\u001b[0m\u001b[0;34m)\u001b[0m\u001b[0;34m\u001b[0m\u001b[0m\n\u001b[0;32m--> 403\u001b[0;31m         \u001b[0;32mraise\u001b[0m \u001b[0mexc\u001b[0m\u001b[0;34m.\u001b[0m\u001b[0mwith_traceback\u001b[0m\u001b[0;34m(\u001b[0m\u001b[0mtraceback\u001b[0m\u001b[0;34m)\u001b[0m\u001b[0;34m\u001b[0m\u001b[0m\n\u001b[0m\u001b[1;32m    404\u001b[0m \u001b[0;32melse\u001b[0m\u001b[0;34m:\u001b[0m\u001b[0;34m\u001b[0m\u001b[0m\n\u001b[1;32m    405\u001b[0m     \u001b[0;31m# this version of raise is a syntax error in Python 3\u001b[0m\u001b[0;34m\u001b[0m\u001b[0;34m\u001b[0m\u001b[0m\n",
      "\u001b[0;32m/usr/lib64/python3.6/site-packages/pandas/io/sql.py\u001b[0m in \u001b[0;36mexecute\u001b[0;34m(self, *args, **kwargs)\u001b[0m\n\u001b[1;32m   1376\u001b[0m                 \u001b[0mcur\u001b[0m\u001b[0;34m.\u001b[0m\u001b[0mexecute\u001b[0m\u001b[0;34m(\u001b[0m\u001b[0;34m*\u001b[0m\u001b[0margs\u001b[0m\u001b[0;34m,\u001b[0m \u001b[0;34m**\u001b[0m\u001b[0mkwargs\u001b[0m\u001b[0;34m)\u001b[0m\u001b[0;34m\u001b[0m\u001b[0m\n\u001b[1;32m   1377\u001b[0m             \u001b[0;32melse\u001b[0m\u001b[0;34m:\u001b[0m\u001b[0;34m\u001b[0m\u001b[0m\n\u001b[0;32m-> 1378\u001b[0;31m                 \u001b[0mcur\u001b[0m\u001b[0;34m.\u001b[0m\u001b[0mexecute\u001b[0m\u001b[0;34m(\u001b[0m\u001b[0;34m*\u001b[0m\u001b[0margs\u001b[0m\u001b[0;34m)\u001b[0m\u001b[0;34m\u001b[0m\u001b[0m\n\u001b[0m\u001b[1;32m   1379\u001b[0m             \u001b[0;32mreturn\u001b[0m \u001b[0mcur\u001b[0m\u001b[0;34m\u001b[0m\u001b[0m\n\u001b[1;32m   1380\u001b[0m         \u001b[0;32mexcept\u001b[0m \u001b[0mException\u001b[0m \u001b[0;32mas\u001b[0m \u001b[0mexc\u001b[0m\u001b[0;34m:\u001b[0m\u001b[0;34m\u001b[0m\u001b[0m\n",
      "\u001b[0;31mDatabaseError\u001b[0m: Execution failed on sql '\nselect \n    rm.STOCK_CODE,\n    rp.DESCRIPTION,\n    rm.TXN_COUNT\nfrom RETAIL_MATRIX rm\njoin RETAIL_PROD rp\non rp.STOCK_CODE = rm.STOCK_CODE\nwhere rm.CUSTOMER_ID = 12358\norder by rm.CUSTOMER_ID, rm.STOCK_CODE\n': ('42S02', '[42S02] [Kinetica][SQLEngine] (31740) Table or view not found: KINETICA..RETAIL_MATRIX (31740) (SQLExecDirectW)')"
     ]
    }
   ],
   "source": [
    "%aimport gpudb_df\n",
    "\n",
    "_cnxn = gpudb_df.get_odbc()\n",
    "\n",
    "CUSTOMER_ID = 12358\n",
    "\n",
    "_sql = \"\"\"\n",
    "select \n",
    "    rm.STOCK_CODE,\n",
    "    rp.DESCRIPTION,\n",
    "    rm.TXN_COUNT\n",
    "from RETAIL_MATRIX rm\n",
    "join RETAIL_PROD rp\n",
    "on rp.STOCK_CODE = rm.STOCK_CODE\n",
    "where rm.CUSTOMER_ID = {}\n",
    "order by rm.CUSTOMER_ID, rm.STOCK_CODE\n",
    "\"\"\".format(CUSTOMER_ID)\n",
    "\n",
    "_actual_df = pd.read_sql(_sql, _cnxn)\n",
    "_cnxn.close()\n",
    "\n",
    "_actual_df = _actual_df.set_index('STOCK_CODE')\n",
    "_actual_df"
   ]
  },
  {
   "cell_type": "markdown",
   "metadata": {},
   "source": [
    "### Get approximated purchases\n",
    "\n",
    "We get approximated purchases with:\n",
    "\n",
    "$\n",
    "\\mathbf{\\tilde{a}}_i = \\mathbf{u}_i \\Sigma \\mathbf{V}^T\n",
    "$\n",
    "\n",
    "This reduces to a set of dot products."
   ]
  },
  {
   "cell_type": "code",
   "execution_count": 5,
   "metadata": {},
   "outputs": [
    {
     "name": "stdout",
     "output_type": "stream",
     "text": [
      "Connected to GPUdb ODBC Server (6.1.0.9.20180315110536)\n"
     ]
    },
    {
     "data": {
      "text/html": [
       "<div>\n",
       "<style scoped>\n",
       "    .dataframe tbody tr th:only-of-type {\n",
       "        vertical-align: middle;\n",
       "    }\n",
       "\n",
       "    .dataframe tbody tr th {\n",
       "        vertical-align: top;\n",
       "    }\n",
       "\n",
       "    .dataframe thead th {\n",
       "        text-align: right;\n",
       "    }\n",
       "</style>\n",
       "<table border=\"1\" class=\"dataframe\">\n",
       "  <thead>\n",
       "    <tr style=\"text-align: right;\">\n",
       "      <th></th>\n",
       "      <th>DESCRIPTION</th>\n",
       "      <th>ITEM_RATING</th>\n",
       "    </tr>\n",
       "    <tr>\n",
       "      <th>STOCK_CODE</th>\n",
       "      <th></th>\n",
       "      <th></th>\n",
       "    </tr>\n",
       "  </thead>\n",
       "  <tbody>\n",
       "    <tr>\n",
       "      <th>POST</th>\n",
       "      <td>POSTAGE</td>\n",
       "      <td>0.641927</td>\n",
       "    </tr>\n",
       "    <tr>\n",
       "      <th>15056N</th>\n",
       "      <td>EDWARDIAN PARASOL NATURAL</td>\n",
       "      <td>0.311275</td>\n",
       "    </tr>\n",
       "    <tr>\n",
       "      <th>21731</th>\n",
       "      <td>RED TOADSTOOL LED NIGHT LIGHT</td>\n",
       "      <td>0.308938</td>\n",
       "    </tr>\n",
       "    <tr>\n",
       "      <th>15056BL</th>\n",
       "      <td>EDWARDIAN PARASOL BLACK</td>\n",
       "      <td>0.274233</td>\n",
       "    </tr>\n",
       "    <tr>\n",
       "      <th>22326</th>\n",
       "      <td>ROUND SNACK BOXES SET OF4 WOODLAND</td>\n",
       "      <td>0.250110</td>\n",
       "    </tr>\n",
       "    <tr>\n",
       "      <th>21166</th>\n",
       "      <td>COOK WITH WINE METAL SIGN</td>\n",
       "      <td>0.250090</td>\n",
       "    </tr>\n",
       "    <tr>\n",
       "      <th>21175</th>\n",
       "      <td>GIN AND TONIC DIET METAL SIGN</td>\n",
       "      <td>0.232669</td>\n",
       "    </tr>\n",
       "    <tr>\n",
       "      <th>22423</th>\n",
       "      <td>REGENCY CAKESTAND 3 TIER</td>\n",
       "      <td>0.204413</td>\n",
       "    </tr>\n",
       "    <tr>\n",
       "      <th>22629</th>\n",
       "      <td>SPACEBOY LUNCH BOX</td>\n",
       "      <td>0.194178</td>\n",
       "    </tr>\n",
       "    <tr>\n",
       "      <th>21232</th>\n",
       "      <td>STRAWBERRY CERAMIC TRINKET POT</td>\n",
       "      <td>0.193377</td>\n",
       "    </tr>\n",
       "  </tbody>\n",
       "</table>\n",
       "</div>"
      ],
      "text/plain": [
       "                                   DESCRIPTION  ITEM_RATING\n",
       "STOCK_CODE                                                 \n",
       "POST                                   POSTAGE     0.641927\n",
       "15056N               EDWARDIAN PARASOL NATURAL     0.311275\n",
       "21731            RED TOADSTOOL LED NIGHT LIGHT     0.308938\n",
       "15056BL                EDWARDIAN PARASOL BLACK     0.274233\n",
       "22326       ROUND SNACK BOXES SET OF4 WOODLAND     0.250110\n",
       "21166                COOK WITH WINE METAL SIGN     0.250090\n",
       "21175            GIN AND TONIC DIET METAL SIGN     0.232669\n",
       "22423                 REGENCY CAKESTAND 3 TIER     0.204413\n",
       "22629                       SPACEBOY LUNCH BOX     0.194178\n",
       "21232           STRAWBERRY CERAMIC TRINKET POT     0.193377"
      ]
     },
     "execution_count": 5,
     "metadata": {},
     "output_type": "execute_result"
    }
   ],
   "source": [
    "%aimport gpudb_df\n",
    "\n",
    "_cnxn = gpudb_df.get_odbc()\n",
    "\n",
    "_sql = \"\"\"\n",
    "select top 10 \n",
    "    iv.STOCK_CODE as STOCK_CODE,\n",
    "    rp.DESCRIPTION,\n",
    "    (cv.U0 * iv.V0)\n",
    "    + (cv.U1 * iv.V1) \n",
    "    + (cv.U2 * iv.V2) \n",
    "    + (cv.U3 * iv.V3) \n",
    "    + (cv.U4 * iv.V4) \n",
    "    + (cv.U5 * iv.V5) \n",
    "    + (cv.U6 * iv.V6) \n",
    "    + (cv.U7 * iv.V7) \n",
    "    + (cv.U8 * iv.V8) \n",
    "    + (cv.U9 * iv.V9) \n",
    "    as ITEM_RATING\n",
    "from RETAIL_CUST_VEC as cv, RETAIL_ITEM_VEC as iv\n",
    "join RETAIL_PROD rp\n",
    "    on rp.STOCK_CODE = iv.STOCK_CODE\n",
    "where cv.CUSTOMER_ID = {}\n",
    "order by ITEM_RATING desc\n",
    "\"\"\".format(CUSTOMER_ID)\n",
    "\n",
    "_approx_df = pd.read_sql(_sql, _cnxn)\n",
    "_cnxn.close()\n",
    "\n",
    "_approx_df = _approx_df.set_index('STOCK_CODE')\n",
    "_approx_df"
   ]
  },
  {
   "cell_type": "markdown",
   "metadata": {},
   "source": [
    "### Get recommended purchases\n",
    "\n",
    "The recommendation is:\n",
    "\n",
    "$\n",
    "\\mathbf{\\tilde{r}}_i = \\mathbf{\\tilde{a}}_i - \\mathbf{a}_i\n",
    "$"
   ]
  },
  {
   "cell_type": "code",
   "execution_count": 7,
   "metadata": {},
   "outputs": [
    {
     "data": {
      "text/html": [
       "<div>\n",
       "<style scoped>\n",
       "    .dataframe tbody tr th:only-of-type {\n",
       "        vertical-align: middle;\n",
       "    }\n",
       "\n",
       "    .dataframe tbody tr th {\n",
       "        vertical-align: top;\n",
       "    }\n",
       "\n",
       "    .dataframe thead th {\n",
       "        text-align: right;\n",
       "    }\n",
       "</style>\n",
       "<table border=\"1\" class=\"dataframe\">\n",
       "  <thead>\n",
       "    <tr style=\"text-align: right;\">\n",
       "      <th></th>\n",
       "      <th>DESCRIPTION</th>\n",
       "      <th>ITEM_RATING</th>\n",
       "    </tr>\n",
       "    <tr>\n",
       "      <th>STOCK_CODE</th>\n",
       "      <th></th>\n",
       "      <th></th>\n",
       "    </tr>\n",
       "  </thead>\n",
       "  <tbody>\n",
       "    <tr>\n",
       "      <th>21731</th>\n",
       "      <td>RED TOADSTOOL LED NIGHT LIGHT</td>\n",
       "      <td>0.308938</td>\n",
       "    </tr>\n",
       "    <tr>\n",
       "      <th>22326</th>\n",
       "      <td>ROUND SNACK BOXES SET OF4 WOODLAND</td>\n",
       "      <td>0.250110</td>\n",
       "    </tr>\n",
       "    <tr>\n",
       "      <th>21166</th>\n",
       "      <td>COOK WITH WINE METAL SIGN</td>\n",
       "      <td>0.250090</td>\n",
       "    </tr>\n",
       "    <tr>\n",
       "      <th>21175</th>\n",
       "      <td>GIN AND TONIC DIET METAL SIGN</td>\n",
       "      <td>0.232669</td>\n",
       "    </tr>\n",
       "    <tr>\n",
       "      <th>22423</th>\n",
       "      <td>REGENCY CAKESTAND 3 TIER</td>\n",
       "      <td>0.204413</td>\n",
       "    </tr>\n",
       "    <tr>\n",
       "      <th>22629</th>\n",
       "      <td>SPACEBOY LUNCH BOX</td>\n",
       "      <td>0.194178</td>\n",
       "    </tr>\n",
       "  </tbody>\n",
       "</table>\n",
       "</div>"
      ],
      "text/plain": [
       "                                   DESCRIPTION  ITEM_RATING\n",
       "STOCK_CODE                                                 \n",
       "21731            RED TOADSTOOL LED NIGHT LIGHT     0.308938\n",
       "22326       ROUND SNACK BOXES SET OF4 WOODLAND     0.250110\n",
       "21166                COOK WITH WINE METAL SIGN     0.250090\n",
       "21175            GIN AND TONIC DIET METAL SIGN     0.232669\n",
       "22423                 REGENCY CAKESTAND 3 TIER     0.204413\n",
       "22629                       SPACEBOY LUNCH BOX     0.194178"
      ]
     },
     "execution_count": 7,
     "metadata": {},
     "output_type": "execute_result"
    }
   ],
   "source": [
    "_recommended_df = _approx_df.loc[set(_approx_df.index) - set(_actual_df.index)]\n",
    "_recommended_df.sort_values('ITEM_RATING', ascending=False)"
   ]
  }
 ],
 "metadata": {
  "kernelspec": {
   "display_name": "Python 3",
   "language": "python",
   "name": "python3"
  },
  "language_info": {
   "codemirror_mode": {
    "name": "ipython",
    "version": 3
   },
   "file_extension": ".py",
   "mimetype": "text/x-python",
   "name": "python",
   "nbconvert_exporter": "python",
   "pygments_lexer": "ipython3",
   "version": "3.6.5"
  }
 },
 "nbformat": 4,
 "nbformat_minor": 2
}
