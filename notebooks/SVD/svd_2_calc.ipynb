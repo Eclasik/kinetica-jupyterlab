{
 "cells": [
  {
   "cell_type": "markdown",
   "metadata": {},
   "source": [
    "# SVD Calculation\n",
    "\n",
    "This example will load data from a Kinetica to a sparse matrix compute its [SVD][SVD] composition using [PyTorch][PYTORCH].\n",
    "\n",
    "[SVD]: <https://en.wikipedia.org/wiki/Singular-value_decomposition>\n",
    "[PYTORCH]: <https://pytorch.org/docs/stable/torch.html>\n",
    "\n",
    "### Steps\n",
    "\n",
    "1. Load `amazon_matrix` table into a DataFrame. \n",
    "1. Use pandas crosstab() to create a sparse matrix.\n",
    "1. Compute the SVD composition of the sparse matrix.\n",
    "1. Multiply the $\\boldsymbol{\\Sigma}$ values into the $\\mathbf{U}$ and $\\mathbf{V}$ matrices.\n",
    "1. Truncate $\\mathbf{U}$ and $\\mathbf{V}$ matrices to 10 principal components.\n",
    "1. Save $\\tilde{\\mathbf{U}}$ vectors to `svd_cust_vec` and $\\tilde{\\mathbf{V}}$ to `svd_item_vec`\n",
    "1. Analyze approximated results for errors.\n",
    "\n",
    "### Prerequisites\n",
    "\n",
    "You should have run the [svd_1_ingest.ipynb](svd_1_ingest.ipynb) notebook to ingest the dataset too kinetica tables. \n",
    "\n",
    "### Caveats\n",
    "\n",
    "This example is for demonstration purposes only and may need additional considerations if applied in practice:\n",
    "\n",
    "* It does not use a sparse datatype to represent the sparse matrix and will have issues scaling to thousands of products.\n",
    "* More advanced algorithms like [SVD++][SVDPP] exist that take into account unknowns contributed by un-rated products.\n",
    "\n",
    "[SVDPP]: <http://www.cs.rochester.edu/twiki/pub/Main/HarpSeminar/Factorization_Meets_the_Neighborhood-_a_Multifaceted_Collaborative_Filtering_Model.pdf>"
   ]
  },
  {
   "cell_type": "code",
   "execution_count": 15,
   "metadata": {},
   "outputs": [],
   "source": [
    "# iPython settings\n",
    "%reload_ext autoreload\n",
    "%autoreload 1\n",
    "%matplotlib inline\n",
    "\n",
    "import sys \n",
    "sys.path.append('../KJIO')\n",
    "import numpy as np\n",
    "import pandas as pd\n",
    "%aimport kapi_io\n",
    "%aimport kodbc_io\n",
    "\n",
    "# assign GPU\n",
    "import os\n",
    "os.environ['CUDA_VISIBLE_DEVICES'] = '1'\n",
    "\n",
    "# create tables in this schema\n",
    "SCHEMA = 'SVD'"
   ]
  },
  {
   "cell_type": "markdown",
   "metadata": {},
   "source": [
    "### Get rowcount of matrix table"
   ]
  },
  {
   "cell_type": "code",
   "execution_count": 16,
   "metadata": {},
   "outputs": [
    {
     "name": "stdout",
     "output_type": "stream",
     "text": [
      "Connected to GPUdb ODBC Server (6.2.0.17.20180825221415)\n",
      "Table amazon_matrix has 115494 rows\n"
     ]
    }
   ],
   "source": [
    "\n",
    "MATRIX_TABLE = 'amazon_matrix'\n",
    "_rows = kodbc_io.get_row('select count(1) as rowcount from {}'.format(MATRIX_TABLE))\n",
    "print('Table {} has {} rows'.format(MATRIX_TABLE, _rows.rowcount))"
   ]
  },
  {
   "cell_type": "markdown",
   "metadata": {},
   "source": [
    "### Load ratings table into DataFrame"
   ]
  },
  {
   "cell_type": "code",
   "execution_count": 17,
   "metadata": {},
   "outputs": [
    {
     "name": "stdout",
     "output_type": "stream",
     "text": [
      "Getting 115494 records from <amazon_matrix>............\n",
      "Records Retrieved: (115494, 3)\n"
     ]
    },
    {
     "data": {
      "text/html": [
       "<div>\n",
       "<style scoped>\n",
       "    .dataframe tbody tr th:only-of-type {\n",
       "        vertical-align: middle;\n",
       "    }\n",
       "\n",
       "    .dataframe tbody tr th {\n",
       "        vertical-align: top;\n",
       "    }\n",
       "\n",
       "    .dataframe thead th {\n",
       "        text-align: right;\n",
       "    }\n",
       "</style>\n",
       "<table border=\"1\" class=\"dataframe\">\n",
       "  <thead>\n",
       "    <tr style=\"text-align: right;\">\n",
       "      <th></th>\n",
       "      <th>customer_id</th>\n",
       "      <th>product_parent</th>\n",
       "      <th>star_rating</th>\n",
       "    </tr>\n",
       "  </thead>\n",
       "  <tbody>\n",
       "    <tr>\n",
       "      <th>0</th>\n",
       "      <td>14675</td>\n",
       "      <td>601818824</td>\n",
       "      <td>5</td>\n",
       "    </tr>\n",
       "    <tr>\n",
       "      <th>1</th>\n",
       "      <td>14675</td>\n",
       "      <td>693643452</td>\n",
       "      <td>5</td>\n",
       "    </tr>\n",
       "    <tr>\n",
       "      <th>2</th>\n",
       "      <td>14675</td>\n",
       "      <td>37626525</td>\n",
       "      <td>5</td>\n",
       "    </tr>\n",
       "    <tr>\n",
       "      <th>3</th>\n",
       "      <td>15890</td>\n",
       "      <td>928869196</td>\n",
       "      <td>5</td>\n",
       "    </tr>\n",
       "    <tr>\n",
       "      <th>4</th>\n",
       "      <td>20045</td>\n",
       "      <td>936886135</td>\n",
       "      <td>5</td>\n",
       "    </tr>\n",
       "  </tbody>\n",
       "</table>\n",
       "</div>"
      ],
      "text/plain": [
       "   customer_id  product_parent  star_rating\n",
       "0        14675       601818824            5\n",
       "1        14675       693643452            5\n",
       "2        14675        37626525            5\n",
       "3        15890       928869196            5\n",
       "4        20045       936886135            5"
      ]
     },
     "metadata": {},
     "output_type": "display_data"
    }
   ],
   "source": [
    "# load input table\n",
    "_table_df = kapi_io.load_df(MATRIX_TABLE)\n",
    "_table_df['star_rating'] = _table_df['star_rating'].astype(np.int32)\n",
    "display(_table_df.head())"
   ]
  },
  {
   "cell_type": "markdown",
   "metadata": {},
   "source": [
    "### Construct rating matrix\n",
    "\n",
    "This will produce a rating matrix with dimensions of $customers \\times products$. This matrix is sparse because most values are zero."
   ]
  },
  {
   "cell_type": "code",
   "execution_count": 35,
   "metadata": {},
   "outputs": [
    {
     "data": {
      "text/plain": [
       "'Shape: (65531, 497)'"
      ]
     },
     "metadata": {},
     "output_type": "display_data"
    },
    {
     "data": {
      "text/html": [
       "<div>\n",
       "<style scoped>\n",
       "    .dataframe tbody tr th:only-of-type {\n",
       "        vertical-align: middle;\n",
       "    }\n",
       "\n",
       "    .dataframe tbody tr th {\n",
       "        vertical-align: top;\n",
       "    }\n",
       "\n",
       "    .dataframe thead th {\n",
       "        text-align: right;\n",
       "    }\n",
       "</style>\n",
       "<table border=\"1\" class=\"dataframe\">\n",
       "  <thead>\n",
       "    <tr style=\"text-align: right;\">\n",
       "      <th>product_parent</th>\n",
       "      <th>9574613</th>\n",
       "      <th>10058938</th>\n",
       "      <th>16422355</th>\n",
       "      <th>23959419</th>\n",
       "      <th>27598889</th>\n",
       "      <th>30052336</th>\n",
       "      <th>37626525</th>\n",
       "      <th>41424964</th>\n",
       "      <th>45695216</th>\n",
       "      <th>47882917</th>\n",
       "      <th>...</th>\n",
       "      <th>974945078</th>\n",
       "      <th>975919902</th>\n",
       "      <th>977333517</th>\n",
       "      <th>980240215</th>\n",
       "      <th>983956350</th>\n",
       "      <th>991917217</th>\n",
       "      <th>992941133</th>\n",
       "      <th>993251099</th>\n",
       "      <th>993515273</th>\n",
       "      <th>996048589</th>\n",
       "    </tr>\n",
       "    <tr>\n",
       "      <th>customer_id</th>\n",
       "      <th></th>\n",
       "      <th></th>\n",
       "      <th></th>\n",
       "      <th></th>\n",
       "      <th></th>\n",
       "      <th></th>\n",
       "      <th></th>\n",
       "      <th></th>\n",
       "      <th></th>\n",
       "      <th></th>\n",
       "      <th></th>\n",
       "      <th></th>\n",
       "      <th></th>\n",
       "      <th></th>\n",
       "      <th></th>\n",
       "      <th></th>\n",
       "      <th></th>\n",
       "      <th></th>\n",
       "      <th></th>\n",
       "      <th></th>\n",
       "      <th></th>\n",
       "    </tr>\n",
       "  </thead>\n",
       "  <tbody>\n",
       "    <tr>\n",
       "      <th>11152</th>\n",
       "      <td>0.0</td>\n",
       "      <td>0.0</td>\n",
       "      <td>0.0</td>\n",
       "      <td>0.0</td>\n",
       "      <td>0.0</td>\n",
       "      <td>0.0</td>\n",
       "      <td>0.0</td>\n",
       "      <td>0.0</td>\n",
       "      <td>0.0</td>\n",
       "      <td>0.0</td>\n",
       "      <td>...</td>\n",
       "      <td>0.0</td>\n",
       "      <td>0.0</td>\n",
       "      <td>0.0</td>\n",
       "      <td>0.0</td>\n",
       "      <td>0.0</td>\n",
       "      <td>0.0</td>\n",
       "      <td>0.0</td>\n",
       "      <td>0.0</td>\n",
       "      <td>0.0</td>\n",
       "      <td>0.0</td>\n",
       "    </tr>\n",
       "    <tr>\n",
       "      <th>12976</th>\n",
       "      <td>0.0</td>\n",
       "      <td>0.0</td>\n",
       "      <td>0.0</td>\n",
       "      <td>0.0</td>\n",
       "      <td>0.0</td>\n",
       "      <td>0.0</td>\n",
       "      <td>0.0</td>\n",
       "      <td>0.0</td>\n",
       "      <td>0.0</td>\n",
       "      <td>0.0</td>\n",
       "      <td>...</td>\n",
       "      <td>0.0</td>\n",
       "      <td>0.0</td>\n",
       "      <td>0.0</td>\n",
       "      <td>0.0</td>\n",
       "      <td>0.0</td>\n",
       "      <td>0.0</td>\n",
       "      <td>0.0</td>\n",
       "      <td>0.0</td>\n",
       "      <td>0.0</td>\n",
       "      <td>0.0</td>\n",
       "    </tr>\n",
       "    <tr>\n",
       "      <th>14254</th>\n",
       "      <td>0.0</td>\n",
       "      <td>0.0</td>\n",
       "      <td>0.0</td>\n",
       "      <td>0.0</td>\n",
       "      <td>0.0</td>\n",
       "      <td>0.0</td>\n",
       "      <td>0.0</td>\n",
       "      <td>0.0</td>\n",
       "      <td>0.0</td>\n",
       "      <td>0.0</td>\n",
       "      <td>...</td>\n",
       "      <td>0.0</td>\n",
       "      <td>0.0</td>\n",
       "      <td>0.0</td>\n",
       "      <td>0.0</td>\n",
       "      <td>0.0</td>\n",
       "      <td>0.0</td>\n",
       "      <td>0.0</td>\n",
       "      <td>0.0</td>\n",
       "      <td>0.0</td>\n",
       "      <td>0.0</td>\n",
       "    </tr>\n",
       "    <tr>\n",
       "      <th>14675</th>\n",
       "      <td>0.0</td>\n",
       "      <td>0.0</td>\n",
       "      <td>0.0</td>\n",
       "      <td>0.0</td>\n",
       "      <td>0.0</td>\n",
       "      <td>0.0</td>\n",
       "      <td>5.0</td>\n",
       "      <td>0.0</td>\n",
       "      <td>0.0</td>\n",
       "      <td>0.0</td>\n",
       "      <td>...</td>\n",
       "      <td>0.0</td>\n",
       "      <td>0.0</td>\n",
       "      <td>0.0</td>\n",
       "      <td>0.0</td>\n",
       "      <td>0.0</td>\n",
       "      <td>0.0</td>\n",
       "      <td>0.0</td>\n",
       "      <td>0.0</td>\n",
       "      <td>0.0</td>\n",
       "      <td>0.0</td>\n",
       "    </tr>\n",
       "    <tr>\n",
       "      <th>15657</th>\n",
       "      <td>0.0</td>\n",
       "      <td>0.0</td>\n",
       "      <td>0.0</td>\n",
       "      <td>0.0</td>\n",
       "      <td>0.0</td>\n",
       "      <td>0.0</td>\n",
       "      <td>0.0</td>\n",
       "      <td>0.0</td>\n",
       "      <td>0.0</td>\n",
       "      <td>0.0</td>\n",
       "      <td>...</td>\n",
       "      <td>0.0</td>\n",
       "      <td>0.0</td>\n",
       "      <td>0.0</td>\n",
       "      <td>0.0</td>\n",
       "      <td>0.0</td>\n",
       "      <td>0.0</td>\n",
       "      <td>0.0</td>\n",
       "      <td>0.0</td>\n",
       "      <td>0.0</td>\n",
       "      <td>0.0</td>\n",
       "    </tr>\n",
       "  </tbody>\n",
       "</table>\n",
       "<p>5 rows × 497 columns</p>\n",
       "</div>"
      ],
      "text/plain": [
       "product_parent  9574613    10058938   16422355   23959419   27598889   \\\n",
       "customer_id                                                             \n",
       "11152                 0.0        0.0        0.0        0.0        0.0   \n",
       "12976                 0.0        0.0        0.0        0.0        0.0   \n",
       "14254                 0.0        0.0        0.0        0.0        0.0   \n",
       "14675                 0.0        0.0        0.0        0.0        0.0   \n",
       "15657                 0.0        0.0        0.0        0.0        0.0   \n",
       "\n",
       "product_parent  30052336   37626525   41424964   45695216   47882917   \\\n",
       "customer_id                                                             \n",
       "11152                 0.0        0.0        0.0        0.0        0.0   \n",
       "12976                 0.0        0.0        0.0        0.0        0.0   \n",
       "14254                 0.0        0.0        0.0        0.0        0.0   \n",
       "14675                 0.0        5.0        0.0        0.0        0.0   \n",
       "15657                 0.0        0.0        0.0        0.0        0.0   \n",
       "\n",
       "product_parent    ...      974945078  975919902  977333517  980240215  \\\n",
       "customer_id       ...                                                   \n",
       "11152             ...            0.0        0.0        0.0        0.0   \n",
       "12976             ...            0.0        0.0        0.0        0.0   \n",
       "14254             ...            0.0        0.0        0.0        0.0   \n",
       "14675             ...            0.0        0.0        0.0        0.0   \n",
       "15657             ...            0.0        0.0        0.0        0.0   \n",
       "\n",
       "product_parent  983956350  991917217  992941133  993251099  993515273  \\\n",
       "customer_id                                                             \n",
       "11152                 0.0        0.0        0.0        0.0        0.0   \n",
       "12976                 0.0        0.0        0.0        0.0        0.0   \n",
       "14254                 0.0        0.0        0.0        0.0        0.0   \n",
       "14675                 0.0        0.0        0.0        0.0        0.0   \n",
       "15657                 0.0        0.0        0.0        0.0        0.0   \n",
       "\n",
       "product_parent  996048589  \n",
       "customer_id                \n",
       "11152                 0.0  \n",
       "12976                 0.0  \n",
       "14254                 0.0  \n",
       "14675                 0.0  \n",
       "15657                 0.0  \n",
       "\n",
       "[5 rows x 497 columns]"
      ]
     },
     "execution_count": 35,
     "metadata": {},
     "output_type": "execute_result"
    }
   ],
   "source": [
    "# Construct sparse matrix\n",
    "_matrix_df = pd.crosstab(\n",
    "    _table_df.customer_id,\n",
    "    _table_df.product_parent,\n",
    "    _table_df.star_rating,\n",
    "    aggfunc=np.sum,\n",
    "    normalize=False).fillna(0)\n",
    "\n",
    "display('Shape: ' + str(_matrix_df.shape))\n",
    "\n",
    "_matrix_df.head()"
   ]
  },
  {
   "cell_type": "markdown",
   "metadata": {},
   "source": [
    "### Generate SVD Results\n",
    "\n",
    "In this example we factor a sparse matrix $\\mathbf{A}$ of dimensions $customers \\times items$ into 3 separate components of the form \n",
    "\n",
    "$\\mathbf{A} = \\mathbf{U} \\boldsymbol{\\Sigma} \\mathbf{V}^*$\n",
    "\n",
    "* $\\mathbf{A}$ Input matrix has dimensions $customers \\times products$ $(C \\times P)$.\n",
    "* $\\mathbf{U}$ Contains left singular vectors with dimensions $customers \\times rank$ $(C \\times R)$. These are column vectors containing principal components of the customers.\n",
    "* $\\mathbf{V}$ Contains the right singular vector with dimensions $rank \\times products$ $(R \\times P)$. These are row vectors containing principle components of the products.\n",
    "* $\\boldsymbol{\\Sigma}$ Diagonal matrix containing singular values with dimensions $(R \\times R)$. These are magnitudes of the singular vectors."
   ]
  },
  {
   "cell_type": "code",
   "execution_count": 19,
   "metadata": {},
   "outputs": [
    {
     "name": "stdout",
     "output_type": "stream",
     "text": [
      "Calculating SVD...\n",
      "SVD dimensions: U=[65531, 497] sig=[497] V=[497, 497]\n"
     ]
    }
   ],
   "source": [
    "# convert to numpy\n",
    "_matrix_np = _matrix_df.values.astype(np.float64)\n",
    "\n",
    "import torch as th\n",
    "print('Calculating SVD...')\n",
    "#_matrix_cuda = th.tensor(_matrix_np).cuda()\n",
    "_matrix_cuda = th.tensor(_matrix_np)\n",
    "_svd_u, _svd_s, _svd_v = th.svd(_matrix_cuda)\n",
    "\n",
    "print('SVD dimensions: U={} sig={} V={}'\n",
    "    .format([*_svd_u.shape], [*_svd_s.shape], [*_svd_v.shape]))"
   ]
  },
  {
   "cell_type": "markdown",
   "metadata": {},
   "source": [
    "### Orthogonality\n",
    "\n",
    "It should be noted that $\\mathbf{U}$ and $\\mathbf{V}$ matrices have columns have the following properties:\n",
    "\n",
    "* The dot-product of any 2 columns is zero because the columns are orthogonal:\n",
    "\n",
    "$\\mathbf{u}_i \\cdot \\mathbf{u}_j = \\left\\Vert \\mathbf{u}_i \\right\\Vert \\left\\Vert \\mathbf{u}_j \\right\\Vert\\cos(90) = 0$\n",
    "\n",
    "* The Magnitude of any column is 1 because they are unit vectors:\n",
    "\n",
    "$\\mathbf{u}_i \\cdot \\mathbf{u}_i = \\left\\Vert \\mathbf{u}_i \\right\\Vert \\left\\vert \\mathbf{u}_i \\right\\Vert \\cos(0) = \\left\\Vert \\mathbf{u}_i \\right\\Vert ^2 = 1$\n",
    "\n",
    "This is demonstrated below."
   ]
  },
  {
   "cell_type": "code",
   "execution_count": 20,
   "metadata": {},
   "outputs": [
    {
     "name": "stdout",
     "output_type": "stream",
     "text": [
      "Dot product of u0,u0 is: 1.000000\n",
      "Dot product of u0,u1 is: 0.000000\n"
     ]
    }
   ],
   "source": [
    "u0 = _svd_u[:, 0]\n",
    "u1 = _svd_u[:, 1]\n",
    "\n",
    "dot = th.dot(u0,u0)\n",
    "print('Dot product of u0,u0 is: {:f}'.format(dot.item()))\n",
    "\n",
    "dot = th.dot(u0,u1)\n",
    "print('Dot product of u0,u1 is: {:f}'.format(dot.item()))"
   ]
  },
  {
   "cell_type": "markdown",
   "metadata": {},
   "source": [
    "### Truncate U and V to create the approximation\n",
    "\n",
    "We can truncate trailing singular vectors to get a reduced rank approximation \n",
    "\n",
    "$\\tilde{\\mathbf{A}} = \\mathbf{U} \\tilde{\\boldsymbol{\\Sigma}} \\mathbf{V}^T$ \n",
    "\n",
    "where $\\tilde{\\boldsymbol{\\Sigma}}$ has truncated diagonal values and $\\tilde{\\mathbf{A}}$ is an approximation of the original sparse matrix."
   ]
  },
  {
   "cell_type": "code",
   "execution_count": 21,
   "metadata": {},
   "outputs": [
    {
     "name": "stdout",
     "output_type": "stream",
     "text": [
      "SVD approximated: U=[65531, 10] sig=[10] V=[497, 10]\n"
     ]
    }
   ],
   "source": [
    "TRUNCATE_VECTORS = 10\n",
    "_dim = min(TRUNCATE_VECTORS, _svd_u.shape[1])\n",
    "_svd_u_approx = _svd_u[: , :_dim]\n",
    "_svd_s_approx = _svd_s[:_dim]\n",
    "_svd_v_approx = _svd_v[: , :_dim]\n",
    "\n",
    "print('SVD approximated: U={} sig={} V={}'\n",
    "    .format([*_svd_u_approx.shape], [*_svd_s_approx.shape], [*_svd_v_approx.shape]))"
   ]
  },
  {
   "cell_type": "markdown",
   "metadata": {},
   "source": [
    "### Multiply singular values into U and V matrices\n",
    "\n",
    "We can multiply the singular values from $ \\boldsymbol{\\Sigma}$ into $\\mathbf{U}$ and $\\mathbf{V}$. This gives matrices with magnitueds that can be used for clustering.\n",
    "\n",
    "$\\mathbf{A} = \\mathbf{U} \\boldsymbol{\\Sigma} \\mathbf{V}^T \n",
    "= (\\mathbf{U}\\sqrt{\\boldsymbol{\\Sigma}})(\\mathbf{V} \\sqrt{\\boldsymbol{\\Sigma}})^T$\n",
    "\n",
    "We create separate tables with the magnitudes:\n",
    "\n",
    "$\\mathbf{\\tilde{u}}_c^T = [ U \\sqrt{\\boldsymbol{\\Sigma}} ]_c$\n",
    "\n",
    "$\\mathbf{\\tilde{v}}_p^T = [ V \\sqrt{\\boldsymbol{\\Sigma}} ]_p$"
   ]
  },
  {
   "cell_type": "code",
   "execution_count": 22,
   "metadata": {},
   "outputs": [
    {
     "name": "stdout",
     "output_type": "stream",
     "text": [
      "SVD eigen: U=[65531, 10] V=[497, 10]\n"
     ]
    }
   ],
   "source": [
    "# multiuply U and V by sqrt(S)\n",
    "_svd_s_eigen = th.sqrt(_svd_s_approx).diag()\n",
    "_svd_u_eigen = _svd_u_approx.matmul(_svd_s_eigen)\n",
    "_svd_v_eigen = _svd_v_approx.matmul(_svd_s_eigen)\n",
    "\n",
    "print('SVD eigen: U={} V={}'\n",
    "    .format([*_svd_u_eigen.shape], [*_svd_v_eigen.shape]))"
   ]
  },
  {
   "cell_type": "markdown",
   "metadata": {},
   "source": [
    "### Save customer vectors to Kinetica\n",
    "\n",
    "We save the truncated $\\tilde{\\mathbf{U}}$ matrix to table `svd_cust_vec`. Each row has a vector of dimension 10 with information about the customer's rating behavior."
   ]
  },
  {
   "cell_type": "code",
   "execution_count": 23,
   "metadata": {},
   "outputs": [
    {
     "name": "stdout",
     "output_type": "stream",
     "text": [
      "Dropping table: <svd_cust_vec>\n",
      "Creating replicated  table: <svd_cust_vec>\n",
      "Column 0: <customer_id> (long) []\n",
      "Column 1: <U0> (double) []\n",
      "Column 2: <U1> (double) []\n",
      "Column 3: <U2> (double) []\n",
      "Column 4: <U3> (double) []\n",
      "Column 5: <U4> (double) []\n",
      "Column 6: <U5> (double) []\n",
      "Column 7: <U6> (double) []\n",
      "Column 8: <U7> (double) []\n",
      "Column 9: <U8> (double) []\n",
      "Column 10: <U9> (double) []\n",
      "Inserted rows into <SVD.svd_cust_vec>: 65531\n"
     ]
    },
    {
     "data": {
      "text/html": [
       "<div>\n",
       "<style scoped>\n",
       "    .dataframe tbody tr th:only-of-type {\n",
       "        vertical-align: middle;\n",
       "    }\n",
       "\n",
       "    .dataframe tbody tr th {\n",
       "        vertical-align: top;\n",
       "    }\n",
       "\n",
       "    .dataframe thead th {\n",
       "        text-align: right;\n",
       "    }\n",
       "</style>\n",
       "<table border=\"1\" class=\"dataframe\">\n",
       "  <thead>\n",
       "    <tr style=\"text-align: right;\">\n",
       "      <th></th>\n",
       "      <th>customer_id</th>\n",
       "      <th>U0</th>\n",
       "      <th>U1</th>\n",
       "      <th>U2</th>\n",
       "      <th>U3</th>\n",
       "      <th>U4</th>\n",
       "      <th>U5</th>\n",
       "      <th>U6</th>\n",
       "      <th>U7</th>\n",
       "      <th>U8</th>\n",
       "      <th>U9</th>\n",
       "    </tr>\n",
       "  </thead>\n",
       "  <tbody>\n",
       "    <tr>\n",
       "      <th>0</th>\n",
       "      <td>11152</td>\n",
       "      <td>-0.000987</td>\n",
       "      <td>-0.005919</td>\n",
       "      <td>-0.016551</td>\n",
       "      <td>0.002591</td>\n",
       "      <td>-0.006140</td>\n",
       "      <td>-0.017519</td>\n",
       "      <td>-0.005205</td>\n",
       "      <td>0.015159</td>\n",
       "      <td>0.016626</td>\n",
       "      <td>-0.196109</td>\n",
       "    </tr>\n",
       "    <tr>\n",
       "      <th>1</th>\n",
       "      <td>12976</td>\n",
       "      <td>-0.000404</td>\n",
       "      <td>-0.001781</td>\n",
       "      <td>-0.004311</td>\n",
       "      <td>-0.000810</td>\n",
       "      <td>-0.000784</td>\n",
       "      <td>-0.005010</td>\n",
       "      <td>-0.001469</td>\n",
       "      <td>0.002630</td>\n",
       "      <td>0.004393</td>\n",
       "      <td>-0.025996</td>\n",
       "    </tr>\n",
       "    <tr>\n",
       "      <th>2</th>\n",
       "      <td>14254</td>\n",
       "      <td>-0.000113</td>\n",
       "      <td>-0.000180</td>\n",
       "      <td>-0.001239</td>\n",
       "      <td>-0.002130</td>\n",
       "      <td>-0.000394</td>\n",
       "      <td>-0.000141</td>\n",
       "      <td>-0.000391</td>\n",
       "      <td>0.000155</td>\n",
       "      <td>0.001258</td>\n",
       "      <td>-0.000676</td>\n",
       "    </tr>\n",
       "    <tr>\n",
       "      <th>3</th>\n",
       "      <td>14675</td>\n",
       "      <td>-0.002395</td>\n",
       "      <td>-0.019058</td>\n",
       "      <td>-0.062350</td>\n",
       "      <td>0.034907</td>\n",
       "      <td>-0.029845</td>\n",
       "      <td>-0.000411</td>\n",
       "      <td>0.002203</td>\n",
       "      <td>0.004710</td>\n",
       "      <td>0.003852</td>\n",
       "      <td>-0.067047</td>\n",
       "    </tr>\n",
       "    <tr>\n",
       "      <th>4</th>\n",
       "      <td>15657</td>\n",
       "      <td>-0.001306</td>\n",
       "      <td>-0.002113</td>\n",
       "      <td>-0.004605</td>\n",
       "      <td>-0.001511</td>\n",
       "      <td>-0.001459</td>\n",
       "      <td>-0.002829</td>\n",
       "      <td>-0.002562</td>\n",
       "      <td>0.003995</td>\n",
       "      <td>0.001969</td>\n",
       "      <td>-0.016334</td>\n",
       "    </tr>\n",
       "  </tbody>\n",
       "</table>\n",
       "</div>"
      ],
      "text/plain": [
       "   customer_id        U0        U1        U2        U3        U4        U5  \\\n",
       "0        11152 -0.000987 -0.005919 -0.016551  0.002591 -0.006140 -0.017519   \n",
       "1        12976 -0.000404 -0.001781 -0.004311 -0.000810 -0.000784 -0.005010   \n",
       "2        14254 -0.000113 -0.000180 -0.001239 -0.002130 -0.000394 -0.000141   \n",
       "3        14675 -0.002395 -0.019058 -0.062350  0.034907 -0.029845 -0.000411   \n",
       "4        15657 -0.001306 -0.002113 -0.004605 -0.001511 -0.001459 -0.002829   \n",
       "\n",
       "         U6        U7        U8        U9  \n",
       "0 -0.005205  0.015159  0.016626 -0.196109  \n",
       "1 -0.001469  0.002630  0.004393 -0.025996  \n",
       "2 -0.000391  0.000155  0.001258 -0.000676  \n",
       "3  0.002203  0.004710  0.003852 -0.067047  \n",
       "4 -0.002562  0.003995  0.001969 -0.016334  "
      ]
     },
     "execution_count": 23,
     "metadata": {},
     "output_type": "execute_result"
    }
   ],
   "source": [
    "%aimport kapi_io\n",
    "\n",
    "# create column names for the vector\n",
    "_col_names = ['U' + str(i) for i in range(_svd_u_eigen.shape[1])]\n",
    "\n",
    "# reset the index so that it does not get converted to a shard key\n",
    "_u_vec = pd.DataFrame(_svd_u_eigen.cpu().numpy(), \n",
    "                        columns=_col_names,\n",
    "                        index=_matrix_df.index).reset_index()\n",
    "\n",
    "kapi_io.save_df(_u_vec, 'svd_cust_vec', SCHEMA, _is_replicated=True)\n",
    "_u_vec.head()"
   ]
  },
  {
   "cell_type": "markdown",
   "metadata": {},
   "source": [
    "### Save product vectors to Kientica\n",
    "\n",
    "We save the truncated $\\tilde{\\mathbf{V}}^T$ matrix to table `svd_item_vec`. Each row is a vector of dimension 10 containing a compressed representation of the product ratings."
   ]
  },
  {
   "cell_type": "code",
   "execution_count": 24,
   "metadata": {},
   "outputs": [
    {
     "name": "stdout",
     "output_type": "stream",
     "text": [
      "Dropping table: <svd_item_vec>\n",
      "Creating  table: <svd_item_vec>\n",
      "Column 0: <product_parent> (string) ['char16', 'shard_key']\n",
      "Column 1: <V0> (double) []\n",
      "Column 2: <V1> (double) []\n",
      "Column 3: <V2> (double) []\n",
      "Column 4: <V3> (double) []\n",
      "Column 5: <V4> (double) []\n",
      "Column 6: <V5> (double) []\n",
      "Column 7: <V6> (double) []\n",
      "Column 8: <V7> (double) []\n",
      "Column 9: <V8> (double) []\n",
      "Column 10: <V9> (double) []\n",
      "Inserted rows into <SVD.svd_item_vec>: 497\n"
     ]
    },
    {
     "data": {
      "text/html": [
       "<div>\n",
       "<style scoped>\n",
       "    .dataframe tbody tr th:only-of-type {\n",
       "        vertical-align: middle;\n",
       "    }\n",
       "\n",
       "    .dataframe tbody tr th {\n",
       "        vertical-align: top;\n",
       "    }\n",
       "\n",
       "    .dataframe thead th {\n",
       "        text-align: right;\n",
       "    }\n",
       "</style>\n",
       "<table border=\"1\" class=\"dataframe\">\n",
       "  <thead>\n",
       "    <tr style=\"text-align: right;\">\n",
       "      <th></th>\n",
       "      <th>V0</th>\n",
       "      <th>V1</th>\n",
       "      <th>V2</th>\n",
       "      <th>V3</th>\n",
       "      <th>V4</th>\n",
       "      <th>V5</th>\n",
       "      <th>V6</th>\n",
       "      <th>V7</th>\n",
       "      <th>V8</th>\n",
       "      <th>V9</th>\n",
       "    </tr>\n",
       "    <tr>\n",
       "      <th>product_parent</th>\n",
       "      <th></th>\n",
       "      <th></th>\n",
       "      <th></th>\n",
       "      <th></th>\n",
       "      <th></th>\n",
       "      <th></th>\n",
       "      <th></th>\n",
       "      <th></th>\n",
       "      <th></th>\n",
       "      <th></th>\n",
       "    </tr>\n",
       "  </thead>\n",
       "  <tbody>\n",
       "    <tr>\n",
       "      <th>9574613</th>\n",
       "      <td>-0.020669</td>\n",
       "      <td>-0.035234</td>\n",
       "      <td>-0.037702</td>\n",
       "      <td>0.011102</td>\n",
       "      <td>-0.022955</td>\n",
       "      <td>-0.008894</td>\n",
       "      <td>-0.023857</td>\n",
       "      <td>-0.014683</td>\n",
       "      <td>0.001188</td>\n",
       "      <td>-0.036309</td>\n",
       "    </tr>\n",
       "    <tr>\n",
       "      <th>10058938</th>\n",
       "      <td>-0.024712</td>\n",
       "      <td>-0.237303</td>\n",
       "      <td>-0.048841</td>\n",
       "      <td>0.012727</td>\n",
       "      <td>-0.010097</td>\n",
       "      <td>-0.026615</td>\n",
       "      <td>-0.044964</td>\n",
       "      <td>-0.018914</td>\n",
       "      <td>0.004009</td>\n",
       "      <td>-0.088032</td>\n",
       "    </tr>\n",
       "    <tr>\n",
       "      <th>16422355</th>\n",
       "      <td>-0.011249</td>\n",
       "      <td>-0.089608</td>\n",
       "      <td>-0.047144</td>\n",
       "      <td>0.010263</td>\n",
       "      <td>0.006285</td>\n",
       "      <td>0.000460</td>\n",
       "      <td>0.008407</td>\n",
       "      <td>-0.003717</td>\n",
       "      <td>0.002207</td>\n",
       "      <td>-0.027726</td>\n",
       "    </tr>\n",
       "    <tr>\n",
       "      <th>23959419</th>\n",
       "      <td>-0.002988</td>\n",
       "      <td>-0.044881</td>\n",
       "      <td>-0.169532</td>\n",
       "      <td>-0.172110</td>\n",
       "      <td>-0.056766</td>\n",
       "      <td>-0.092268</td>\n",
       "      <td>0.003090</td>\n",
       "      <td>0.015442</td>\n",
       "      <td>0.139214</td>\n",
       "      <td>-0.104559</td>\n",
       "    </tr>\n",
       "    <tr>\n",
       "      <th>27598889</th>\n",
       "      <td>-0.014708</td>\n",
       "      <td>-0.020488</td>\n",
       "      <td>-0.057387</td>\n",
       "      <td>0.031323</td>\n",
       "      <td>-0.031120</td>\n",
       "      <td>-0.024888</td>\n",
       "      <td>-0.012385</td>\n",
       "      <td>0.004776</td>\n",
       "      <td>0.016489</td>\n",
       "      <td>-0.017681</td>\n",
       "    </tr>\n",
       "  </tbody>\n",
       "</table>\n",
       "</div>"
      ],
      "text/plain": [
       "                      V0        V1        V2        V3        V4        V5  \\\n",
       "product_parent                                                               \n",
       "9574613        -0.020669 -0.035234 -0.037702  0.011102 -0.022955 -0.008894   \n",
       "10058938       -0.024712 -0.237303 -0.048841  0.012727 -0.010097 -0.026615   \n",
       "16422355       -0.011249 -0.089608 -0.047144  0.010263  0.006285  0.000460   \n",
       "23959419       -0.002988 -0.044881 -0.169532 -0.172110 -0.056766 -0.092268   \n",
       "27598889       -0.014708 -0.020488 -0.057387  0.031323 -0.031120 -0.024888   \n",
       "\n",
       "                      V6        V7        V8        V9  \n",
       "product_parent                                          \n",
       "9574613        -0.023857 -0.014683  0.001188 -0.036309  \n",
       "10058938       -0.044964 -0.018914  0.004009 -0.088032  \n",
       "16422355        0.008407 -0.003717  0.002207 -0.027726  \n",
       "23959419        0.003090  0.015442  0.139214 -0.104559  \n",
       "27598889       -0.012385  0.004776  0.016489 -0.017681  "
      ]
     },
     "execution_count": 24,
     "metadata": {},
     "output_type": "execute_result"
    }
   ],
   "source": [
    "# create column names for the vector\n",
    "_col_names = ['V' + str(i) for i in range(_svd_u_eigen.shape[1])]\n",
    "\n",
    "_v_vec = pd.DataFrame(_svd_v_eigen.cpu().numpy(),\n",
    "                        columns=_col_names,\n",
    "                        index=_matrix_df.columns.astype(np.str, copy=True))\n",
    "kapi_io.save_df(_v_vec, 'svd_item_vec', SCHEMA)\n",
    "_v_vec.head()"
   ]
  },
  {
   "cell_type": "markdown",
   "metadata": {},
   "source": [
    "## Result Analisys"
   ]
  },
  {
   "cell_type": "markdown",
   "metadata": {},
   "source": [
    "### Plot singular values\n",
    "\n",
    "The $\\Sigma$ matrix contains the singular values that give the magnitudes of the singular vectors. We can calculate how much we lose through truncation. This demonstrates that most of the magnitudes are concentrated in the leading vectors.\n",
    "\n",
    "If we retain R principal components then the area under a segment of the curve ending with R indicates how much of the total contribution those components make. This can be calculated by considering the ratio of the magnitude of the components we are retaining to the sum of all components.\n",
    "\n",
    "$\\displaystyle \\epsilon(r) = \\frac{\\sigma_{reduced}}{\\sigma_{total}} = \\frac{\\sum^{R}_{r} \\sigma_r}{\\sum_{r} \\sigma_r}$"
   ]
  },
  {
   "cell_type": "code",
   "execution_count": 25,
   "metadata": {},
   "outputs": [
    {
     "data": {
      "text/plain": [
       "[<matplotlib.lines.Line2D at 0x7f92bdc56be0>]"
      ]
     },
     "execution_count": 25,
     "metadata": {},
     "output_type": "execute_result"
    },
    {
     "data": {
      "image/png": "[encoded data removed]",
      "text/plain": [
       "<Figure size 432x288 with 1 Axes>"
      ]
     },
     "metadata": {},
     "output_type": "display_data"
    }
   ],
   "source": [
    "from matplotlib import pyplot as plt\n",
    "\n",
    "_svd_s_np = _svd_s.cpu().numpy()\n",
    "plt.title('Singular Value Magnitudes')\n",
    "plt.xlabel('Vector Index')\n",
    "plt.ylabel('Magnitude')\n",
    "plt.plot(_svd_s_np[:50])"
   ]
  },
  {
   "cell_type": "markdown",
   "metadata": {},
   "source": [
    "### Calculate approximated matrix\n",
    "\n",
    "Here we Multiply calculate an aproximated rating matrix.\n",
    "\n",
    "$\\tilde{\\mathbf{A}} = \\tilde{\\mathbf{U}}\\tilde{\\mathbf{V}}^T$"
   ]
  },
  {
   "cell_type": "code",
   "execution_count": 26,
   "metadata": {},
   "outputs": [
    {
     "name": "stdout",
     "output_type": "stream",
     "text": [
      "SVD approx: U=[65531, 10] s=[10] V=[497, 10]\n",
      "Matrix approx: [65531, 497]\n"
     ]
    }
   ],
   "source": [
    "print('SVD approx: U={} s={} V={}'\n",
    "    .format([*_svd_u_approx.shape], [*_svd_s_approx.shape], [*_svd_v_approx.shape]))\n",
    "\n",
    "# calculate reduced rank matrix\n",
    "_svd_s_diag = th.diag(_svd_s_approx)\n",
    "_svd_v_t = _svd_v_approx.t()\n",
    "_matrix_approx_cuda = _svd_u_approx.matmul(_svd_s_diag).matmul(_svd_v_t)\n",
    "\n",
    "# copy result back from vRAM to RAM\n",
    "_matrix_approx_np = _matrix_approx_cuda.cpu().numpy()\n",
    "print('Matrix approx: {}'\n",
    "    .format([*_matrix_approx_np.shape]))\n",
    "\n",
    "# approximated dataframe\n",
    "_approx_df = pd.DataFrame(_matrix_approx_np, \n",
    "                          columns=_matrix_df.columns, \n",
    "                          index=_matrix_df.index)\n",
    "#_approx_df.head()"
   ]
  },
  {
   "cell_type": "markdown",
   "metadata": {},
   "source": [
    "### Approximation error per customer\n",
    "\n",
    "Here we calculate the magnitude of the error to determine how accurate the approximation is per customer.\n",
    "\n",
    "$ \\epsilon_c = \\mathbf{a}_c − \\mathbf{\\tilde{a}}_c  = \\mathbf{r}_c $\n",
    "\n",
    "When producing a recommendation we can gauge the magnitude of the approximation error which is similar to the root-mean-square-deviation (RMSD). If this is too large it is an indication that the prediction is not accurate because the customer is an outlier.\n",
    "\n",
    "$\\displaystyle \\operatorname{RMSD}(\\mathbf{r}_c) = \\sqrt{ \\frac{\\sum_i^R r_i^2 }{R} } = \\sqrt{ \\frac{\\mathbf{r}_c \\cdot \\mathbf{r}_c}{R} } = \\frac{\\Vert \\mathbf{r}_c \\Vert }{\\sqrt{R}} $"
   ]
  },
  {
   "cell_type": "code",
   "execution_count": 27,
   "metadata": {},
   "outputs": [
    {
     "name": "stdout",
     "output_type": "stream",
     "text": [
      "Input matrices: orig=[65531, 497] approx=[65531, 497]\n"
     ]
    },
    {
     "data": {
      "text/html": [
       "<div>\n",
       "<style scoped>\n",
       "    .dataframe tbody tr th:only-of-type {\n",
       "        vertical-align: middle;\n",
       "    }\n",
       "\n",
       "    .dataframe tbody tr th {\n",
       "        vertical-align: top;\n",
       "    }\n",
       "\n",
       "    .dataframe thead th {\n",
       "        text-align: right;\n",
       "    }\n",
       "</style>\n",
       "<table border=\"1\" class=\"dataframe\">\n",
       "  <thead>\n",
       "    <tr style=\"text-align: right;\">\n",
       "      <th></th>\n",
       "      <th>error</th>\n",
       "    </tr>\n",
       "    <tr>\n",
       "      <th>customer_id</th>\n",
       "      <th></th>\n",
       "    </tr>\n",
       "  </thead>\n",
       "  <tbody>\n",
       "    <tr>\n",
       "      <th>11152</th>\n",
       "      <td>0.297751</td>\n",
       "    </tr>\n",
       "    <tr>\n",
       "      <th>12976</th>\n",
       "      <td>0.316818</td>\n",
       "    </tr>\n",
       "    <tr>\n",
       "      <th>14254</th>\n",
       "      <td>0.224274</td>\n",
       "    </tr>\n",
       "    <tr>\n",
       "      <th>14675</th>\n",
       "      <td>0.383462</td>\n",
       "    </tr>\n",
       "    <tr>\n",
       "      <th>15657</th>\n",
       "      <td>0.388331</td>\n",
       "    </tr>\n",
       "    <tr>\n",
       "      <th>15890</th>\n",
       "      <td>0.216886</td>\n",
       "    </tr>\n",
       "    <tr>\n",
       "      <th>18275</th>\n",
       "      <td>0.261497</td>\n",
       "    </tr>\n",
       "    <tr>\n",
       "      <th>19434</th>\n",
       "      <td>0.224272</td>\n",
       "    </tr>\n",
       "    <tr>\n",
       "      <th>20045</th>\n",
       "      <td>0.317109</td>\n",
       "    </tr>\n",
       "    <tr>\n",
       "      <th>22632</th>\n",
       "      <td>0.317033</td>\n",
       "    </tr>\n",
       "  </tbody>\n",
       "</table>\n",
       "</div>"
      ],
      "text/plain": [
       "                error\n",
       "customer_id          \n",
       "11152        0.297751\n",
       "12976        0.316818\n",
       "14254        0.224274\n",
       "14675        0.383462\n",
       "15657        0.388331\n",
       "15890        0.216886\n",
       "18275        0.261497\n",
       "19434        0.224272\n",
       "20045        0.317109\n",
       "22632        0.317033"
      ]
     },
     "execution_count": 27,
     "metadata": {},
     "output_type": "execute_result"
    }
   ],
   "source": [
    "print('Input matrices: orig={} approx={}'\n",
    "    .format([*_matrix_cuda.shape], [*_matrix_approx_cuda.shape]))\n",
    "\n",
    "_diff = _matrix_cuda - _matrix_approx_cuda\n",
    "_rmsd = _diff.pow(2).mean(dim=1).sqrt()\n",
    "_rmsd_df = pd.DataFrame(_rmsd.cpu().numpy(), \n",
    "                        columns=['error'], \n",
    "                        index=_matrix_df.index)\n",
    "\n",
    "_rmsd_df.sort_values('customer_id', ascending=True).head(10)"
   ]
  },
  {
   "cell_type": "markdown",
   "metadata": {},
   "source": [
    "### Compare original with reduced rank matrix\n",
    "\n",
    "Here we visualize the approximated and actual matrices where x-axis varies with product and y-axis varies with customer."
   ]
  },
  {
   "cell_type": "code",
   "execution_count": 28,
   "metadata": {},
   "outputs": [
    {
     "data": {
      "image/png": "[encoded data removed]",
      "text/plain": [
       "<Figure size 1440x10800 with 1 Axes>"
      ]
     },
     "metadata": {},
     "output_type": "display_data"
    },
    {
     "data": {
      "image/png": "[encoded data removed]",
      "text/plain": [
       "<Figure size 1440x10800 with 1 Axes>"
      ]
     },
     "metadata": {},
     "output_type": "display_data"
    }
   ],
   "source": [
    "from matplotlib import pyplot as plt\n",
    "\n",
    "plt.figure(figsize=(20,150))\n",
    "plt.imshow(_matrix_np[:100,:500])\n",
    "plt.xlabel('Product Index')\n",
    "plt.ylabel('Customer Index')\n",
    "plt.title('Original')\n",
    "plt.show()\n",
    "\n",
    "# remove values < 0\n",
    "_matrix_approx_fix = np.copy(_matrix_approx_np)\n",
    "_matrix_approx_fix[_matrix_approx_fix < 0] = 0\n",
    "\n",
    "plt.figure(figsize=(20,150))\n",
    "plt.imshow(_matrix_approx_fix[:100,:500])\n",
    "plt.xlabel('Product Index')\n",
    "plt.ylabel('Customer Index')\n",
    "plt.title('Reduced Rank')\n",
    "plt.show()"
   ]
  },
  {
   "cell_type": "code",
   "execution_count": null,
   "metadata": {},
   "outputs": [],
   "source": []
  }
 ],
 "metadata": {
  "kernelspec": {
   "display_name": "Python 3",
   "language": "python",
   "name": "python3"
  },
  "language_info": {
   "codemirror_mode": {
    "name": "ipython",
    "version": 3
   },
   "file_extension": ".py",
   "mimetype": "text/x-python",
   "name": "python",
   "nbconvert_exporter": "python",
   "pygments_lexer": "ipython3",
   "version": "3.6.5"
  }
 },
 "nbformat": 4,
 "nbformat_minor": 2
}
