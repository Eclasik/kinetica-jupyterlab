{
 "cells": [
  {
   "cell_type": "markdown",
   "metadata": {},
   "source": [
    "# Example ingest and data cleanse\n",
    "\n",
    "In this example we ingest publically available Amazon rating data for purposes of SVD analisys.  We also do some additional filtering to reduce the dataset to a manageable size.\n",
    "\n",
    "### Steps\n",
    "\n",
    "1. Download compressed file.\n",
    "1. Read file to DataFrame.\n",
    "1. Create a new dataframe with the columns we need. \n",
    "1. Do some data cleansing.\n",
    "1. Save to `amazon_reviews_in` table.\n",
    "1. Create `amazon_customers` table.\n",
    "1. Create `amazon_products` table.\n",
    "1. Create `amazon_matrix` table.\n",
    "\n",
    "### See Also\n",
    "\n",
    "* [Amazon Customer Reviews Dataset](https://s3.amazonaws.com/amazon-reviews-pds/readme.html)\n",
    "* [Dataset Index](https://s3.amazonaws.com/amazon-reviews-pds/tsv/index.txt)"
   ]
  },
  {
   "cell_type": "code",
   "execution_count": 1,
   "metadata": {},
   "outputs": [
    {
     "data": {
      "text/html": [
       "<style>\n",
       "  table {margin-left: 0 !important;}\n",
       "</style>"
      ],
      "text/plain": [
       "<IPython.core.display.HTML object>"
      ]
     },
     "metadata": {},
     "output_type": "display_data"
    }
   ],
   "source": [
    "%%html\n",
    "<style>\n",
    "  table {margin-left: 0 !important;}\n",
    "</style>"
   ]
  },
  {
   "cell_type": "markdown",
   "metadata": {},
   "source": [
    "### Generated Tabeles\n",
    "\n",
    "We do some filtering on the `amazon_reviews_in` to reduce the size of data for SVD.\n",
    "\n",
    "| Table Name | Description |\n",
    "| ---: | ---: |\n",
    "| amazon_reviews_in | Raw ingested data. |\n",
    "| amazon_customers | Customers who have rated more than 3 products. |\n",
    "| amazon_products | Top 500 rated products. |\n",
    "| amazon_matrix | Filtered rating data that will be used for SVD. |"
   ]
  },
  {
   "cell_type": "code",
   "execution_count": 2,
   "metadata": {},
   "outputs": [],
   "source": [
    "# Local libraries should automatically reload\n",
    "%reload_ext autoreload\n",
    "%autoreload 1\n",
    "\n",
    "import sys \n",
    "sys.path.append('../KJIO')\n",
    "import pandas as pd\n",
    "import numpy as np\n",
    "%aimport kapi_io\n",
    "import gpudb\n",
    "\n",
    "# create tables in this schema\n",
    "SCHEMA = 'SVD'\n",
    "\n",
    "_tsv_file = 'amazon_reviews_us_Tools_v1_00.tsv.gz'"
   ]
  },
  {
   "cell_type": "markdown",
   "metadata": {},
   "source": [
    "### Download file\n",
    "\n",
    "This data contains 1,741,100 ratings for 168,648 unique products for the tools category. Other product categories are available.\n",
    "\n",
    "File Source: [amazon_reviews_us_Tools_v1_00.tsv.gz](https://s3.amazonaws.com/amazon-reviews-pds/tsv/amazon_reviews_us_Tools_v1_00.tsv.gz) (333.8 MB)\n",
    "\n",
    "Columns:\n",
    "\n",
    "```\n",
    "marketplace       - 2 letter country code of the marketplace where the review was written.\n",
    "customer_id       - Random identifier that can be used to aggregate reviews written by a single author.\n",
    "review_id         - The unique ID of the review.\n",
    "product_id        - The unique Product ID the review pertains to. In the multilingual dataset the reviews\n",
    "                    for the same product in different countries can be grouped by the same product_id.\n",
    "product_parent    - Random identifier that can be used to aggregate reviews for the same product.\n",
    "product_title     - Title of the product.\n",
    "product_category  - Broad product category that can be used to group reviews \n",
    "                    (also used to group the dataset into coherent parts).\n",
    "star_rating       - The 1-5 star rating of the review.\n",
    "helpful_votes     - Number of helpful votes.\n",
    "total_votes       - Number of total votes the review received.\n",
    "vine              - Review was written as part of the Vine program.\n",
    "verified_purchase - The review is on a verified purchase.\n",
    "review_headline   - The title of the review.\n",
    "review_body       - The review text.\n",
    "review_date       - The date the review was written.\n",
    "```"
   ]
  },
  {
   "cell_type": "code",
   "execution_count": 3,
   "metadata": {},
   "outputs": [
    {
     "name": "stdout",
     "output_type": "stream",
     "text": [
      "Fetching data from https://s3.amazonaws.com/amazon-reviews-pds/tsv/amazon_reviews_us_Tools_v1_00.tsv.gz\n",
      "All done!\n"
     ]
    }
   ],
   "source": [
    "import urllib\n",
    "\n",
    "_site = 'https://s3.amazonaws.com/amazon-reviews-pds/tsv'\n",
    "_url = '{}/{}'.format(_site, _tsv_file)\n",
    "\n",
    "print('Fetching data from {}. Please be patient...'.format(_url))\n",
    "urllib.request.urlretrieve(_url, _tsv_file)\n",
    "print('All done!')"
   ]
  },
  {
   "cell_type": "markdown",
   "metadata": {},
   "source": [
    "### Read TSV file to DataFrame"
   ]
  },
  {
   "cell_type": "code",
   "execution_count": 5,
   "metadata": {},
   "outputs": [
    {
     "name": "stdout",
     "output_type": "stream",
     "text": [
      "Generating dataframe from amazon_reviews_us_Tools_v1_00.tsv.gz. Please be patient.\n"
     ]
    },
    {
     "data": {
      "text/plain": [
       "'Completed with shape: (1741100, 15)'"
      ]
     },
     "metadata": {},
     "output_type": "display_data"
    },
    {
     "data": {
      "text/plain": [
       "marketplace          object\n",
       "customer_id           int64\n",
       "review_id            object\n",
       "product_id           object\n",
       "product_parent        int64\n",
       "product_title        object\n",
       "product_category     object\n",
       "star_rating           int64\n",
       "helpful_votes         int64\n",
       "total_votes           int64\n",
       "vine                 object\n",
       "verified_purchase    object\n",
       "review_headline      object\n",
       "review_body          object\n",
       "review_date          object\n",
       "dtype: object"
      ]
     },
     "metadata": {},
     "output_type": "display_data"
    }
   ],
   "source": [
    "import csv\n",
    "\n",
    "print('Generating dataframe from {}. Please be patient...'.format(_tsv_file))\n",
    "_tools_df = pd.read_csv(_tsv_file,\n",
    "                        delimiter='\\t',\n",
    "                        encoding='utf-8',\n",
    "                        compression='gzip',\n",
    "                        error_bad_lines=True,\n",
    "                        warn_bad_lines=True,\n",
    "                        nrows=None,\n",
    "                        low_memory=True,\n",
    "                        quoting=csv.QUOTE_NONE,\n",
    "                        header=0)\n",
    "\n",
    "display('Completed with shape: {}'.format(_tools_df.shape))\n",
    "display(_tools_df.dtypes)"
   ]
  },
  {
   "cell_type": "markdown",
   "metadata": {},
   "source": [
    "### Create a new dataframe with less columms"
   ]
  },
  {
   "cell_type": "code",
   "execution_count": 5,
   "metadata": {},
   "outputs": [
    {
     "data": {
      "text/html": [
       "<div>\n",
       "<style scoped>\n",
       "    .dataframe tbody tr th:only-of-type {\n",
       "        vertical-align: middle;\n",
       "    }\n",
       "\n",
       "    .dataframe tbody tr th {\n",
       "        vertical-align: top;\n",
       "    }\n",
       "\n",
       "    .dataframe thead th {\n",
       "        text-align: right;\n",
       "    }\n",
       "</style>\n",
       "<table border=\"1\" class=\"dataframe\">\n",
       "  <thead>\n",
       "    <tr style=\"text-align: right;\">\n",
       "      <th></th>\n",
       "      <th>product_id</th>\n",
       "      <th>product_parent</th>\n",
       "      <th>product_title</th>\n",
       "      <th>star_rating</th>\n",
       "    </tr>\n",
       "    <tr>\n",
       "      <th>customer_id</th>\n",
       "      <th></th>\n",
       "      <th></th>\n",
       "      <th></th>\n",
       "      <th></th>\n",
       "    </tr>\n",
       "  </thead>\n",
       "  <tbody>\n",
       "    <tr>\n",
       "      <th>15785389</th>\n",
       "      <td>B00H5U9ZD6</td>\n",
       "      <td>115362950</td>\n",
       "      <td>WallPeg 12 sq ft Black Workbench Pegboard Orga...</td>\n",
       "      <td>5</td>\n",
       "    </tr>\n",
       "    <tr>\n",
       "      <th>47910848</th>\n",
       "      <td>B001TJGCS0</td>\n",
       "      <td>570955425</td>\n",
       "      <td>Nite Ize Nite Dawg Light Up Dog Collar</td>\n",
       "      <td>4</td>\n",
       "    </tr>\n",
       "    <tr>\n",
       "      <th>36328996</th>\n",
       "      <td>B000NIK8JW</td>\n",
       "      <td>128843593</td>\n",
       "      <td>Stanley 84-058 4 Piece Bi-Metal Pliers SetQty ...</td>\n",
       "      <td>1</td>\n",
       "    </tr>\n",
       "    <tr>\n",
       "      <th>51785809</th>\n",
       "      <td>B008ZYRGUA</td>\n",
       "      <td>407828107</td>\n",
       "      <td>Powerextra 14.4V Replacement Battery For Ryobi...</td>\n",
       "      <td>4</td>\n",
       "    </tr>\n",
       "    <tr>\n",
       "      <th>40757491</th>\n",
       "      <td>B00K5CA0GC</td>\n",
       "      <td>490746675</td>\n",
       "      <td>Waterproof Invisible Fence® Repair Splice Kit</td>\n",
       "      <td>5</td>\n",
       "    </tr>\n",
       "  </tbody>\n",
       "</table>\n",
       "</div>"
      ],
      "text/plain": [
       "             product_id  product_parent  \\\n",
       "customer_id                               \n",
       "15785389     B00H5U9ZD6       115362950   \n",
       "47910848     B001TJGCS0       570955425   \n",
       "36328996     B000NIK8JW       128843593   \n",
       "51785809     B008ZYRGUA       407828107   \n",
       "40757491     B00K5CA0GC       490746675   \n",
       "\n",
       "                                                 product_title  star_rating  \n",
       "customer_id                                                                  \n",
       "15785389     WallPeg 12 sq ft Black Workbench Pegboard Orga...            5  \n",
       "47910848                Nite Ize Nite Dawg Light Up Dog Collar            4  \n",
       "36328996     Stanley 84-058 4 Piece Bi-Metal Pliers SetQty ...            1  \n",
       "51785809     Powerextra 14.4V Replacement Battery For Ryobi...            4  \n",
       "40757491         Waterproof Invisible Fence® Repair Splice Kit            5  "
      ]
     },
     "execution_count": 5,
     "metadata": {},
     "output_type": "execute_result"
    }
   ],
   "source": [
    "_tools_new = pd.concat([\n",
    "    _tools_df['customer_id'], \n",
    "    _tools_df['product_id'],\n",
    "    _tools_df['product_parent'],\n",
    "    _tools_df['product_title'],\n",
    "    _tools_df['star_rating']\n",
    "    ], \n",
    "    axis=1).set_index('customer_id')\n",
    "\n",
    "# Display contents\n",
    "_tools_new.head()"
   ]
  },
  {
   "cell_type": "markdown",
   "metadata": {},
   "source": [
    "### Do some misc data cleansing"
   ]
  },
  {
   "cell_type": "code",
   "execution_count": 6,
   "metadata": {},
   "outputs": [
    {
     "data": {
      "text/plain": [
       "'product_title max: 400'"
      ]
     },
     "metadata": {},
     "output_type": "display_data"
    },
    {
     "data": {
      "text/plain": [
       "'product_id max: 10'"
      ]
     },
     "metadata": {},
     "output_type": "display_data"
    },
    {
     "data": {
      "text/plain": [
       "'Done!'"
      ]
     },
     "metadata": {},
     "output_type": "display_data"
    }
   ],
   "source": [
    "# find out max size of product_title\n",
    "_max_product = _tools_new['product_title'].str.len().max()\n",
    "display('product_title max: {}'.format(_max_product))\n",
    "\n",
    "# find max size of product_id\n",
    "product_id = _tools_new['product_id'].str.len().max()\n",
    "display('product_id max: {}'.format(product_id))\n",
    "\n",
    "# trim to 100 chars\n",
    "_tools_new['product_title'] = _tools_new['product_title'].map(lambda x: x[:100])\n",
    "\n",
    "# remove unicode\n",
    "_tools_new['product_title'] = _tools_new['product_title'].map(lambda x: x.encode('ascii', 'ignore').decode('ascii'))\n",
    "\n",
    "# convert long to int\n",
    "_tools_new['star_rating'] = _tools_new['star_rating'].astype(np.int32)\n",
    "\n",
    "display('Done!')"
   ]
  },
  {
   "cell_type": "markdown",
   "metadata": {},
   "source": [
    "### Save dataframe to amazon_reviews_in table."
   ]
  },
  {
   "cell_type": "code",
   "execution_count": 7,
   "metadata": {},
   "outputs": [
    {
     "name": "stdout",
     "output_type": "stream",
     "text": [
      "Dropping table: <amazon_reviews_in>\n",
      "Creating  table: <amazon_reviews_in>\n",
      "Column 0: <customer_id> (long) ['shard_key']\n",
      "Column 1: <product_id> (string) ['char16']\n",
      "Column 2: <product_parent> (long) []\n",
      "Column 3: <product_title> (string) ['char128']\n",
      "Column 4: <star_rating> (int) []\n",
      "Inserted rows into <SVD.amazon_reviews_in>: 1741100\n"
     ]
    }
   ],
   "source": [
    "## Override default string size of 16\n",
    "_col_props = { 'product_id' : [gpudb.GPUdbColumnProperty.CHAR16],\n",
    "               'product_title' : [gpudb.GPUdbColumnProperty.CHAR128] }\n",
    "\n",
    "kapi_io.save_df(_df=_tools_new, _table_name='amazon_reviews_in', _schema=SCHEMA, _col_props=_col_props)"
   ]
  },
  {
   "cell_type": "markdown",
   "metadata": {},
   "source": [
    "### Create amazon_customers table\n",
    "\n",
    "Customers who have rated at least 3 products."
   ]
  },
  {
   "cell_type": "code",
   "execution_count": 9,
   "metadata": {},
   "outputs": [
    {
     "name": "stdout",
     "output_type": "stream",
     "text": [
      "Connected to GPUdb ODBC Server (6.2.0.17.20180825221415)\n"
     ]
    },
    {
     "data": {
      "text/plain": [
       "0"
      ]
     },
     "execution_count": 9,
     "metadata": {},
     "output_type": "execute_result"
    }
   ],
   "source": [
    "%aimport kodbc_io\n",
    "kodbc_io.execute('''\n",
    "create or replace table {}.amazon_customers as (\n",
    "    select \n",
    "        customer_id,\n",
    "        count(1) rating_count\n",
    "    from amazon_reviews_in\n",
    "    group by customer_id\n",
    "    having count(1) >= 3\n",
    ")\n",
    "'''.format(SCHEMA))"
   ]
  },
  {
   "cell_type": "markdown",
   "metadata": {},
   "source": [
    "### Create amazon_products table\n",
    "\n",
    "Top 500 rated products."
   ]
  },
  {
   "cell_type": "code",
   "execution_count": 10,
   "metadata": {},
   "outputs": [
    {
     "name": "stdout",
     "output_type": "stream",
     "text": [
      "Connected to GPUdb ODBC Server (6.2.0.17.20180825221415)\n"
     ]
    },
    {
     "data": {
      "text/plain": [
       "0"
      ]
     },
     "execution_count": 10,
     "metadata": {},
     "output_type": "execute_result"
    }
   ],
   "source": [
    "%aimport kodbc_io\n",
    "kodbc_io.execute('''\n",
    "create or replace replicated table {}.amazon_products as (\n",
    "    select top 500\n",
    "        product_parent,\n",
    "        product_title,\n",
    "        count(1) rating_count\n",
    "    from amazon_reviews_in ar\n",
    "    group by product_parent, product_title\n",
    "    order by rating_count desc\n",
    ")\n",
    "'''.format(SCHEMA))"
   ]
  },
  {
   "cell_type": "markdown",
   "metadata": {},
   "source": [
    "### Crate amazon_matrix table\n",
    "\n",
    "Create a table of ratings where the customers and products meet the above criteria."
   ]
  },
  {
   "cell_type": "code",
   "execution_count": 11,
   "metadata": {},
   "outputs": [
    {
     "name": "stdout",
     "output_type": "stream",
     "text": [
      "Connected to GPUdb ODBC Server (6.2.0.17.20180825221415)\n"
     ]
    },
    {
     "data": {
      "text/plain": [
       "0"
      ]
     },
     "execution_count": 11,
     "metadata": {},
     "output_type": "execute_result"
    }
   ],
   "source": [
    "kodbc_io.execute('''\n",
    "create or replace table {}.amazon_matrix as (\n",
    "    select\n",
    "        ar.customer_id,\n",
    "        ar.product_parent,\n",
    "        ar.star_rating\n",
    "    from amazon_reviews_in ar\n",
    "    join amazon_customers ac\n",
    "        on ar.customer_id = ac.customer_id\n",
    "    join amazon_products ap\n",
    "        on ar.product_parent = ap.product_parent\n",
    "    order by ar.customer_id\n",
    ")\n",
    "'''.format(SCHEMA))"
   ]
  }
 ],
 "metadata": {
  "kernelspec": {
   "display_name": "Python 3",
   "language": "python",
   "name": "python3"
  },
  "language_info": {
   "codemirror_mode": {
    "name": "ipython",
    "version": 3
   },
   "file_extension": ".py",
   "mimetype": "text/x-python",
   "name": "python",
   "nbconvert_exporter": "python",
   "pygments_lexer": "ipython3",
   "version": "3.6.5"
  }
 },
 "nbformat": 4,
 "nbformat_minor": 2
}
