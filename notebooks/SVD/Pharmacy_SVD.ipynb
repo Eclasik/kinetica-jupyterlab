{
 "cells": [
  {
   "cell_type": "markdown",
   "metadata": {},
   "source": [
    "# Pharmacy SVD Matrix Factorization"
   ]
  },
  {
   "cell_type": "code",
   "execution_count": 1,
   "metadata": {},
   "outputs": [],
   "source": [
    "import numpy as np\n",
    "import pandas as pd\n",
    "\n",
    "# Local libraries should automatically reload\n",
    "%load_ext autoreload\n",
    "%autoreload 1\n",
    "\n",
    "# assign GPU\n",
    "import os\n",
    "os.environ['CUDA_VISIBLE_DEVICES'] = '1'"
   ]
  },
  {
   "cell_type": "markdown",
   "metadata": {},
   "source": [
    "### Generate input Matrix"
   ]
  },
  {
   "cell_type": "code",
   "execution_count": 2,
   "metadata": {},
   "outputs": [
    {
     "name": "stdout",
     "output_type": "stream",
     "text": [
      "Connected to GPUdb ODBC Server (6.2.0.9.20180622232941)\n",
      "Created PHARM_MATRIX\n"
     ]
    }
   ],
   "source": [
    "%aimport gpudb_df\n",
    "_cnxn = gpudb_df.get_odbc()\n",
    "\n",
    "_sql = \"\"\"\n",
    "create or replace table {}.PHARM_MATRIX as (\n",
    "    select \n",
    "        rtf.PATIENT_ID,\n",
    "        p.GENDER,\n",
    "        d.THERAPEUTIC_IDENTIFIER as TID,\n",
    "        count(1) as RX_COUNT\n",
    "    from PHARM_TXN_LOG as rtf\n",
    "    join PHARM_DRUG as d\n",
    "        ON d.SRC_NHIN_STORE_ID = rtf.SRC_NHIN_STORE_ID\n",
    "        AND rtf.DISPENSED_DRUG_NDC = d.NDC\n",
    "    join PHARM_PATIENT p\n",
    "        on p.SRC_NHIN_STORE_ID = rtf.SRC_NHIN_STORE_ID\n",
    "        and p.ID = rtf.PATIENT_ID\n",
    "    where rtf.SRC_NHIN_STORE_ID = 900002841\n",
    "    group by 1,2,3\n",
    ")\n",
    "\"\"\".format(gpudb_df.SCHEMA)\n",
    "\n",
    "_cnxn.execute(_sql)\n",
    "_cnxn.close()\n",
    "\n",
    "print('Created PHARM_MATRIX')"
   ]
  },
  {
   "cell_type": "markdown",
   "metadata": {},
   "source": [
    "### Load input matrix from PHARMACY_MATRIX"
   ]
  },
  {
   "cell_type": "code",
   "execution_count": 3,
   "metadata": {},
   "outputs": [
    {
     "name": "stdout",
     "output_type": "stream",
     "text": [
      "Getting records from <PHARM_MATRIX>...........\n",
      "Records Retrieved: (106457, 4)\n"
     ]
    },
    {
     "data": {
      "text/html": [
       "<div>\n",
       "<style scoped>\n",
       "    .dataframe tbody tr th:only-of-type {\n",
       "        vertical-align: middle;\n",
       "    }\n",
       "\n",
       "    .dataframe tbody tr th {\n",
       "        vertical-align: top;\n",
       "    }\n",
       "\n",
       "    .dataframe thead th {\n",
       "        text-align: right;\n",
       "    }\n",
       "</style>\n",
       "<table border=\"1\" class=\"dataframe\">\n",
       "  <thead>\n",
       "    <tr style=\"text-align: right;\">\n",
       "      <th></th>\n",
       "      <th>GENDER</th>\n",
       "      <th>PATIENT_ID</th>\n",
       "      <th>RX_COUNT</th>\n",
       "      <th>TID</th>\n",
       "    </tr>\n",
       "  </thead>\n",
       "  <tbody>\n",
       "    <tr>\n",
       "      <th>0</th>\n",
       "      <td>M</td>\n",
       "      <td>3</td>\n",
       "      <td>1</td>\n",
       "      <td>2737</td>\n",
       "    </tr>\n",
       "    <tr>\n",
       "      <th>1</th>\n",
       "      <td>M</td>\n",
       "      <td>3</td>\n",
       "      <td>1</td>\n",
       "      <td>3925</td>\n",
       "    </tr>\n",
       "    <tr>\n",
       "      <th>2</th>\n",
       "      <td>M</td>\n",
       "      <td>3</td>\n",
       "      <td>1</td>\n",
       "      <td>583</td>\n",
       "    </tr>\n",
       "    <tr>\n",
       "      <th>3</th>\n",
       "      <td>M</td>\n",
       "      <td>3</td>\n",
       "      <td>1</td>\n",
       "      <td>649</td>\n",
       "    </tr>\n",
       "    <tr>\n",
       "      <th>4</th>\n",
       "      <td>F</td>\n",
       "      <td>4</td>\n",
       "      <td>1</td>\n",
       "      <td>11</td>\n",
       "    </tr>\n",
       "  </tbody>\n",
       "</table>\n",
       "</div>"
      ],
      "text/plain": [
       "  GENDER  PATIENT_ID  RX_COUNT   TID\n",
       "0      M           3         1  2737\n",
       "1      M           3         1  3925\n",
       "2      M           3         1   583\n",
       "3      M           3         1   649\n",
       "4      F           4         1    11"
      ]
     },
     "execution_count": 3,
     "metadata": {},
     "output_type": "execute_result"
    }
   ],
   "source": [
    "%aimport gpudb_df\n",
    "\n",
    "# load input table\n",
    "_table_df = gpudb_df.load_df('PHARM_MATRIX')\n",
    "_table_df.head()"
   ]
  },
  {
   "cell_type": "markdown",
   "metadata": {},
   "source": [
    "### Construct sparse matrix"
   ]
  },
  {
   "cell_type": "code",
   "execution_count": 4,
   "metadata": {},
   "outputs": [
    {
     "data": {
      "text/html": [
       "<div>\n",
       "<style scoped>\n",
       "    .dataframe tbody tr th:only-of-type {\n",
       "        vertical-align: middle;\n",
       "    }\n",
       "\n",
       "    .dataframe tbody tr th {\n",
       "        vertical-align: top;\n",
       "    }\n",
       "\n",
       "    .dataframe thead th {\n",
       "        text-align: right;\n",
       "    }\n",
       "</style>\n",
       "<table border=\"1\" class=\"dataframe\">\n",
       "  <thead>\n",
       "    <tr style=\"text-align: right;\">\n",
       "      <th>TID</th>\n",
       "      <th>1002</th>\n",
       "      <th>1013</th>\n",
       "      <th>104</th>\n",
       "      <th>105</th>\n",
       "      <th>106</th>\n",
       "      <th>108</th>\n",
       "      <th>11</th>\n",
       "      <th>1133</th>\n",
       "      <th>1139</th>\n",
       "      <th>1149</th>\n",
       "      <th>...</th>\n",
       "      <th>947</th>\n",
       "      <th>95</th>\n",
       "      <th>954</th>\n",
       "      <th>960</th>\n",
       "      <th>963</th>\n",
       "      <th>977</th>\n",
       "      <th>981</th>\n",
       "      <th>986</th>\n",
       "      <th>990</th>\n",
       "      <th>994</th>\n",
       "    </tr>\n",
       "    <tr>\n",
       "      <th>PATIENT_ID</th>\n",
       "      <th></th>\n",
       "      <th></th>\n",
       "      <th></th>\n",
       "      <th></th>\n",
       "      <th></th>\n",
       "      <th></th>\n",
       "      <th></th>\n",
       "      <th></th>\n",
       "      <th></th>\n",
       "      <th></th>\n",
       "      <th></th>\n",
       "      <th></th>\n",
       "      <th></th>\n",
       "      <th></th>\n",
       "      <th></th>\n",
       "      <th></th>\n",
       "      <th></th>\n",
       "      <th></th>\n",
       "      <th></th>\n",
       "      <th></th>\n",
       "      <th></th>\n",
       "    </tr>\n",
       "  </thead>\n",
       "  <tbody>\n",
       "    <tr>\n",
       "      <th>3</th>\n",
       "      <td>0.0</td>\n",
       "      <td>0.0</td>\n",
       "      <td>0.0</td>\n",
       "      <td>0.0</td>\n",
       "      <td>0.0</td>\n",
       "      <td>0.0</td>\n",
       "      <td>0.0</td>\n",
       "      <td>0.0</td>\n",
       "      <td>0.0</td>\n",
       "      <td>0.0</td>\n",
       "      <td>...</td>\n",
       "      <td>0.0</td>\n",
       "      <td>0.0</td>\n",
       "      <td>0.0</td>\n",
       "      <td>0.0</td>\n",
       "      <td>0.0</td>\n",
       "      <td>0.0</td>\n",
       "      <td>0.0</td>\n",
       "      <td>0.0</td>\n",
       "      <td>0.0</td>\n",
       "      <td>0.0</td>\n",
       "    </tr>\n",
       "    <tr>\n",
       "      <th>4</th>\n",
       "      <td>0.0</td>\n",
       "      <td>0.0</td>\n",
       "      <td>0.0</td>\n",
       "      <td>0.0</td>\n",
       "      <td>0.0</td>\n",
       "      <td>0.0</td>\n",
       "      <td>1.0</td>\n",
       "      <td>0.0</td>\n",
       "      <td>0.0</td>\n",
       "      <td>0.0</td>\n",
       "      <td>...</td>\n",
       "      <td>0.0</td>\n",
       "      <td>0.0</td>\n",
       "      <td>0.0</td>\n",
       "      <td>0.0</td>\n",
       "      <td>0.0</td>\n",
       "      <td>0.0</td>\n",
       "      <td>0.0</td>\n",
       "      <td>0.0</td>\n",
       "      <td>0.0</td>\n",
       "      <td>0.0</td>\n",
       "    </tr>\n",
       "    <tr>\n",
       "      <th>6</th>\n",
       "      <td>0.0</td>\n",
       "      <td>0.0</td>\n",
       "      <td>0.0</td>\n",
       "      <td>0.0</td>\n",
       "      <td>0.0</td>\n",
       "      <td>0.0</td>\n",
       "      <td>0.0</td>\n",
       "      <td>0.0</td>\n",
       "      <td>0.0</td>\n",
       "      <td>0.0</td>\n",
       "      <td>...</td>\n",
       "      <td>0.0</td>\n",
       "      <td>0.0</td>\n",
       "      <td>0.0</td>\n",
       "      <td>0.0</td>\n",
       "      <td>0.0</td>\n",
       "      <td>0.0</td>\n",
       "      <td>0.0</td>\n",
       "      <td>0.0</td>\n",
       "      <td>0.0</td>\n",
       "      <td>0.0</td>\n",
       "    </tr>\n",
       "    <tr>\n",
       "      <th>7</th>\n",
       "      <td>0.0</td>\n",
       "      <td>0.0</td>\n",
       "      <td>0.0</td>\n",
       "      <td>0.0</td>\n",
       "      <td>0.0</td>\n",
       "      <td>0.0</td>\n",
       "      <td>0.0</td>\n",
       "      <td>0.0</td>\n",
       "      <td>0.0</td>\n",
       "      <td>0.0</td>\n",
       "      <td>...</td>\n",
       "      <td>0.0</td>\n",
       "      <td>0.0</td>\n",
       "      <td>0.0</td>\n",
       "      <td>0.0</td>\n",
       "      <td>0.0</td>\n",
       "      <td>0.0</td>\n",
       "      <td>0.0</td>\n",
       "      <td>0.0</td>\n",
       "      <td>0.0</td>\n",
       "      <td>0.0</td>\n",
       "    </tr>\n",
       "    <tr>\n",
       "      <th>9</th>\n",
       "      <td>0.0</td>\n",
       "      <td>0.0</td>\n",
       "      <td>0.0</td>\n",
       "      <td>0.0</td>\n",
       "      <td>0.0</td>\n",
       "      <td>0.0</td>\n",
       "      <td>1.0</td>\n",
       "      <td>0.0</td>\n",
       "      <td>0.0</td>\n",
       "      <td>0.0</td>\n",
       "      <td>...</td>\n",
       "      <td>0.0</td>\n",
       "      <td>0.0</td>\n",
       "      <td>0.0</td>\n",
       "      <td>0.0</td>\n",
       "      <td>0.0</td>\n",
       "      <td>0.0</td>\n",
       "      <td>0.0</td>\n",
       "      <td>0.0</td>\n",
       "      <td>0.0</td>\n",
       "      <td>0.0</td>\n",
       "    </tr>\n",
       "  </tbody>\n",
       "</table>\n",
       "<p>5 rows × 493 columns</p>\n",
       "</div>"
      ],
      "text/plain": [
       "TID         1002  1013  104  105  106  108   11  1133  1139  1149 ...   947  \\\n",
       "PATIENT_ID                                                        ...         \n",
       "3            0.0   0.0  0.0  0.0  0.0  0.0  0.0   0.0   0.0   0.0 ...   0.0   \n",
       "4            0.0   0.0  0.0  0.0  0.0  0.0  1.0   0.0   0.0   0.0 ...   0.0   \n",
       "6            0.0   0.0  0.0  0.0  0.0  0.0  0.0   0.0   0.0   0.0 ...   0.0   \n",
       "7            0.0   0.0  0.0  0.0  0.0  0.0  0.0   0.0   0.0   0.0 ...   0.0   \n",
       "9            0.0   0.0  0.0  0.0  0.0  0.0  1.0   0.0   0.0   0.0 ...   0.0   \n",
       "\n",
       "TID          95  954  960  963  977  981  986  990  994  \n",
       "PATIENT_ID                                               \n",
       "3           0.0  0.0  0.0  0.0  0.0  0.0  0.0  0.0  0.0  \n",
       "4           0.0  0.0  0.0  0.0  0.0  0.0  0.0  0.0  0.0  \n",
       "6           0.0  0.0  0.0  0.0  0.0  0.0  0.0  0.0  0.0  \n",
       "7           0.0  0.0  0.0  0.0  0.0  0.0  0.0  0.0  0.0  \n",
       "9           0.0  0.0  0.0  0.0  0.0  0.0  0.0  0.0  0.0  \n",
       "\n",
       "[5 rows x 493 columns]"
      ]
     },
     "execution_count": 4,
     "metadata": {},
     "output_type": "execute_result"
    }
   ],
   "source": [
    "# Construct sparse matrix\n",
    "_matrix_df = pd.crosstab(\n",
    "    _table_df.PATIENT_ID, \n",
    "    _table_df.TID, \n",
    "    _table_df.RX_COUNT, \n",
    "    aggfunc=np.sum, \n",
    "    normalize=False).fillna(0)\n",
    "_matrix_df.head()"
   ]
  },
  {
   "cell_type": "markdown",
   "metadata": {},
   "source": [
    "### Generate SVD Results\n",
    "\n",
    "In this example we factor a sparse matrix $\\mathbf{M}$ of dimensions $patients \\times drugs$ into 3 separate components of the form $\\mathbf{M} = \\mathbf{U} \\boldsymbol{\\Sigma} \\mathbf{V}^*$.\n",
    "\n",
    "* $\\mathbf{M}$ is the sparse matrix containg drugs purchased.\n",
    "* $\\mathbf{U}$ has rows of patients and columns of **right singular vectors**.\n",
    "* $\\mathbf{V}$ has rows of drugs and columns of **left singular vectors**.\n",
    "* $\\boldsymbol{\\Sigma}$ is a rectangular diagonal matrix containing the **singular values** $\\sigma_i$.\n",
    "\n",
    "We can truncate trailing singular vectors to get a reduced rank approximation \n",
    "\n",
    "$\\tilde{\\mathbf{M}} = \\mathbf{U} \\tilde{\\boldsymbol{\\Sigma}} \\mathbf{V}^T$ \n",
    "\n",
    "where $\\tilde{\\boldsymbol{\\Sigma}}$ has truncated diagonal values and $\\tilde{\\mathbf{M}}$ is an approximation of the original sparse matrix.\n",
    "\n",
    "We can multiply the singular values from $ \\boldsymbol{\\Sigma}$ into $\\mathbf{U}$ and $\\mathbf{V}$. This gives matrices with magnitueds that can be used for clustering.\n",
    "\n",
    "$\n",
    "\\mathbf{M} = \\mathbf{U} \\boldsymbol{\\Sigma} \\mathbf{V}^T\n",
    "= (\\sqrt{\\boldsymbol{\\Sigma}} \\mathbf{U}) ( \\sqrt{\\boldsymbol{\\Sigma}} \\mathbf{V}^T )\n",
    "$"
   ]
  },
  {
   "cell_type": "code",
   "execution_count": 5,
   "metadata": {},
   "outputs": [
    {
     "name": "stdout",
     "output_type": "stream",
     "text": [
      "Calculating SVD...\n",
      "SVD dimensions: U=[19092, 493] sig=[493] V=[493, 493]\n",
      "SVD approximated: U=[19092, 10] sig=[10] V=[493, 10]\n",
      "SVD eigen: U=[19092, 10] V=[493, 10]\n"
     ]
    }
   ],
   "source": [
    "# convert to numpy\n",
    "_matrix_np = _matrix_df.values.astype(np.float64)\n",
    "\n",
    "import torch as th\n",
    "print('Calculating SVD...')\n",
    "#_matrix_cuda = th.tensor(_matrix_np).cuda()\n",
    "_matrix_cuda = th.tensor(_matrix_np)\n",
    "_svd_u, _svd_s, _svd_v = th.svd(_matrix_cuda)\n",
    "\n",
    "print('SVD dimensions: U={} sig={} V={}'\n",
    "    .format([*_svd_u.shape], [*_svd_s.shape], [*_svd_v.shape]))\n",
    "\n",
    "# truncate to create the approximation\n",
    "TRUNCATE_VECTORS = 10\n",
    "_dim = min(TRUNCATE_VECTORS, _svd_u.shape[1])\n",
    "_svd_u_approx = _svd_u[: , :_dim]\n",
    "_svd_s_approx = _svd_s[:_dim]\n",
    "_svd_v_approx = _svd_v[: , :_dim]\n",
    "\n",
    "print('SVD approximated: U={} sig={} V={}'\n",
    "    .format([*_svd_u_approx.shape], [*_svd_s_approx.shape], [*_svd_v_approx.shape]))\n",
    "\n",
    "# multiuply U and V by sqrt(S)\n",
    "_svd_s_eigen = th.sqrt(_svd_s_approx).diag()\n",
    "_svd_u_eigen = _svd_u_approx.matmul(_svd_s_eigen)\n",
    "_svd_v_eigen = _svd_v_approx.matmul(_svd_s_eigen)\n",
    "\n",
    "print('SVD eigen: U={} V={}'\n",
    "    .format([*_svd_u_eigen.shape], [*_svd_v_eigen.shape]))"
   ]
  },
  {
   "cell_type": "markdown",
   "metadata": {},
   "source": [
    "### Save results to Kinetica\n",
    "\n",
    "Save U and V to `PATIENT_U_VEC` and `DRUG_V_VEC` tables."
   ]
  },
  {
   "cell_type": "code",
   "execution_count": 6,
   "metadata": {},
   "outputs": [
    {
     "name": "stdout",
     "output_type": "stream",
     "text": [
      "Dropping table: <PATIENT_U_VEC>\n",
      "Creating table: <PATIENT_U_VEC>\n",
      "Column 0: <PATIENT_ID> (long)\n",
      "Column 1: <v0> (double)\n",
      "Column 2: <v1> (double)\n",
      "Column 3: <v2> (double)\n",
      "Column 4: <v3> (double)\n",
      "Column 5: <v4> (double)\n",
      "Column 6: <v5> (double)\n",
      "Column 7: <v6> (double)\n",
      "Column 8: <v7> (double)\n",
      "Column 9: <v8> (double)\n",
      "Column 10: <v9> (double)\n",
      "Inserted rows into <PHARMACY.PATIENT_U_VEC>: 19092\n"
     ]
    },
    {
     "data": {
      "text/html": [
       "<div>\n",
       "<style scoped>\n",
       "    .dataframe tbody tr th:only-of-type {\n",
       "        vertical-align: middle;\n",
       "    }\n",
       "\n",
       "    .dataframe tbody tr th {\n",
       "        vertical-align: top;\n",
       "    }\n",
       "\n",
       "    .dataframe thead th {\n",
       "        text-align: right;\n",
       "    }\n",
       "</style>\n",
       "<table border=\"1\" class=\"dataframe\">\n",
       "  <thead>\n",
       "    <tr style=\"text-align: right;\">\n",
       "      <th></th>\n",
       "      <th>v0</th>\n",
       "      <th>v1</th>\n",
       "      <th>v2</th>\n",
       "      <th>v3</th>\n",
       "      <th>v4</th>\n",
       "      <th>v5</th>\n",
       "      <th>v6</th>\n",
       "      <th>v7</th>\n",
       "      <th>v8</th>\n",
       "      <th>v9</th>\n",
       "    </tr>\n",
       "    <tr>\n",
       "      <th>PATIENT_ID</th>\n",
       "      <th></th>\n",
       "      <th></th>\n",
       "      <th></th>\n",
       "      <th></th>\n",
       "      <th></th>\n",
       "      <th></th>\n",
       "      <th></th>\n",
       "      <th></th>\n",
       "      <th></th>\n",
       "      <th></th>\n",
       "    </tr>\n",
       "  </thead>\n",
       "  <tbody>\n",
       "    <tr>\n",
       "      <th>3</th>\n",
       "      <td>-0.026869</td>\n",
       "      <td>0.003544</td>\n",
       "      <td>0.067632</td>\n",
       "      <td>0.007149</td>\n",
       "      <td>0.019579</td>\n",
       "      <td>-0.012598</td>\n",
       "      <td>0.039725</td>\n",
       "      <td>0.012359</td>\n",
       "      <td>-0.002720</td>\n",
       "      <td>0.005420</td>\n",
       "    </tr>\n",
       "    <tr>\n",
       "      <th>4</th>\n",
       "      <td>-1.025537</td>\n",
       "      <td>-0.915222</td>\n",
       "      <td>-0.135088</td>\n",
       "      <td>0.506937</td>\n",
       "      <td>-0.046075</td>\n",
       "      <td>-0.790646</td>\n",
       "      <td>-0.736051</td>\n",
       "      <td>-0.174529</td>\n",
       "      <td>-0.203942</td>\n",
       "      <td>-0.047053</td>\n",
       "    </tr>\n",
       "    <tr>\n",
       "      <th>6</th>\n",
       "      <td>-0.835222</td>\n",
       "      <td>-0.685774</td>\n",
       "      <td>-0.319621</td>\n",
       "      <td>-0.053120</td>\n",
       "      <td>0.135096</td>\n",
       "      <td>0.106425</td>\n",
       "      <td>0.025238</td>\n",
       "      <td>-0.039275</td>\n",
       "      <td>-0.001030</td>\n",
       "      <td>-0.026680</td>\n",
       "    </tr>\n",
       "    <tr>\n",
       "      <th>7</th>\n",
       "      <td>-0.465780</td>\n",
       "      <td>-0.495243</td>\n",
       "      <td>-0.087060</td>\n",
       "      <td>0.222816</td>\n",
       "      <td>0.009257</td>\n",
       "      <td>-0.530207</td>\n",
       "      <td>-0.575800</td>\n",
       "      <td>-0.017807</td>\n",
       "      <td>-0.002585</td>\n",
       "      <td>0.176052</td>\n",
       "    </tr>\n",
       "    <tr>\n",
       "      <th>9</th>\n",
       "      <td>-0.065967</td>\n",
       "      <td>0.046649</td>\n",
       "      <td>0.009301</td>\n",
       "      <td>0.070871</td>\n",
       "      <td>-0.131696</td>\n",
       "      <td>-0.014793</td>\n",
       "      <td>-0.015506</td>\n",
       "      <td>-0.036466</td>\n",
       "      <td>0.100262</td>\n",
       "      <td>-0.003387</td>\n",
       "    </tr>\n",
       "  </tbody>\n",
       "</table>\n",
       "</div>"
      ],
      "text/plain": [
       "                  v0        v1        v2        v3        v4        v5  \\\n",
       "PATIENT_ID                                                               \n",
       "3          -0.026869  0.003544  0.067632  0.007149  0.019579 -0.012598   \n",
       "4          -1.025537 -0.915222 -0.135088  0.506937 -0.046075 -0.790646   \n",
       "6          -0.835222 -0.685774 -0.319621 -0.053120  0.135096  0.106425   \n",
       "7          -0.465780 -0.495243 -0.087060  0.222816  0.009257 -0.530207   \n",
       "9          -0.065967  0.046649  0.009301  0.070871 -0.131696 -0.014793   \n",
       "\n",
       "                  v6        v7        v8        v9  \n",
       "PATIENT_ID                                          \n",
       "3           0.039725  0.012359 -0.002720  0.005420  \n",
       "4          -0.736051 -0.174529 -0.203942 -0.047053  \n",
       "6           0.025238 -0.039275 -0.001030 -0.026680  \n",
       "7          -0.575800 -0.017807 -0.002585  0.176052  \n",
       "9          -0.015506 -0.036466  0.100262 -0.003387  "
      ]
     },
     "execution_count": 6,
     "metadata": {},
     "output_type": "execute_result"
    }
   ],
   "source": [
    "%aimport gpudb_df\n",
    "\n",
    "# create column names for the vector\n",
    "_col_names = ['v' + str(i) for i in range(_svd_u_eigen.shape[1])]\n",
    "\n",
    "_patient_sv = pd.DataFrame(_svd_u_eigen.cpu().numpy(), \n",
    "                        columns=_col_names,\n",
    "                        index=_matrix_df.index)\n",
    "gpudb_df.save_df(_patient_sv, 'PATIENT_U_VEC')\n",
    "_patient_sv.head()"
   ]
  },
  {
   "cell_type": "code",
   "execution_count": 7,
   "metadata": {},
   "outputs": [
    {
     "name": "stdout",
     "output_type": "stream",
     "text": [
      "Dropping table: <DRUG_V_VEC>\n",
      "Creating table: <DRUG_V_VEC>\n",
      "Column 0: <TID> (long)\n",
      "Column 1: <v0> (double)\n",
      "Column 2: <v1> (double)\n",
      "Column 3: <v2> (double)\n",
      "Column 4: <v3> (double)\n",
      "Column 5: <v4> (double)\n",
      "Column 6: <v5> (double)\n",
      "Column 7: <v6> (double)\n",
      "Column 8: <v7> (double)\n",
      "Column 9: <v8> (double)\n",
      "Column 10: <v9> (double)\n",
      "Inserted rows into <PHARMACY.DRUG_V_VEC>: 493\n"
     ]
    },
    {
     "data": {
      "text/html": [
       "<div>\n",
       "<style scoped>\n",
       "    .dataframe tbody tr th:only-of-type {\n",
       "        vertical-align: middle;\n",
       "    }\n",
       "\n",
       "    .dataframe tbody tr th {\n",
       "        vertical-align: top;\n",
       "    }\n",
       "\n",
       "    .dataframe thead th {\n",
       "        text-align: right;\n",
       "    }\n",
       "</style>\n",
       "<table border=\"1\" class=\"dataframe\">\n",
       "  <thead>\n",
       "    <tr style=\"text-align: right;\">\n",
       "      <th></th>\n",
       "      <th>v0</th>\n",
       "      <th>v1</th>\n",
       "      <th>v2</th>\n",
       "      <th>v3</th>\n",
       "      <th>v4</th>\n",
       "      <th>v5</th>\n",
       "      <th>v6</th>\n",
       "      <th>v7</th>\n",
       "      <th>v8</th>\n",
       "      <th>v9</th>\n",
       "    </tr>\n",
       "    <tr>\n",
       "      <th>TID</th>\n",
       "      <th></th>\n",
       "      <th></th>\n",
       "      <th></th>\n",
       "      <th></th>\n",
       "      <th></th>\n",
       "      <th></th>\n",
       "      <th></th>\n",
       "      <th></th>\n",
       "      <th></th>\n",
       "      <th></th>\n",
       "    </tr>\n",
       "  </thead>\n",
       "  <tbody>\n",
       "    <tr>\n",
       "      <th>1002</th>\n",
       "      <td>-0.000073</td>\n",
       "      <td>0.000065</td>\n",
       "      <td>0.000042</td>\n",
       "      <td>0.000162</td>\n",
       "      <td>-0.000097</td>\n",
       "      <td>0.000235</td>\n",
       "      <td>0.000028</td>\n",
       "      <td>-0.000095</td>\n",
       "      <td>0.000270</td>\n",
       "      <td>-0.000164</td>\n",
       "    </tr>\n",
       "    <tr>\n",
       "      <th>1013</th>\n",
       "      <td>-0.000082</td>\n",
       "      <td>-0.000091</td>\n",
       "      <td>0.000005</td>\n",
       "      <td>0.000045</td>\n",
       "      <td>0.000072</td>\n",
       "      <td>-0.000102</td>\n",
       "      <td>0.000255</td>\n",
       "      <td>0.000048</td>\n",
       "      <td>0.000003</td>\n",
       "      <td>-0.000002</td>\n",
       "    </tr>\n",
       "    <tr>\n",
       "      <th>104</th>\n",
       "      <td>-0.029558</td>\n",
       "      <td>0.019072</td>\n",
       "      <td>-0.005004</td>\n",
       "      <td>-0.014532</td>\n",
       "      <td>0.019556</td>\n",
       "      <td>0.016535</td>\n",
       "      <td>-0.007420</td>\n",
       "      <td>0.022379</td>\n",
       "      <td>-0.007007</td>\n",
       "      <td>-0.029908</td>\n",
       "    </tr>\n",
       "    <tr>\n",
       "      <th>105</th>\n",
       "      <td>-0.027096</td>\n",
       "      <td>0.021333</td>\n",
       "      <td>0.013344</td>\n",
       "      <td>0.024419</td>\n",
       "      <td>-0.051139</td>\n",
       "      <td>-0.025255</td>\n",
       "      <td>0.010653</td>\n",
       "      <td>-0.026288</td>\n",
       "      <td>-0.011587</td>\n",
       "      <td>-0.062321</td>\n",
       "    </tr>\n",
       "    <tr>\n",
       "      <th>106</th>\n",
       "      <td>-0.099617</td>\n",
       "      <td>0.031942</td>\n",
       "      <td>-0.049758</td>\n",
       "      <td>-0.016589</td>\n",
       "      <td>-0.071673</td>\n",
       "      <td>-0.009588</td>\n",
       "      <td>-0.015417</td>\n",
       "      <td>0.048431</td>\n",
       "      <td>0.011317</td>\n",
       "      <td>0.003594</td>\n",
       "    </tr>\n",
       "  </tbody>\n",
       "</table>\n",
       "</div>"
      ],
      "text/plain": [
       "            v0        v1        v2        v3        v4        v5        v6  \\\n",
       "TID                                                                          \n",
       "1002 -0.000073  0.000065  0.000042  0.000162 -0.000097  0.000235  0.000028   \n",
       "1013 -0.000082 -0.000091  0.000005  0.000045  0.000072 -0.000102  0.000255   \n",
       "104  -0.029558  0.019072 -0.005004 -0.014532  0.019556  0.016535 -0.007420   \n",
       "105  -0.027096  0.021333  0.013344  0.024419 -0.051139 -0.025255  0.010653   \n",
       "106  -0.099617  0.031942 -0.049758 -0.016589 -0.071673 -0.009588 -0.015417   \n",
       "\n",
       "            v7        v8        v9  \n",
       "TID                                 \n",
       "1002 -0.000095  0.000270 -0.000164  \n",
       "1013  0.000048  0.000003 -0.000002  \n",
       "104   0.022379 -0.007007 -0.029908  \n",
       "105  -0.026288 -0.011587 -0.062321  \n",
       "106   0.048431  0.011317  0.003594  "
      ]
     },
     "execution_count": 7,
     "metadata": {},
     "output_type": "execute_result"
    }
   ],
   "source": [
    "_drug_sv = pd.DataFrame(_svd_v_eigen.cpu().numpy(),\n",
    "                        columns=_col_names,\n",
    "                        index=_matrix_df.columns.astype(int, copy=True))\n",
    "gpudb_df.save_df(_drug_sv, 'DRUG_V_VEC')\n",
    "_drug_sv.head()"
   ]
  },
  {
   "cell_type": "markdown",
   "metadata": {},
   "source": [
    "# Result Analisys"
   ]
  },
  {
   "cell_type": "markdown",
   "metadata": {},
   "source": [
    "### Plot singular values\n",
    "\n",
    "The $\\Sigma$ matrix contains the singular values that give the magnitudes of the singular vectors. We can calculate how much we lose through truncation."
   ]
  },
  {
   "cell_type": "code",
   "execution_count": 9,
   "metadata": {},
   "outputs": [
    {
     "data": {
      "text/plain": [
       "[<matplotlib.lines.Line2D at 0x7fe8252f7668>]"
      ]
     },
     "execution_count": 9,
     "metadata": {},
     "output_type": "execute_result"
    },
    {
     "data": {
      "image/png": "[encoded data removed]",
      "text/plain": [
       "<Figure size 432x288 with 1 Axes>"
      ]
     },
     "metadata": {},
     "output_type": "display_data"
    }
   ],
   "source": [
    "from matplotlib import pyplot as plt\n",
    "\n",
    "_svd_s_np = _svd_s.cpu().numpy()\n",
    "plt.plot(np.arange(493), _svd_s_np)"
   ]
  },
  {
   "cell_type": "markdown",
   "metadata": {},
   "source": [
    "### Calculate Error\n",
    "\n",
    "$\n",
    "1 - \\frac{\\sum_i^T \\sigma}{\\sum_i \\sigma}\n",
    "$"
   ]
  },
  {
   "cell_type": "code",
   "execution_count": 10,
   "metadata": {},
   "outputs": [
    {
     "name": "stdout",
     "output_type": "stream",
     "text": [
      "Error with 10 vectors: 83.01%\n"
     ]
    }
   ],
   "source": [
    "TRUNCATE_COUNT = 10\n",
    "_svd_s_sum = th.sum(_svd_s).item()\n",
    "_svd_s_sum_approx = th.sum(_svd_s[:TRUNCATE_COUNT]).item()\n",
    "_error = 1 - (_svd_s_sum_approx/_svd_s_sum)\n",
    "\n",
    "print('Error with {} vectors: {:.2%}'.format(TRUNCATE_COUNT, _error))"
   ]
  },
  {
   "cell_type": "markdown",
   "metadata": {},
   "source": [
    "### Calculate approximated matrix"
   ]
  },
  {
   "cell_type": "code",
   "execution_count": 11,
   "metadata": {},
   "outputs": [
    {
     "name": "stdout",
     "output_type": "stream",
     "text": [
      "SVD approx: U=[19092, 10] s=[10] V=[493, 10]\n"
     ]
    }
   ],
   "source": [
    "print('SVD approx: U={} s={} V={}'\n",
    "    .format([*_svd_u_approx.shape], [*_svd_s_approx.shape], [*_svd_v_approx.shape]))\n",
    "\n",
    "# calculate reduced rank matrix\n",
    "_svd_s_diag = th.diag(_svd_s_approx)\n",
    "_svd_v_t = _svd_v_approx.t()\n",
    "_matrix_approx_cuda = _svd_u_approx.matmul(_svd_s_diag).matmul(_svd_v_t)\n",
    "\n",
    "# copy result back from vRAM to RAM\n",
    "_matrix_approx_np = _matrix_approx_cuda.cpu().numpy()"
   ]
  },
  {
   "cell_type": "markdown",
   "metadata": {},
   "source": [
    "### Calculate RMSD of approximated matrices\n",
    "$\n",
    "\\operatorname{RMSD}= \\sqrt{\\frac{\\sum_{t=1}^T (x_{1,t} - x_{2,t})^2}{T}}\n",
    "$"
   ]
  },
  {
   "cell_type": "code",
   "execution_count": 12,
   "metadata": {},
   "outputs": [
    {
     "name": "stdout",
     "output_type": "stream",
     "text": [
      "RMSD = 0.2998927752739566\n"
     ]
    }
   ],
   "source": [
    "import math\n",
    "\n",
    "def rmsd(_x1, _x2):\n",
    "    _sqr = (_x1 - _x2) ** 2\n",
    "    _sum = th.sum(_sqr).item()\n",
    "    _num = float(th.numel(_x1))\n",
    "    _rmsd = math.sqrt( _sum/_num )\n",
    "    return _rmsd\n",
    "\n",
    "_rmsd = rmsd(_matrix_approx_cuda, _matrix_cuda)\n",
    "print('RMSD = {}'.format(_rmsd))"
   ]
  },
  {
   "cell_type": "markdown",
   "metadata": {},
   "source": [
    "### Calculate RMSD of eigen matrices\n",
    "Should be the same as above"
   ]
  },
  {
   "cell_type": "code",
   "execution_count": 13,
   "metadata": {},
   "outputs": [
    {
     "name": "stdout",
     "output_type": "stream",
     "text": [
      "SVD eigen: U=[19092, 10] V=[493, 10]\n",
      "RMSD = 0.2998927752739565\n"
     ]
    }
   ],
   "source": [
    "print('SVD eigen: U={} V={}'\n",
    "    .format([*_svd_u_eigen.shape], [*_svd_v_eigen.shape]))\n",
    "\n",
    "_matrix_approx_cuda = _svd_u_eigen.matmul(_svd_v_eigen.t())\n",
    "_matrix_approx_np = _matrix_approx_cuda.cpu().numpy()\n",
    "_rmsd = rmsd(_matrix_approx_cuda, _matrix_cuda)\n",
    "print('RMSD = {}'.format(_rmsd))"
   ]
  },
  {
   "cell_type": "markdown",
   "metadata": {},
   "source": [
    "### Calculate RMSD of each patient"
   ]
  },
  {
   "cell_type": "code",
   "execution_count": 14,
   "metadata": {},
   "outputs": [
    {
     "name": "stdout",
     "output_type": "stream",
     "text": [
      "Input matrices: orig=[19092, 493] approx=[19092, 493]\n"
     ]
    },
    {
     "data": {
      "text/html": [
       "<div>\n",
       "<style scoped>\n",
       "    .dataframe tbody tr th:only-of-type {\n",
       "        vertical-align: middle;\n",
       "    }\n",
       "\n",
       "    .dataframe tbody tr th {\n",
       "        vertical-align: top;\n",
       "    }\n",
       "\n",
       "    .dataframe thead th {\n",
       "        text-align: right;\n",
       "    }\n",
       "</style>\n",
       "<table border=\"1\" class=\"dataframe\">\n",
       "  <thead>\n",
       "    <tr style=\"text-align: right;\">\n",
       "      <th></th>\n",
       "      <th>RMSD</th>\n",
       "    </tr>\n",
       "    <tr>\n",
       "      <th>PATIENT_ID</th>\n",
       "      <th></th>\n",
       "    </tr>\n",
       "  </thead>\n",
       "  <tbody>\n",
       "    <tr>\n",
       "      <th>3</th>\n",
       "      <td>0.108397</td>\n",
       "    </tr>\n",
       "    <tr>\n",
       "      <th>4</th>\n",
       "      <td>1.486248</td>\n",
       "    </tr>\n",
       "    <tr>\n",
       "      <th>6</th>\n",
       "      <td>0.785072</td>\n",
       "    </tr>\n",
       "    <tr>\n",
       "      <th>7</th>\n",
       "      <td>0.259111</td>\n",
       "    </tr>\n",
       "    <tr>\n",
       "      <th>9</th>\n",
       "      <td>0.215524</td>\n",
       "    </tr>\n",
       "    <tr>\n",
       "      <th>10</th>\n",
       "      <td>0.246505</td>\n",
       "    </tr>\n",
       "    <tr>\n",
       "      <th>11</th>\n",
       "      <td>0.045006</td>\n",
       "    </tr>\n",
       "    <tr>\n",
       "      <th>12</th>\n",
       "      <td>0.283255</td>\n",
       "    </tr>\n",
       "    <tr>\n",
       "      <th>13</th>\n",
       "      <td>0.137662</td>\n",
       "    </tr>\n",
       "    <tr>\n",
       "      <th>15</th>\n",
       "      <td>0.118018</td>\n",
       "    </tr>\n",
       "  </tbody>\n",
       "</table>\n",
       "</div>"
      ],
      "text/plain": [
       "                RMSD\n",
       "PATIENT_ID          \n",
       "3           0.108397\n",
       "4           1.486248\n",
       "6           0.785072\n",
       "7           0.259111\n",
       "9           0.215524\n",
       "10          0.246505\n",
       "11          0.045006\n",
       "12          0.283255\n",
       "13          0.137662\n",
       "15          0.118018"
      ]
     },
     "execution_count": 14,
     "metadata": {},
     "output_type": "execute_result"
    }
   ],
   "source": [
    "print('Input matrices: orig={} approx={}'\n",
    "    .format([*_matrix_cuda.shape], [*_matrix_approx_cuda.shape]))\n",
    "\n",
    "_diff = _matrix_cuda - _matrix_approx_cuda\n",
    "_rmsd = _diff.pow(2).mean(dim=1).sqrt()\n",
    "_rmsd_df = pd.DataFrame(_rmsd.cpu().numpy(), \n",
    "                        columns=['RMSD'], \n",
    "                        index=_matrix_df.index)\n",
    "\n",
    "_rmsd_df.sort_values('PATIENT_ID', ascending=True).head(10)"
   ]
  },
  {
   "cell_type": "markdown",
   "metadata": {},
   "source": [
    "### Compare original with reduced rank matrix"
   ]
  },
  {
   "cell_type": "code",
   "execution_count": 16,
   "metadata": {},
   "outputs": [
    {
     "data": {
      "image/png": "[encoded data removed]",
      "text/plain": [
       "<Figure size 1440x10800 with 1 Axes>"
      ]
     },
     "metadata": {},
     "output_type": "display_data"
    },
    {
     "data": {
      "image/png": "[encoded data removed]",
      "text/plain": [
       "<Figure size 1440x10800 with 1 Axes>"
      ]
     },
     "metadata": {},
     "output_type": "display_data"
    }
   ],
   "source": [
    "from matplotlib import pyplot as plt\n",
    "\n",
    "plt.figure(figsize=(20,150))\n",
    "plt.imshow(_matrix_np[:100,:])\n",
    "plt.xlabel('drug category index')\n",
    "plt.ylabel('patient index')\n",
    "plt.title('Original')\n",
    "plt.show()\n",
    "\n",
    "# remove values < 0\n",
    "_matrix_approx_fix = np.copy(_matrix_approx_np)\n",
    "_matrix_approx_fix[_matrix_approx_fix < 0] = 0\n",
    "\n",
    "plt.figure(figsize=(20,150))\n",
    "plt.imshow(_matrix_approx_fix[:100,:1000])\n",
    "plt.xlabel('drug category index')\n",
    "plt.ylabel('patient index')\n",
    "plt.title('Reduced Rank')\n",
    "plt.show()"
   ]
  },
  {
   "cell_type": "markdown",
   "metadata": {},
   "source": [
    "### Orthogonality\n",
    "\n",
    "Dot product of any 2 columns is zero because the columns are orthogonal:\n",
    "\n",
    "$\\langle\\mathbf{U_{j}},\\mathbf{U_{k}}\\rangle = 0$\n",
    "\n",
    "Magnitude of any column is 1 because each column is a unit vector:\n",
    "\n",
    "$\\Vert \\mathbf{U_{j}} \\Vert^2$ = 1"
   ]
  },
  {
   "cell_type": "code",
   "execution_count": null,
   "metadata": {},
   "outputs": [],
   "source": [
    "u0 = _svd_u[:, 0]\n",
    "u1 = _svd_u[:, 1]\n",
    "\n",
    "dot = th.dot(u0,u0)\n",
    "print('Dot product of u0,u0 is: {:f}'.format(dot.item()))\n",
    "\n",
    "dot = th.dot(u0,u1)\n",
    "print('Dot product of u0,u1 is: {:f}'.format(dot.item()))"
   ]
  },
  {
   "cell_type": "code",
   "execution_count": null,
   "metadata": {},
   "outputs": [],
   "source": []
  }
 ],
 "metadata": {
  "kernelspec": {
   "display_name": "Python 3",
   "language": "python",
   "name": "python3"
  },
  "language_info": {
   "codemirror_mode": {
    "name": "ipython",
    "version": 3
   },
   "file_extension": ".py",
   "mimetype": "text/x-python",
   "name": "python",
   "nbconvert_exporter": "python",
   "pygments_lexer": "ipython3",
   "version": "3.6.5"
  }
 },
 "nbformat": 4,
 "nbformat_minor": 2
}
