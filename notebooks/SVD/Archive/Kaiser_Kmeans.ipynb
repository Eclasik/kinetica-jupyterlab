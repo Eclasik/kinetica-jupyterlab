{
 "cells": [
  {
   "cell_type": "markdown",
   "metadata": {},
   "source": [
    "# Generate Kmeans clustering for patients"
   ]
  },
  {
   "cell_type": "code",
   "execution_count": 1,
   "metadata": {},
   "outputs": [],
   "source": [
    "import gpudb\n",
    "import collections\n",
    "import pandas as pd"
   ]
  },
  {
   "cell_type": "markdown",
   "metadata": {},
   "source": [
    "### Init Kinetica connection"
   ]
  },
  {
   "cell_type": "code",
   "execution_count": 2,
   "metadata": {},
   "outputs": [
    {
     "name": "stdout",
     "output_type": "stream",
     "text": [
      "Warning: Client version (6.2.0) does not match that of the server (6.1.0)\n"
     ]
    }
   ],
   "source": [
    "_db = gpudb.GPUdb(encoding='BINARY', host=\"127.0.0.1\", port=\"9191\")"
   ]
  },
  {
   "cell_type": "markdown",
   "metadata": {},
   "source": [
    "### Generate Kmeans"
   ]
  },
  {
   "cell_type": "code",
   "execution_count": 3,
   "metadata": {},
   "outputs": [],
   "source": [
    "def kinetica_k_means(_input_table):\n",
    "    _result = _db.aggregate_k_means(\n",
    "                     table_name=_input_table,\n",
    "                     column_names=['v0',\n",
    "                                   'v1',\n",
    "                                   'v2',\n",
    "                                   'v3',\n",
    "                                   'v4',\n",
    "                                   'v5', ],\n",
    "                     tolerance=0.00001,\n",
    "                     k=5);\n",
    "\n",
    "    _num_iters = _result['num_iters']\n",
    "    _tolerance = _result['tolerance']\n",
    "    _rms_dist = _result['rms_dist']\n",
    "    _total_count = _result['count']\n",
    "    _means_counts = _result['counts']\n",
    "    _means_coordinates = _result['means']\n",
    "\n",
    "    print('Total Count: {}'.format(_total_count))\n",
    "    print('Iterations: {}'.format(_num_iters))\n",
    "    \n",
    "    _counts_df = pd.DataFrame(_means_counts, columns=['count'])\n",
    "    _coord_df = pd.DataFrame(_means_coordinates, columns=['v0','v1','v2','v3','v4','v5'])\n",
    "    _means_df = pd.concat([_counts_df, _coord_df], axis=1)\n",
    "    _means_df = _means_df.reset_index()\n",
    "    _means_df = _means_df.rename(index=str, columns={\"index\": \"idx\"})\n",
    "\n",
    "    return _means_df"
   ]
  },
  {
   "cell_type": "markdown",
   "metadata": {},
   "source": [
    "### Create result table"
   ]
  },
  {
   "cell_type": "code",
   "execution_count": 4,
   "metadata": {},
   "outputs": [
    {
     "name": "stdout",
     "output_type": "stream",
     "text": [
      "Total Count: 19092\n",
      "Iterations: 10\n"
     ]
    },
    {
     "data": {
      "text/html": [
       "<div>\n",
       "<style scoped>\n",
       "    .dataframe tbody tr th:only-of-type {\n",
       "        vertical-align: middle;\n",
       "    }\n",
       "\n",
       "    .dataframe tbody tr th {\n",
       "        vertical-align: top;\n",
       "    }\n",
       "\n",
       "    .dataframe thead th {\n",
       "        text-align: right;\n",
       "    }\n",
       "</style>\n",
       "<table border=\"1\" class=\"dataframe\">\n",
       "  <thead>\n",
       "    <tr style=\"text-align: right;\">\n",
       "      <th></th>\n",
       "      <th>idx</th>\n",
       "      <th>count</th>\n",
       "      <th>v0</th>\n",
       "      <th>v1</th>\n",
       "      <th>v2</th>\n",
       "      <th>v3</th>\n",
       "      <th>v4</th>\n",
       "      <th>v5</th>\n",
       "    </tr>\n",
       "  </thead>\n",
       "  <tbody>\n",
       "    <tr>\n",
       "      <th>0</th>\n",
       "      <td>0</td>\n",
       "      <td>17255</td>\n",
       "      <td>-0.028446</td>\n",
       "      <td>0.013104</td>\n",
       "      <td>-0.008807</td>\n",
       "      <td>0.028768</td>\n",
       "      <td>-0.005770</td>\n",
       "      <td>-0.007656</td>\n",
       "    </tr>\n",
       "    <tr>\n",
       "      <th>1</th>\n",
       "      <td>1</td>\n",
       "      <td>98</td>\n",
       "      <td>-0.556804</td>\n",
       "      <td>-0.086050</td>\n",
       "      <td>-0.193631</td>\n",
       "      <td>0.612112</td>\n",
       "      <td>0.034041</td>\n",
       "      <td>0.760758</td>\n",
       "    </tr>\n",
       "    <tr>\n",
       "      <th>2</th>\n",
       "      <td>2</td>\n",
       "      <td>276</td>\n",
       "      <td>-0.811426</td>\n",
       "      <td>-0.653601</td>\n",
       "      <td>0.263892</td>\n",
       "      <td>-0.064115</td>\n",
       "      <td>-0.014068</td>\n",
       "      <td>-0.091419</td>\n",
       "    </tr>\n",
       "    <tr>\n",
       "      <th>3</th>\n",
       "      <td>3</td>\n",
       "      <td>138</td>\n",
       "      <td>-0.597142</td>\n",
       "      <td>0.029557</td>\n",
       "      <td>-1.093013</td>\n",
       "      <td>-0.408174</td>\n",
       "      <td>-0.004386</td>\n",
       "      <td>-0.110256</td>\n",
       "    </tr>\n",
       "    <tr>\n",
       "      <th>4</th>\n",
       "      <td>4</td>\n",
       "      <td>1325</td>\n",
       "      <td>-0.308073</td>\n",
       "      <td>0.341260</td>\n",
       "      <td>0.114182</td>\n",
       "      <td>-0.050675</td>\n",
       "      <td>0.014922</td>\n",
       "      <td>0.001274</td>\n",
       "    </tr>\n",
       "  </tbody>\n",
       "</table>\n",
       "</div>"
      ],
      "text/plain": [
       "   idx  count        v0        v1        v2        v3        v4        v5\n",
       "0    0  17255 -0.028446  0.013104 -0.008807  0.028768 -0.005770 -0.007656\n",
       "1    1     98 -0.556804 -0.086050 -0.193631  0.612112  0.034041  0.760758\n",
       "2    2    276 -0.811426 -0.653601  0.263892 -0.064115 -0.014068 -0.091419\n",
       "3    3    138 -0.597142  0.029557 -1.093013 -0.408174 -0.004386 -0.110256\n",
       "4    4   1325 -0.308073  0.341260  0.114182 -0.050675  0.014922  0.001274"
      ]
     },
     "execution_count": 4,
     "metadata": {},
     "output_type": "execute_result"
    }
   ],
   "source": [
    "_means_df = kinetica_k_means('patient_sv')\n",
    "_means_df"
   ]
  },
  {
   "cell_type": "markdown",
   "metadata": {},
   "source": [
    "### Save results in table"
   ]
  },
  {
   "cell_type": "code",
   "execution_count": 5,
   "metadata": {},
   "outputs": [],
   "source": [
    "def save_results(df, res_table, schema='KAISERS_SQL'):\n",
    "    _result_type = [[df.columns[0], gpudb.GPUdbRecordColumn._ColumnType.INT],\n",
    "                    [df.columns[1], gpudb.GPUdbRecordColumn._ColumnType.INT]]\n",
    "    \n",
    "    for _col_name in df.columns[2:]:\n",
    "        _result_type.append([_col_name, gpudb.GPUdbRecordColumn._ColumnType.DOUBLE])\n",
    "\n",
    "    _db.clear_table(res_table, options={ 'no_error_if_not_exists':'true' })\n",
    "\n",
    "    _result_table = gpudb.GPUdbTable(db=_db, _type=_result_type, name=res_table,\n",
    "        options={'collection_name': schema,\n",
    "                 'is_replicated': 'true'} )\n",
    "\n",
    "    _insert_records = df.to_records(index=False)\n",
    "    _insert_rows = map(list, _insert_records)\n",
    "\n",
    "    print('Inserting rows into <{}>: {}'.format(res_table, len(_insert_rows)))\n",
    "    _result_table.insert_records(_insert_rows)"
   ]
  },
  {
   "cell_type": "code",
   "execution_count": 6,
   "metadata": {},
   "outputs": [
    {
     "name": "stdout",
     "output_type": "stream",
     "text": [
      "Inserting rows into <kmeans_patient>: 5\n"
     ]
    }
   ],
   "source": [
    "save_results(_means_df, 'kmeans_patient')"
   ]
  },
  {
   "cell_type": "markdown",
   "metadata": {},
   "source": [
    "# Generate Male K-Means"
   ]
  },
  {
   "cell_type": "code",
   "execution_count": 7,
   "metadata": {},
   "outputs": [
    {
     "name": "stdout",
     "output_type": "stream",
     "text": [
      "Total Count: 8728\n",
      "Iterations: 10\n"
     ]
    },
    {
     "data": {
      "text/html": [
       "<div>\n",
       "<style scoped>\n",
       "    .dataframe tbody tr th:only-of-type {\n",
       "        vertical-align: middle;\n",
       "    }\n",
       "\n",
       "    .dataframe tbody tr th {\n",
       "        vertical-align: top;\n",
       "    }\n",
       "\n",
       "    .dataframe thead th {\n",
       "        text-align: right;\n",
       "    }\n",
       "</style>\n",
       "<table border=\"1\" class=\"dataframe\">\n",
       "  <thead>\n",
       "    <tr style=\"text-align: right;\">\n",
       "      <th></th>\n",
       "      <th>idx</th>\n",
       "      <th>count</th>\n",
       "      <th>v0</th>\n",
       "      <th>v1</th>\n",
       "      <th>v2</th>\n",
       "      <th>v3</th>\n",
       "      <th>v4</th>\n",
       "      <th>v5</th>\n",
       "    </tr>\n",
       "  </thead>\n",
       "  <tbody>\n",
       "    <tr>\n",
       "      <th>0</th>\n",
       "      <td>0</td>\n",
       "      <td>7707</td>\n",
       "      <td>-0.031765</td>\n",
       "      <td>0.006868</td>\n",
       "      <td>0.007336</td>\n",
       "      <td>-0.032039</td>\n",
       "      <td>-0.010479</td>\n",
       "      <td>-0.013405</td>\n",
       "    </tr>\n",
       "    <tr>\n",
       "      <th>1</th>\n",
       "      <td>1</td>\n",
       "      <td>126</td>\n",
       "      <td>-0.918594</td>\n",
       "      <td>-1.010560</td>\n",
       "      <td>-0.229881</td>\n",
       "      <td>0.114066</td>\n",
       "      <td>0.012858</td>\n",
       "      <td>-0.023640</td>\n",
       "    </tr>\n",
       "    <tr>\n",
       "      <th>2</th>\n",
       "      <td>2</td>\n",
       "      <td>94</td>\n",
       "      <td>-0.512029</td>\n",
       "      <td>0.039087</td>\n",
       "      <td>0.746710</td>\n",
       "      <td>-0.338759</td>\n",
       "      <td>-0.052265</td>\n",
       "      <td>-0.329027</td>\n",
       "    </tr>\n",
       "    <tr>\n",
       "      <th>3</th>\n",
       "      <td>3</td>\n",
       "      <td>445</td>\n",
       "      <td>-0.355494</td>\n",
       "      <td>0.220335</td>\n",
       "      <td>-0.017600</td>\n",
       "      <td>-0.139448</td>\n",
       "      <td>0.207982</td>\n",
       "      <td>0.235730</td>\n",
       "    </tr>\n",
       "    <tr>\n",
       "      <th>4</th>\n",
       "      <td>4</td>\n",
       "      <td>356</td>\n",
       "      <td>-0.477650</td>\n",
       "      <td>0.393835</td>\n",
       "      <td>-0.121794</td>\n",
       "      <td>0.205869</td>\n",
       "      <td>-0.197741</td>\n",
       "      <td>-0.113922</td>\n",
       "    </tr>\n",
       "  </tbody>\n",
       "</table>\n",
       "</div>"
      ],
      "text/plain": [
       "   idx  count        v0        v1        v2        v3        v4        v5\n",
       "0    0   7707 -0.031765  0.006868  0.007336 -0.032039 -0.010479 -0.013405\n",
       "1    1    126 -0.918594 -1.010560 -0.229881  0.114066  0.012858 -0.023640\n",
       "2    2     94 -0.512029  0.039087  0.746710 -0.338759 -0.052265 -0.329027\n",
       "3    3    445 -0.355494  0.220335 -0.017600 -0.139448  0.207982  0.235730\n",
       "4    4    356 -0.477650  0.393835 -0.121794  0.205869 -0.197741 -0.113922"
      ]
     },
     "execution_count": 7,
     "metadata": {},
     "output_type": "execute_result"
    }
   ],
   "source": [
    "_means_df_m = kinetica_k_means('patient_sv_m')\n",
    "_means_df_m"
   ]
  },
  {
   "cell_type": "code",
   "execution_count": 8,
   "metadata": {},
   "outputs": [
    {
     "name": "stdout",
     "output_type": "stream",
     "text": [
      "Inserting rows into <kmeans_patient_m>: 5\n"
     ]
    }
   ],
   "source": [
    "save_results(_means_df_m, 'kmeans_patient_m')"
   ]
  },
  {
   "cell_type": "markdown",
   "metadata": {},
   "source": [
    "# Generate Female K-Means"
   ]
  },
  {
   "cell_type": "code",
   "execution_count": 9,
   "metadata": {},
   "outputs": [
    {
     "name": "stdout",
     "output_type": "stream",
     "text": [
      "Total Count: 10363\n",
      "Iterations: 10\n"
     ]
    },
    {
     "data": {
      "text/html": [
       "<div>\n",
       "<style scoped>\n",
       "    .dataframe tbody tr th:only-of-type {\n",
       "        vertical-align: middle;\n",
       "    }\n",
       "\n",
       "    .dataframe tbody tr th {\n",
       "        vertical-align: top;\n",
       "    }\n",
       "\n",
       "    .dataframe thead th {\n",
       "        text-align: right;\n",
       "    }\n",
       "</style>\n",
       "<table border=\"1\" class=\"dataframe\">\n",
       "  <thead>\n",
       "    <tr style=\"text-align: right;\">\n",
       "      <th></th>\n",
       "      <th>idx</th>\n",
       "      <th>count</th>\n",
       "      <th>v0</th>\n",
       "      <th>v1</th>\n",
       "      <th>v2</th>\n",
       "      <th>v3</th>\n",
       "      <th>v4</th>\n",
       "      <th>v5</th>\n",
       "    </tr>\n",
       "  </thead>\n",
       "  <tbody>\n",
       "    <tr>\n",
       "      <th>0</th>\n",
       "      <td>0</td>\n",
       "      <td>65</td>\n",
       "      <td>0.709157</td>\n",
       "      <td>0.007023</td>\n",
       "      <td>0.241615</td>\n",
       "      <td>-0.812213</td>\n",
       "      <td>0.660413</td>\n",
       "      <td>0.356604</td>\n",
       "    </tr>\n",
       "    <tr>\n",
       "      <th>1</th>\n",
       "      <td>1</td>\n",
       "      <td>166</td>\n",
       "      <td>0.988166</td>\n",
       "      <td>-0.692333</td>\n",
       "      <td>-0.197881</td>\n",
       "      <td>0.118802</td>\n",
       "      <td>-0.115929</td>\n",
       "      <td>-0.058018</td>\n",
       "    </tr>\n",
       "    <tr>\n",
       "      <th>2</th>\n",
       "      <td>2</td>\n",
       "      <td>84</td>\n",
       "      <td>0.622788</td>\n",
       "      <td>0.362415</td>\n",
       "      <td>1.124138</td>\n",
       "      <td>0.597634</td>\n",
       "      <td>-0.053800</td>\n",
       "      <td>0.086627</td>\n",
       "    </tr>\n",
       "    <tr>\n",
       "      <th>3</th>\n",
       "      <td>3</td>\n",
       "      <td>9438</td>\n",
       "      <td>0.034956</td>\n",
       "      <td>0.023338</td>\n",
       "      <td>0.006913</td>\n",
       "      <td>-0.027356</td>\n",
       "      <td>-0.017043</td>\n",
       "      <td>-0.000986</td>\n",
       "    </tr>\n",
       "    <tr>\n",
       "      <th>4</th>\n",
       "      <td>4</td>\n",
       "      <td>610</td>\n",
       "      <td>0.316659</td>\n",
       "      <td>0.412657</td>\n",
       "      <td>-0.235508</td>\n",
       "      <td>0.081849</td>\n",
       "      <td>0.034181</td>\n",
       "      <td>-0.025860</td>\n",
       "    </tr>\n",
       "  </tbody>\n",
       "</table>\n",
       "</div>"
      ],
      "text/plain": [
       "   idx  count        v0        v1        v2        v3        v4        v5\n",
       "0    0     65  0.709157  0.007023  0.241615 -0.812213  0.660413  0.356604\n",
       "1    1    166  0.988166 -0.692333 -0.197881  0.118802 -0.115929 -0.058018\n",
       "2    2     84  0.622788  0.362415  1.124138  0.597634 -0.053800  0.086627\n",
       "3    3   9438  0.034956  0.023338  0.006913 -0.027356 -0.017043 -0.000986\n",
       "4    4    610  0.316659  0.412657 -0.235508  0.081849  0.034181 -0.025860"
      ]
     },
     "execution_count": 9,
     "metadata": {},
     "output_type": "execute_result"
    }
   ],
   "source": [
    "_means_df_f = kinetica_k_means('patient_sv_f')\n",
    "_means_df_f"
   ]
  },
  {
   "cell_type": "code",
   "execution_count": 10,
   "metadata": {},
   "outputs": [
    {
     "name": "stdout",
     "output_type": "stream",
     "text": [
      "Inserting rows into <kmeans_patient_f>: 5\n"
     ]
    }
   ],
   "source": [
    "save_results(_means_df_f, 'kmeans_patient_f')"
   ]
  },
  {
   "cell_type": "code",
   "execution_count": null,
   "metadata": {},
   "outputs": [],
   "source": []
  }
 ],
 "metadata": {
  "kernelspec": {
   "display_name": "Python 2",
   "language": "python",
   "name": "python2"
  },
  "language_info": {
   "codemirror_mode": {
    "name": "ipython",
    "version": 2
   },
   "file_extension": ".py",
   "mimetype": "text/x-python",
   "name": "python",
   "nbconvert_exporter": "python",
   "pygments_lexer": "ipython2",
   "version": "2.7.5"
  }
 },
 "nbformat": 4,
 "nbformat_minor": 2
}
