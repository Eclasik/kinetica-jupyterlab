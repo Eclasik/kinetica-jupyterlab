{
 "cells": [
  {
   "cell_type": "markdown",
   "metadata": {},
   "source": [
    "# Kaiser TSNE Visualization"
   ]
  },
  {
   "cell_type": "code",
   "execution_count": 1,
   "metadata": {},
   "outputs": [],
   "source": [
    "import gpudb\n",
    "import pandas as pd\n",
    "import numpy as np"
   ]
  },
  {
   "cell_type": "markdown",
   "metadata": {},
   "source": [
    "### Read from input table"
   ]
  },
  {
   "cell_type": "code",
   "execution_count": 2,
   "metadata": {},
   "outputs": [],
   "source": [
    "_db = gpudb.GPUdb(encoding='BINARY', host=\"127.0.0.1\", port=\"9191\")"
   ]
  },
  {
   "cell_type": "code",
   "execution_count": 3,
   "metadata": {},
   "outputs": [],
   "source": [
    "def table_to_df(_db, _input_table):\n",
    "    BATCH_SIZE=10000\n",
    "    _offset = 0\n",
    "    _table_df = pd.DataFrame()\n",
    "\n",
    "    while True:\n",
    "        _response = _db.get_records(table_name=_input_table,\n",
    "                                    offset=_offset,\n",
    "                                    limit=BATCH_SIZE)\n",
    "        \n",
    "        res_decoded = gpudb.GPUdbRecord.decode_binary_data(\n",
    "            _response[\"type_schema\"], \n",
    "            _response[\"records_binary\"])\n",
    "        \n",
    "        _retrieved_records = len(res_decoded)\n",
    "        _offset += _retrieved_records\n",
    "        print('Got records: {}/{}'.format(_retrieved_records, _offset))\n",
    "        \n",
    "        _table_df = _table_df.append(res_decoded)\n",
    "        \n",
    "        if _response['has_more_records'] == False:\n",
    "            break;\n",
    "            \n",
    "    print('Records Retrieved: {}'.format(_table_df.shape))\n",
    "    _table_df.to_pickle(_input_table + '.pickle')\n",
    "    return _table_df\n"
   ]
  },
  {
   "cell_type": "markdown",
   "metadata": {},
   "source": [
    "We read from the **patient_sv** table containing a 10 dimensional vector for each patient."
   ]
  },
  {
   "cell_type": "code",
   "execution_count": 4,
   "metadata": {},
   "outputs": [
    {
     "name": "stdout",
     "output_type": "stream",
     "text": [
      "Got records: 10000/10000\n",
      "Got records: 9092/19092\n",
      "Records Retrieved: (19092, 11)\n"
     ]
    },
    {
     "data": {
      "text/html": [
       "<div>\n",
       "<style scoped>\n",
       "    .dataframe tbody tr th:only-of-type {\n",
       "        vertical-align: middle;\n",
       "    }\n",
       "\n",
       "    .dataframe tbody tr th {\n",
       "        vertical-align: top;\n",
       "    }\n",
       "\n",
       "    .dataframe thead th {\n",
       "        text-align: right;\n",
       "    }\n",
       "</style>\n",
       "<table border=\"1\" class=\"dataframe\">\n",
       "  <thead>\n",
       "    <tr style=\"text-align: right;\">\n",
       "      <th></th>\n",
       "      <th>PATIENT_ID</th>\n",
       "      <th>v0</th>\n",
       "      <th>v1</th>\n",
       "      <th>v2</th>\n",
       "      <th>v3</th>\n",
       "      <th>v4</th>\n",
       "      <th>v5</th>\n",
       "      <th>v6</th>\n",
       "      <th>v7</th>\n",
       "      <th>v8</th>\n",
       "      <th>v9</th>\n",
       "    </tr>\n",
       "  </thead>\n",
       "  <tbody>\n",
       "    <tr>\n",
       "      <th>0</th>\n",
       "      <td>3</td>\n",
       "      <td>-0.026869</td>\n",
       "      <td>0.003544</td>\n",
       "      <td>-0.067632</td>\n",
       "      <td>0.007149</td>\n",
       "      <td>-0.019579</td>\n",
       "      <td>0.012598</td>\n",
       "      <td>0.039725</td>\n",
       "      <td>0.012359</td>\n",
       "      <td>-0.002720</td>\n",
       "      <td>0.005420</td>\n",
       "    </tr>\n",
       "    <tr>\n",
       "      <th>1</th>\n",
       "      <td>4</td>\n",
       "      <td>-1.025537</td>\n",
       "      <td>-0.915222</td>\n",
       "      <td>0.135088</td>\n",
       "      <td>0.506937</td>\n",
       "      <td>0.046075</td>\n",
       "      <td>0.790646</td>\n",
       "      <td>-0.736051</td>\n",
       "      <td>-0.174529</td>\n",
       "      <td>-0.203942</td>\n",
       "      <td>-0.047053</td>\n",
       "    </tr>\n",
       "    <tr>\n",
       "      <th>2</th>\n",
       "      <td>6</td>\n",
       "      <td>-0.835222</td>\n",
       "      <td>-0.685774</td>\n",
       "      <td>0.319621</td>\n",
       "      <td>-0.053120</td>\n",
       "      <td>-0.135096</td>\n",
       "      <td>-0.106425</td>\n",
       "      <td>0.025238</td>\n",
       "      <td>-0.039275</td>\n",
       "      <td>-0.001030</td>\n",
       "      <td>-0.026680</td>\n",
       "    </tr>\n",
       "    <tr>\n",
       "      <th>3</th>\n",
       "      <td>7</td>\n",
       "      <td>-0.465780</td>\n",
       "      <td>-0.495243</td>\n",
       "      <td>0.087060</td>\n",
       "      <td>0.222816</td>\n",
       "      <td>-0.009257</td>\n",
       "      <td>0.530207</td>\n",
       "      <td>-0.575800</td>\n",
       "      <td>-0.017807</td>\n",
       "      <td>-0.002585</td>\n",
       "      <td>0.176052</td>\n",
       "    </tr>\n",
       "    <tr>\n",
       "      <th>4</th>\n",
       "      <td>9</td>\n",
       "      <td>-0.065967</td>\n",
       "      <td>0.046649</td>\n",
       "      <td>-0.009301</td>\n",
       "      <td>0.070871</td>\n",
       "      <td>0.131696</td>\n",
       "      <td>0.014793</td>\n",
       "      <td>-0.015506</td>\n",
       "      <td>-0.036466</td>\n",
       "      <td>0.100262</td>\n",
       "      <td>-0.003387</td>\n",
       "    </tr>\n",
       "  </tbody>\n",
       "</table>\n",
       "</div>"
      ],
      "text/plain": [
       "   PATIENT_ID        v0        v1        v2        v3        v4        v5  \\\n",
       "0           3 -0.026869  0.003544 -0.067632  0.007149 -0.019579  0.012598   \n",
       "1           4 -1.025537 -0.915222  0.135088  0.506937  0.046075  0.790646   \n",
       "2           6 -0.835222 -0.685774  0.319621 -0.053120 -0.135096 -0.106425   \n",
       "3           7 -0.465780 -0.495243  0.087060  0.222816 -0.009257  0.530207   \n",
       "4           9 -0.065967  0.046649 -0.009301  0.070871  0.131696  0.014793   \n",
       "\n",
       "         v6        v7        v8        v9  \n",
       "0  0.039725  0.012359 -0.002720  0.005420  \n",
       "1 -0.736051 -0.174529 -0.203942 -0.047053  \n",
       "2  0.025238 -0.039275 -0.001030 -0.026680  \n",
       "3 -0.575800 -0.017807 -0.002585  0.176052  \n",
       "4 -0.015506 -0.036466  0.100262 -0.003387  "
      ]
     },
     "execution_count": 4,
     "metadata": {},
     "output_type": "execute_result"
    }
   ],
   "source": [
    "_table_df = table_to_df(_db, 'patient_sv')\n",
    "_table_df.head()"
   ]
  },
  {
   "cell_type": "markdown",
   "metadata": {},
   "source": [
    "### Calculate K-Means"
   ]
  },
  {
   "cell_type": "code",
   "execution_count": 5,
   "metadata": {},
   "outputs": [
    {
     "name": "stderr",
     "output_type": "stream",
     "text": [
      "/usr/lib/python3.6/site-packages/ipykernel_launcher.py:1: FutureWarning: Method .as_matrix will be removed in a future version. Use .values instead.\n",
      "  \"\"\"Entry point for launching an IPython kernel.\n"
     ]
    },
    {
     "data": {
      "text/plain": [
       "(19092, 10)"
      ]
     },
     "execution_count": 5,
     "metadata": {},
     "output_type": "execute_result"
    }
   ],
   "source": [
    "_table_np = _table_df.iloc[:,1:].as_matrix().astype(np.float64)\n",
    "_table_np.shape"
   ]
  },
  {
   "cell_type": "code",
   "execution_count": 6,
   "metadata": {},
   "outputs": [],
   "source": [
    "from sklearn.cluster import KMeans\n",
    "PAT_CLUSTERS = 6\n",
    "_pat_means = KMeans(n_clusters=PAT_CLUSTERS, random_state=0).fit(_table_np)"
   ]
  },
  {
   "cell_type": "markdown",
   "metadata": {},
   "source": [
    "### Create a combined dataframe of counts and means"
   ]
  },
  {
   "cell_type": "code",
   "execution_count": 7,
   "metadata": {},
   "outputs": [
    {
     "data": {
      "text/html": [
       "<div>\n",
       "<style scoped>\n",
       "    .dataframe tbody tr th:only-of-type {\n",
       "        vertical-align: middle;\n",
       "    }\n",
       "\n",
       "    .dataframe tbody tr th {\n",
       "        vertical-align: top;\n",
       "    }\n",
       "\n",
       "    .dataframe thead th {\n",
       "        text-align: right;\n",
       "    }\n",
       "</style>\n",
       "<table border=\"1\" class=\"dataframe\">\n",
       "  <thead>\n",
       "    <tr style=\"text-align: right;\">\n",
       "      <th></th>\n",
       "      <th>idx</th>\n",
       "      <th>count</th>\n",
       "      <th>v0</th>\n",
       "      <th>v1</th>\n",
       "      <th>v2</th>\n",
       "      <th>v3</th>\n",
       "      <th>v4</th>\n",
       "      <th>v5</th>\n",
       "      <th>v6</th>\n",
       "      <th>v7</th>\n",
       "      <th>v8</th>\n",
       "      <th>v9</th>\n",
       "    </tr>\n",
       "  </thead>\n",
       "  <tbody>\n",
       "    <tr>\n",
       "      <th>0</th>\n",
       "      <td>0</td>\n",
       "      <td>17066</td>\n",
       "      <td>-0.027381</td>\n",
       "      <td>0.011948</td>\n",
       "      <td>-0.009277</td>\n",
       "      <td>0.028651</td>\n",
       "      <td>-0.008627</td>\n",
       "      <td>-0.007250</td>\n",
       "      <td>0.005802</td>\n",
       "      <td>0.004578</td>\n",
       "      <td>0.000861</td>\n",
       "      <td>-0.009877</td>\n",
       "    </tr>\n",
       "    <tr>\n",
       "      <th>1</th>\n",
       "      <td>1</td>\n",
       "      <td>723</td>\n",
       "      <td>-0.315924</td>\n",
       "      <td>0.372343</td>\n",
       "      <td>0.144270</td>\n",
       "      <td>-0.126296</td>\n",
       "      <td>-0.227225</td>\n",
       "      <td>0.052531</td>\n",
       "      <td>-0.013767</td>\n",
       "      <td>-0.022696</td>\n",
       "      <td>0.004067</td>\n",
       "      <td>-0.010314</td>\n",
       "    </tr>\n",
       "    <tr>\n",
       "      <th>2</th>\n",
       "      <td>2</td>\n",
       "      <td>132</td>\n",
       "      <td>-0.597413</td>\n",
       "      <td>0.014181</td>\n",
       "      <td>-1.120111</td>\n",
       "      <td>-0.411596</td>\n",
       "      <td>0.003652</td>\n",
       "      <td>-0.105453</td>\n",
       "      <td>-0.063343</td>\n",
       "      <td>0.010559</td>\n",
       "      <td>-0.006784</td>\n",
       "      <td>0.020970</td>\n",
       "    </tr>\n",
       "    <tr>\n",
       "      <th>3</th>\n",
       "      <td>3</td>\n",
       "      <td>815</td>\n",
       "      <td>-0.268761</td>\n",
       "      <td>0.252776</td>\n",
       "      <td>0.054790</td>\n",
       "      <td>0.046236</td>\n",
       "      <td>0.284102</td>\n",
       "      <td>-0.045891</td>\n",
       "      <td>0.039550</td>\n",
       "      <td>0.015015</td>\n",
       "      <td>-0.029403</td>\n",
       "      <td>0.031381</td>\n",
       "    </tr>\n",
       "    <tr>\n",
       "      <th>4</th>\n",
       "      <td>4</td>\n",
       "      <td>270</td>\n",
       "      <td>-0.821194</td>\n",
       "      <td>-0.668013</td>\n",
       "      <td>0.263128</td>\n",
       "      <td>-0.066257</td>\n",
       "      <td>-0.018686</td>\n",
       "      <td>-0.083977</td>\n",
       "      <td>0.050015</td>\n",
       "      <td>0.003429</td>\n",
       "      <td>-0.005255</td>\n",
       "      <td>-0.003538</td>\n",
       "    </tr>\n",
       "    <tr>\n",
       "      <th>5</th>\n",
       "      <td>5</td>\n",
       "      <td>86</td>\n",
       "      <td>-0.516344</td>\n",
       "      <td>-0.085217</td>\n",
       "      <td>-0.134201</td>\n",
       "      <td>0.605587</td>\n",
       "      <td>0.038393</td>\n",
       "      <td>0.738047</td>\n",
       "      <td>-0.712726</td>\n",
       "      <td>-0.010521</td>\n",
       "      <td>0.009624</td>\n",
       "      <td>0.139909</td>\n",
       "    </tr>\n",
       "  </tbody>\n",
       "</table>\n",
       "</div>"
      ],
      "text/plain": [
       "   idx  count        v0        v1        v2        v3        v4        v5  \\\n",
       "0    0  17066 -0.027381  0.011948 -0.009277  0.028651 -0.008627 -0.007250   \n",
       "1    1    723 -0.315924  0.372343  0.144270 -0.126296 -0.227225  0.052531   \n",
       "2    2    132 -0.597413  0.014181 -1.120111 -0.411596  0.003652 -0.105453   \n",
       "3    3    815 -0.268761  0.252776  0.054790  0.046236  0.284102 -0.045891   \n",
       "4    4    270 -0.821194 -0.668013  0.263128 -0.066257 -0.018686 -0.083977   \n",
       "5    5     86 -0.516344 -0.085217 -0.134201  0.605587  0.038393  0.738047   \n",
       "\n",
       "         v6        v7        v8        v9  \n",
       "0  0.005802  0.004578  0.000861 -0.009877  \n",
       "1 -0.013767 -0.022696  0.004067 -0.010314  \n",
       "2 -0.063343  0.010559 -0.006784  0.020970  \n",
       "3  0.039550  0.015015 -0.029403  0.031381  \n",
       "4  0.050015  0.003429 -0.005255 -0.003538  \n",
       "5 -0.712726 -0.010521  0.009624  0.139909  "
      ]
     },
     "execution_count": 7,
     "metadata": {},
     "output_type": "execute_result"
    }
   ],
   "source": [
    "# get counts of means\n",
    "_labels_df = pd.DataFrame(_pat_means.labels_, columns=['idx'])\n",
    "_counts_df = _labels_df.groupby('idx').size().reset_index(name='count')\n",
    "\n",
    "# create a combined dataframe\n",
    "_centroids_df = pd.DataFrame(_pat_means.cluster_centers_, columns=_table_df.columns[1:])\n",
    "_means_df = pd.concat([_counts_df, _centroids_df], axis=1)\n",
    "_means_df"
   ]
  },
  {
   "cell_type": "markdown",
   "metadata": {},
   "source": [
    "### Save k-means table to Kinetica"
   ]
  },
  {
   "cell_type": "code",
   "execution_count": 8,
   "metadata": {},
   "outputs": [],
   "source": [
    "def save_results(df, res_table, schema='KAISERS_SQL'):\n",
    "    _result_type = [[df.columns[0], gpudb.GPUdbRecordColumn._ColumnType.INT],\n",
    "                    [df.columns[1], gpudb.GPUdbRecordColumn._ColumnType.INT]]\n",
    "    \n",
    "    for _col_name in df.columns[2:]:\n",
    "        _result_type.append([_col_name, gpudb.GPUdbRecordColumn._ColumnType.DOUBLE])\n",
    "\n",
    "    _db.clear_table(res_table, options={ 'no_error_if_not_exists':'true' })\n",
    "\n",
    "    _result_table = gpudb.GPUdbTable(db=_db, _type=_result_type, name=res_table,\n",
    "        options={'collection_name': schema,\n",
    "                 'is_replicated': 'true'} )\n",
    "\n",
    "    _insert_records = df.to_records(index=False)\n",
    "    _insert_rows = map(list, _insert_records)\n",
    "\n",
    "    print('Inserting rows into <{}>: {}'.format(res_table, len(_insert_rows)))\n",
    "    _result_table.insert_records(_insert_rows)"
   ]
  },
  {
   "cell_type": "code",
   "execution_count": 9,
   "metadata": {},
   "outputs": [
    {
     "ename": "TypeError",
     "evalue": "object of type 'map' has no len()",
     "output_type": "error",
     "traceback": [
      "\u001b[0;31m---------------------------------------------------------------------------\u001b[0m",
      "\u001b[0;31mTypeError\u001b[0m                                 Traceback (most recent call last)",
      "\u001b[0;32m<ipython-input-9-73b5ed99ac5c>\u001b[0m in \u001b[0;36m<module>\u001b[0;34m()\u001b[0m\n\u001b[0;32m----> 1\u001b[0;31m \u001b[0msave_results\u001b[0m\u001b[0;34m(\u001b[0m\u001b[0m_means_df\u001b[0m\u001b[0;34m,\u001b[0m \u001b[0;34m'kmeans_patient'\u001b[0m\u001b[0;34m)\u001b[0m\u001b[0;34m\u001b[0m\u001b[0m\n\u001b[0m",
      "\u001b[0;32m<ipython-input-8-ad17232a0a8e>\u001b[0m in \u001b[0;36msave_results\u001b[0;34m(df, res_table, schema)\u001b[0m\n\u001b[1;32m     15\u001b[0m     \u001b[0m_insert_rows\u001b[0m \u001b[0;34m=\u001b[0m \u001b[0mmap\u001b[0m\u001b[0;34m(\u001b[0m\u001b[0mlist\u001b[0m\u001b[0;34m,\u001b[0m \u001b[0m_insert_records\u001b[0m\u001b[0;34m)\u001b[0m\u001b[0;34m\u001b[0m\u001b[0m\n\u001b[1;32m     16\u001b[0m \u001b[0;34m\u001b[0m\u001b[0m\n\u001b[0;32m---> 17\u001b[0;31m     \u001b[0mprint\u001b[0m\u001b[0;34m(\u001b[0m\u001b[0;34m'Inserting rows into <{}>: {}'\u001b[0m\u001b[0;34m.\u001b[0m\u001b[0mformat\u001b[0m\u001b[0;34m(\u001b[0m\u001b[0mres_table\u001b[0m\u001b[0;34m,\u001b[0m \u001b[0mlen\u001b[0m\u001b[0;34m(\u001b[0m\u001b[0m_insert_rows\u001b[0m\u001b[0;34m)\u001b[0m\u001b[0;34m)\u001b[0m\u001b[0;34m)\u001b[0m\u001b[0;34m\u001b[0m\u001b[0m\n\u001b[0m\u001b[1;32m     18\u001b[0m     \u001b[0m_result_table\u001b[0m\u001b[0;34m.\u001b[0m\u001b[0minsert_records\u001b[0m\u001b[0;34m(\u001b[0m\u001b[0m_insert_rows\u001b[0m\u001b[0;34m)\u001b[0m\u001b[0;34m\u001b[0m\u001b[0m\n",
      "\u001b[0;31mTypeError\u001b[0m: object of type 'map' has no len()"
     ]
    }
   ],
   "source": [
    "save_results(_means_df, 'kmeans_patient')"
   ]
  },
  {
   "cell_type": "markdown",
   "metadata": {},
   "source": [
    "### 2D t-SNE Visualization\n",
    "\n",
    "t-distributed Stochastic Neighbor Embedding"
   ]
  },
  {
   "cell_type": "code",
   "execution_count": null,
   "metadata": {},
   "outputs": [],
   "source": [
    "from sklearn.manifold import TSNE\n",
    "TSNE_POINTS = 1000\n",
    "\n",
    "tsne_2d = TSNE(\n",
    "    n_components=2, \n",
    "    verbose=1, \n",
    "    #perplexity=80, \n",
    "    #n_iter=600, \n",
    "    random_state=0\n",
    ")\n",
    "tsne_2d_results = tsne_2d.fit_transform(_table_np[:TSNE_POINTS])\n",
    "print('Done', tsne_2d_results.shape)"
   ]
  },
  {
   "cell_type": "code",
   "execution_count": null,
   "metadata": {},
   "outputs": [],
   "source": [
    "from matplotlib import pyplot as plt\n",
    "\n",
    "_cbar_labels = [ \n",
    "    'Generic \"other\"',\n",
    "    'Diabetic + high cholesterol',\n",
    "    'Tramadol (opiate)',\n",
    "    'Cholesterol + high blood pressure',\n",
    "    'Hydrocodone (opiate)',\n",
    "    'Opiate + muscle relaxant' ]\n",
    "\n",
    "plt.figure(figsize=(12,10))\n",
    "sc = plt.scatter(\n",
    "    x=tsne_2d_results[:,1],\n",
    "    y=tsne_2d_results[:,0], \n",
    "    c=_pat_means.labels_[:TSNE_POINTS], \n",
    "    alpha=0.4, \n",
    "    cmap=plt.cm.get_cmap(\"jet\", PAT_CLUSTERS)\n",
    ")\n",
    "plt.clim(-0.5, PAT_CLUSTERS - 0.5)\n",
    "cbar = plt.colorbar(sc)\n",
    "cbar.ax.set_yticklabels(_cbar_labels)\n",
    "plt.show()"
   ]
  },
  {
   "cell_type": "markdown",
   "metadata": {},
   "source": [
    "### 3D t-SNE Visualization"
   ]
  },
  {
   "cell_type": "code",
   "execution_count": null,
   "metadata": {},
   "outputs": [],
   "source": [
    "from sklearn.manifold import TSNE\n",
    "TSNE_3D_POINTS = 2000\n",
    "\n",
    "tsne_3d = TSNE(\n",
    "    n_components=3, \n",
    "    verbose=1, \n",
    "    #perplexity=80, \n",
    "    #n_iter=600, \n",
    "    random_state=0\n",
    ")\n",
    "tsne_3d_results = tsne_3d.fit_transform(_table_np[:TSNE_POINTS])\n",
    "print('Done', tsne_3d_results.shape)"
   ]
  },
  {
   "cell_type": "code",
   "execution_count": null,
   "metadata": {},
   "outputs": [],
   "source": [
    "import plotly.plotly as py\n",
    "import plotly.graph_objs as go\n",
    "\n",
    "scatter_3d = go.Scatter3d(\n",
    "    x=tsne_3d_results[:,0],\n",
    "    y=tsne_3d_results[:,1],\n",
    "    z=tsne_3d_results[:,2],\n",
    "    mode='markers',\n",
    "    marker=dict(\n",
    "        size=4,\n",
    "        color=_pat_means.labels_[:TSNE_3D_POINTS],\n",
    "        colorscale='Viridis',\n",
    "        opacity=0.5,\n",
    "        showscale=True,\n",
    "        colorbar=dict( \n",
    "            ticks='outside'\n",
    "        )\n",
    "    )\n",
    ")\n",
    "\n",
    "scatter_fig = go.Figure(\n",
    "    data=[scatter_3d], \n",
    "    layout=go.Layout(\n",
    "        margin=dict(\n",
    "            l=0,\n",
    "            r=0,\n",
    "            b=0,\n",
    "            t=0\n",
    "        )\n",
    "    )\n",
    ")\n",
    "\n",
    "py.iplot(scatter_fig, filename='svd-tsne-3d')"
   ]
  },
  {
   "cell_type": "code",
   "execution_count": null,
   "metadata": {},
   "outputs": [],
   "source": []
  }
 ],
 "metadata": {
  "kernelspec": {
   "display_name": "Python 2",
   "language": "python",
   "name": "python2"
  },
  "language_info": {
   "codemirror_mode": {
    "name": "ipython",
    "version": 2
   },
   "file_extension": ".py",
   "mimetype": "text/x-python",
   "name": "python",
   "nbconvert_exporter": "python",
   "pygments_lexer": "ipython2",
   "version": "2.7.5"
  }
 },
 "nbformat": 4,
 "nbformat_minor": 2
}
