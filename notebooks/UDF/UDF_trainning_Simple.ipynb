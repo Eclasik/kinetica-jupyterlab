{
 "cells": [
  {
   "cell_type": "markdown",
   "metadata": {},
   "source": [
    "This turtorial can be found at this link:\n",
    "    \n",
    "https://www.kinetica.com/docs/udf/python/examples/dist_noncuda_sum_of_squares/dist_noncuda_sum_of_squares.html\n",
    "\n",
    "This turtorial uses two of numeric data colomns $x_1$ and $x_2$ from input table, UDF is used to computer a column $y={x_1}^2+{x_2}^2 $ and save it in to output table"
   ]
  },
  {
   "cell_type": "markdown",
   "metadata": {},
   "source": [
    "## udf_sos_init.py: creates the input & output tables and loads test data"
   ]
  },
  {
   "cell_type": "markdown",
   "metadata": {},
   "source": [
    "#### Connect to Kinetica"
   ]
  },
  {
   "cell_type": "code",
   "execution_count": 1,
   "metadata": {},
   "outputs": [],
   "source": [
    "import sys\n",
    "sys.path.append(\"/opt/gpudb/udf/api/python\") # to access kinetica_proc.py file\n",
    "import collections\n",
    "import gpudb\n",
    "import random\n",
    "KINETICA_HOST = 'p4.rewreu.org'\n",
    "KINETICA_PORT = '9191'\n",
    "INPUT_TABLE = 'udf_sos_in_table'\n",
    "OUTPUT_TABLE = 'udf_sos_out_table'\n",
    "h_db = gpudb.GPUdb(encoding = 'BINARY', host = KINETICA_HOST, port = KINETICA_PORT)"
   ]
  },
  {
   "cell_type": "markdown",
   "metadata": {},
   "source": [
    "#### Create input data table\n",
    "\n",
    "Creat a table named with \"udf_sos_in_table\", generated 1000 rows of random numbers into x1 and x2 colomns. Then create an output table named \"udf_sos_out_table\". \n",
    "\n",
    "Run the script below, and check \"udf_sos_in_table\" in gadmin."
   ]
  },
  {
   "cell_type": "code",
   "execution_count": 2,
   "metadata": {},
   "outputs": [
    {
     "data": {
      "text/plain": [
       "{u'is_collection': False,\n",
       " 'status_info': {u'data_type': u'create_table_response_avro',\n",
       "  u'message': u'',\n",
       "  'response_time': 0.00435,\n",
       "  u'status': u'OK'},\n",
       " u'table_name': u'udf_sos_out_table',\n",
       " u'type_id': u'2564890278364254450'}"
      ]
     },
     "execution_count": 2,
     "metadata": {},
     "output_type": "execute_result"
    }
   ],
   "source": [
    "input_type = \"\"\"\n",
    "{\n",
    "   \"type\": \"record\",\n",
    "   \"name\": \"input_type\",\n",
    "   \"fields\": [\n",
    "      {\"type\":\"float\",\"name\":\"x1\"},\n",
    "      {\"type\":\"int\",\"name\":\"id\"},\n",
    "      {\"type\":\"float\",\"name\":\"x2\"}\n",
    "   ]\n",
    "}  \"\"\".replace(' ', '').replace('\\n', '')\n",
    "output_type = \"\"\"\n",
    "{\n",
    "   \"type\": \"record\",\n",
    "   \"name\": \"out_type\",\n",
    "   \"fields\": [\n",
    "    {\"type\":\"int\",\"name\":\"id\"},\n",
    "      {\"name\":\"y\",\"type\":\"float\"}\n",
    "   ]\n",
    "}  \"\"\".replace(' ', '').replace('\\n', '')\n",
    "type_properties = {\"id\":[\"primary_key\"]}\n",
    "type_id = h_db.create_type(type_definition=input_type, label=INPUT_TABLE + '_lbl', properties=type_properties)['type_id']\n",
    "if h_db.has_table(table_name=INPUT_TABLE)['table_exists']:\n",
    "    h_db.clear_table(table_name=INPUT_TABLE)\n",
    "h_db.create_table(table_name=INPUT_TABLE, type_id=type_id)\n",
    "## Insert input data\n",
    "encoded_obj_list = []\n",
    "for val in range(1000):\n",
    "    datum = collections.OrderedDict()\n",
    "    datum[\"x1\"] = random.gauss(1, 1)\n",
    "    datum[\"x2\"] = random.gauss(1, 2)\n",
    "    datum[\"id\"] = val\n",
    "    encoded_obj_list.append(h_db.encode_datum(input_type, datum))\n",
    "h_db.insert_records(table_name=INPUT_TABLE, data=encoded_obj_list, list_encoding='binary', options={})\n",
    "## Create output data table\n",
    "\n",
    "type_id = h_db.create_type(type_definition=output_type, label=OUTPUT_TABLE + '_lbl', properties=type_properties)['type_id']\n",
    "if h_db.has_table(table_name=OUTPUT_TABLE)['table_exists']:\n",
    "    h_db.clear_table(table_name=OUTPUT_TABLE)\n",
    "h_db.create_table(table_name=OUTPUT_TABLE, type_id=type_id)"
   ]
  },
  {
   "cell_type": "markdown",
   "metadata": {},
   "source": [
    "## A look at the input table"
   ]
  },
  {
   "cell_type": "code",
   "execution_count": 3,
   "metadata": {},
   "outputs": [
    {
     "name": "stdout",
     "output_type": "stream",
     "text": [
      "Connection successful\n",
      "Catalog [KINETICA]\n",
      "Time 0.269\n",
      "+------+---------------+--------------+\n",
      "|   id |            x1 |           x2 |\n",
      "+------+---------------+--------------+\n",
      "|    0 |     1.2324717 |   -2.1719012 |\n",
      "|    1 |     1.1998428 |     -3.97436 |\n",
      "|    2 |     0.7730517 |    2.4205842 |\n",
      "|    3 |   -0.22777738 |    -2.601644 |\n",
      "|    4 |    0.41525286 |   -0.9269873 |\n",
      "|    5 |     1.7911818 |    2.0021868 |\n",
      "|    6 |    0.58970404 |     3.326359 |\n",
      "|    7 |     1.2972246 |    2.9697058 |\n",
      "|    8 |    0.01205742 |    0.5122146 |\n",
      "|    9 |      1.574601 |   -1.2934016 |\n",
      "+------+---------------+--------------+\n",
      "Rows read = 10\n",
      "Exec time 0.046 Fetch time 0.018\n"
     ]
    }
   ],
   "source": [
    "%%bash \n",
    "./kisql/kisql -h p4.rewreu.org -sql \\\n",
    "\"\"\"\n",
    "SELECT id,x1,x2\n",
    "FROM udf_sos_in_table\n",
    "LIMIT 10\n",
    "\"\"\""
   ]
  },
  {
   "cell_type": "markdown",
   "metadata": {},
   "source": [
    "## Below is the proc file passed into UDF\n",
    "\n",
    "run the script below, a python file named udf_sos_proc.py will be saved in the current folder"
   ]
  },
  {
   "cell_type": "code",
   "execution_count": 4,
   "metadata": {},
   "outputs": [
    {
     "name": "stdout",
     "output_type": "stream",
     "text": [
      "Overwriting udf_sos_proc.py\n"
     ]
    }
   ],
   "source": [
    "%%writefile udf_sos_proc.py\n",
    "################################################################################\n",
    "#                                                                              #\n",
    "# Kinetica UDF Sum of Squares Example UDF                                      #\n",
    "# ---------------------------------------------------------------------------- #\n",
    "# This UDF takes pairs of input & output tables, computing the sum of the      #\n",
    "# squares of all the columns for each input table and saving the resulting     #\n",
    "# sums to the first column of the corresponding output table.                  #\n",
    "#                                                                              #\n",
    "################################################################################\n",
    "import sys\n",
    "import math\n",
    "from kinetica_proc import ProcData\n",
    "\n",
    "proc_data = ProcData()\n",
    "in_table, out_table = proc_data.input_data[0], proc_data.output_data[0]\n",
    "# Extend the output table by the number of record entries in the input table\n",
    "out_table.size = in_table.size\n",
    "\n",
    "# Use the first column in the output table as the output column\n",
    "# Loop through all the input table columns\n",
    "for i in xrange(0, in_table.size):\n",
    "    out_table[\"y\"][i] = (in_table[\"x1\"][i]) ** 2 + (in_table[\"x2\"][i]) ** 2\n",
    "    out_table[\"id\"][i] = in_table[\"id\"][i]\n",
    "\n",
    "proc_data.complete()"
   ]
  },
  {
   "cell_type": "markdown",
   "metadata": {},
   "source": [
    "## Execute the UDF\n",
    "\n",
    "run the script while watch "
   ]
  },
  {
   "cell_type": "code",
   "execution_count": 5,
   "metadata": {},
   "outputs": [
    {
     "name": "stdout",
     "output_type": "stream",
     "text": [
      "Registering proc...\n",
      "{'status_info': {u'status': u'OK', u'data_type': u'create_proc_response', u'message': u'', 'response_time': 0.00444}, u'proc_name': u'udf_sos_proc'}\n",
      "Executing proc...\n",
      "{'status_info': {u'status': u'OK', u'data_type': u'execute_proc_response', u'message': u'', 'response_time': 0.00158}, u'run_id': u'19'}\n"
     ]
    }
   ],
   "source": [
    "import sys\n",
    "import gpudb\n",
    "\n",
    "KINETICA_HOST = 'p4.rewreu.org'\n",
    "KINETICA_PORT = '9191'\n",
    "proc_name = 'udf_sos_proc'\n",
    "file_name = proc_name + '.py'\n",
    "# Read proc code in as bytes and add to a file data array\n",
    "files = {}\n",
    "with open(file_name, 'rb') as file:\n",
    "    files[file_name] = file.read()\n",
    "# Connect to Kinetica\n",
    "h_db = gpudb.GPUdb(encoding='BINARY', host=KINETICA_HOST, port=KINETICA_PORT)\n",
    "# Remove proc if it exists from a prior registration\n",
    "if h_db.has_proc(proc_name)['proc_exists']:\n",
    "    h_db.delete_proc(proc_name)\n",
    "print \"Registering proc...\"\n",
    "response = h_db.create_proc(proc_name, 'distributed', files, 'python', [file_name], {})\n",
    "print response\n",
    "\n",
    "print \"Executing proc...\"\n",
    "response = h_db.execute_proc(proc_name, {}, {}, [INPUT_TABLE], {}, [OUTPUT_TABLE], {})\n",
    "print response\n"
   ]
  },
  {
   "cell_type": "markdown",
   "metadata": {},
   "source": [
    "## Look at the result"
   ]
  },
  {
   "cell_type": "code",
   "execution_count": 6,
   "metadata": {},
   "outputs": [
    {
     "name": "stdout",
     "output_type": "stream",
     "text": [
      "Connection successful\n",
      "Catalog [KINETICA]\n",
      "Time 0.193\n",
      "Rows read = 0\n",
      "Exec time 0.067 Fetch time 0.001\n"
     ]
    }
   ],
   "source": [
    "%%bash \n",
    "./kisql/kisql -h p4.rewreu.org -sql \\\n",
    "\"\"\"\n",
    "select in_t.x1, in_t.x2, out_t.y as UDF_result, \n",
    "FLOAT(in_t.x1 * in_t.x1 + in_t.x2 * in_t.x2) as Query_result,\n",
    "FLOAT(in_t.x1 * in_t.x1 + in_t.x2 * in_t.x2) - out_t.y as diff\n",
    "from udf_sos_out_table as out_t\n",
    "inner join udf_sos_in_table as in_t on in_t.id = out_t.id\n",
    "limit 10\n",
    "\"\"\""
   ]
  }
 ],
 "metadata": {
  "kernelspec": {
   "display_name": "Python 3",
   "language": "python",
   "name": "python3"
  },
  "language_info": {
   "codemirror_mode": {
    "name": "ipython",
    "version": 3
   },
   "file_extension": ".py",
   "mimetype": "text/x-python",
   "name": "python",
   "nbconvert_exporter": "python",
   "pygments_lexer": "ipython3",
   "version": "3.6.5"
  }
 },
 "nbformat": 4,
 "nbformat_minor": 2
}
