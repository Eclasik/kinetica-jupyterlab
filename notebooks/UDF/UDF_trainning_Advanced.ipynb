{
 "cells": [
  {
   "cell_type": "markdown",
   "metadata": {},
   "source": [
    "# Note before you run\n",
    "\n",
    "#### This lab will run UDFs on training a tensorflow model, save model in kinetca database, using that model for inference. Prerequisites include using UDF, knowledge of Tensorflow, deep learning.\n",
    "\n"
   ]
  },
  {
   "cell_type": "markdown",
   "metadata": {},
   "source": [
    "If you run into errors like CUDA out of memory, you may need to \n",
    "change <font color='green'>os.environ[\"CUDA_VISIBLE_DEVICES\"]=\"0\"</font> from 0 to the index \n",
    "of gpu which has enough memory. If all your gpus memory are full, \n",
    "then try to use <font color='green'>os.environ[\"CUDA_VISIBLE_DEVICES\"]=\"\"</font> to force \n",
    "tensorflow to use CPU \n",
    "\n",
    "When traing a model, make sure <font color='green'>ModelName</font> is not existing in TFmodel table.\n",
    "For example, if you trained with <font color='green'>ModelName='TF1.ckpt'</font>. Then next time, you run the \n",
    "training, you need to change  <font color='green'>ModelName='OtherName.ckpt'</font>."
   ]
  },
  {
   "cell_type": "code",
   "execution_count": 1,
   "metadata": {},
   "outputs": [
    {
     "data": {
      "text/html": [
       "<img src=\"https://docs.google.com/drawings/d/e/2PACX-1vQRoGhcQ_iJpRxynriYMCUVfcN5Q49KdiifO5ek3ZC21V6Az5gP8Wi4AaBp3TGNCknCMgdkF8j2pIt8/pub?w=802&h=271\"/>"
      ],
      "text/plain": [
       "<IPython.core.display.Image object>"
      ]
     },
     "execution_count": 1,
     "metadata": {},
     "output_type": "execute_result"
    }
   ],
   "source": [
    "from IPython.display import Image\n",
    "from IPython.core.display import HTML \n",
    "Image(url=r\"\"\"https://docs.google.com/drawings/d/e/2PAC\n",
    "X-1vQRoGhcQ_iJpRxynriYMCUVfcN5Q49KdiifO5ek3ZC21V6Az5gP8Wi\n",
    "4AaBp3TGNCknCMgdkF8j2pIt8/pub?w=802&h=271\"\"\".replace(\"\\n\",\"\"))"
   ]
  },
  {
   "cell_type": "markdown",
   "metadata": {},
   "source": [
    "# Demo 1: MNIST"
   ]
  },
  {
   "cell_type": "markdown",
   "metadata": {},
   "source": [
    "## 1. Initializing \n",
    "\n",
    "### Create MINST tables with train and inference data\n",
    "Note: the training data is not sharded since training is done with ND UDF. inference data are packed into size of data_pack_size."
   ]
  },
  {
   "cell_type": "code",
   "execution_count": 1,
   "metadata": {},
   "outputs": [
    {
     "name": "stdout",
     "output_type": "stream",
     "text": [
      "UDF_util/MNIST_data\n",
      "Extracting UDF_util/MNIST_data/train-images-idx3-ubyte.gz\n",
      "Extracting UDF_util/MNIST_data/train-labels-idx1-ubyte.gz\n",
      "Extracting UDF_util/MNIST_data/t10k-images-idx3-ubyte.gz\n",
      "Extracting UDF_util/MNIST_data/t10k-labels-idx1-ubyte.gz\n",
      "start loading train data into table\n",
      "20.0 % loaded\n",
      "40.0 % loaded\n",
      "60.0 % loaded\n",
      "80.0 % loaded\n",
      "100.0 % loaded\n",
      "Mnist_train table has 55000 number of record inserted\n",
      "start loading test data into table\n",
      "20.0 % loaded\n",
      "40.0 % loaded\n",
      "60.0 % loaded\n",
      "80.0 % loaded\n",
      "100.0 % loaded\n",
      "Mnist_inference table has 10000 number of record inserted\n"
     ]
    }
   ],
   "source": [
    "from tensorflow.examples.tutorials.mnist import input_data\n",
    "import os\n",
    "import numpy as np\n",
    "import gpudb\n",
    "import collections\n",
    "import warnings\n",
    "warnings.filterwarnings('ignore')\n",
    "os.environ['TF_CPP_MIN_LOG_LEVEL'] = '3' \n",
    "# the data are sharded into TOMs, each TOM has 100 row\n",
    "host_ip = \"p4.rewreu.org\"\n",
    "data_pack_size = 1000\n",
    "COLLECTION = \"Mnist\"\n",
    "PORT = \"9191\"\n",
    "BASE_dir = \"./UDF_util/\"\n",
    "MINST_url = BASE_dir + \"MNIST_data\"\n",
    "TRAIN_TABLE = 'Mnist_train'\n",
    "INFER_TABLE='Mnist_inference'\n",
    "OUTPUT_TABLE = 'Mnist_inference_out'\n",
    "\n",
    "def main():\n",
    "    global  MINST_url\n",
    "    if os.path.isdir(MINST_url):\n",
    "        MINST_url = MINST_url[2:]\n",
    "    print MINST_url\n",
    "    mnist = input_data.read_data_sets(MINST_url, one_hot=True)\n",
    "    # Connect to Kinetica\n",
    "    h_db = gpudb.GPUdb(encoding='BINARY', host=host_ip, port=PORT)\n",
    "    # Create input data table type\n",
    "    input_type = \"\"\"\n",
    "    {\n",
    "       \"type\": \"record\",\n",
    "       \"name\": \"input_type\",\n",
    "       \"fields\": [\n",
    "          {\"name\":\"data\",\"type\":\"bytes\"},\n",
    "          {\"name\":\"onehot_label\",\"type\":\"bytes\"},\n",
    "          {\"name\":\"readable_label\",\"type\":\"int\"}\n",
    "       ]\n",
    "    }  \"\"\".replace(' ', '').replace('\\n', '')\n",
    "    # Create output data table\n",
    "    input_properties={\"readable_label\":[\"shard_key\"]}\n",
    "    #input_properties={}\n",
    "    output_type = \"\"\"\n",
    "    {\n",
    "       \"type\": \"record\",\n",
    "       \"name\": \"output_type\",\n",
    "       \"fields\": [\n",
    "          {\"name\":\"Predict\",\"type\":\"int\"},\n",
    "          {\"name\":\"Label\",\"type\":\"int\"}\n",
    "       ]\n",
    "    }  \"\"\".replace(' ','').replace('\\n','')\n",
    "    output_properties={\"Label\":[\"shard_key\"]}\n",
    "    \n",
    "    setupTables(h_db, TRAIN_TABLE, INFER_TABLE, input_type, input_properties, OUTPUT_TABLE,output_type, output_properties)\n",
    "    # injest training data\n",
    "    print(\"start loading train data into table\")\n",
    "    injest(h_db,TRAIN_TABLE,mnist.train,input_type)\n",
    "    # injest inference data\n",
    "    print(\"start loading test data into table\")\n",
    "    injest(h_db, INFER_TABLE, mnist.test,input_type)\n",
    "\n",
    "def setupTables(h_db,Train_Table,Infer_Table,input_type, input_properties, Output_table,output_type,output_properties):\n",
    "\n",
    "    # create input table\n",
    "    response = h_db.create_type(type_definition=input_type, label=Train_Table + '_lbl', properties={})\n",
    "    if h_db.has_table(table_name=Train_Table)['table_exists']:\n",
    "        h_db.clear_table(table_name=Train_Table)\n",
    "    response = h_db.create_table(table_name=Train_Table, type_id=response['type_id'],\n",
    "                                 options={\"collection_name\": COLLECTION})\n",
    "\n",
    "    # create inference input table\n",
    "    response = h_db.create_type(type_definition=input_type, label=Infer_Table + '_lbl', properties=input_properties)\n",
    "    if h_db.has_table(table_name=Infer_Table)['table_exists']:\n",
    "        h_db.clear_table(table_name=Infer_Table)\n",
    "    response = h_db.create_table(table_name=Infer_Table, type_id=response['type_id'],\n",
    "                                 options={\"collection_name\": COLLECTION})\n",
    "\n",
    "    # create inference output table\n",
    "    response = h_db.create_type(type_definition=output_type, label=Output_table + '_lbl', properties=output_properties)\n",
    "    if h_db.has_table(table_name=Output_table)['table_exists']:\n",
    "        h_db.clear_table(table_name=Output_table)\n",
    "    response = h_db.create_table(table_name=Output_table, type_id=response['type_id'],\n",
    "                                 options={\"collection_name\": COLLECTION})\n",
    "\n",
    "def injest(h_db,Input_table,dataset,input_type):\n",
    "    # insert the training data into table\n",
    "    i = 0\n",
    "    encoded_obj_list = []\n",
    "    for data, label in zip(dataset.images, dataset.labels):\n",
    "        datum = collections.OrderedDict()\n",
    "        datum[\"data\"], datum[\"onehot_label\"], datum[\"readable_label\"] = data.tobytes(), label.tobytes(), \\\n",
    "                                                                        np.argwhere(label == 1)[0][0]\n",
    "        encoded_obj_list.append(h_db.encode_datum(input_type, datum))\n",
    "        i = i + 1\n",
    "        if i % data_pack_size == 0:\n",
    "            response = h_db.insert_records(table_name=Input_table, data=encoded_obj_list, list_encoding='binary',\n",
    "                                           options={})  # the list_encoding and options can be omitted\n",
    "            encoded_obj_list = []\n",
    "            pct=float(i)/float(dataset.images.shape[0])*100.0\n",
    "            if pct==int(pct) and pct%20 ==0:\n",
    "                print(str(pct)+\" % loaded\")\n",
    "    if encoded_obj_list != []:\n",
    "        response = h_db.insert_records(table_name=Input_table, data=encoded_obj_list, list_encoding='binary', options={})\n",
    "\n",
    "    response = h_db.insert_records(table_name=Input_table, data=encoded_obj_list,\n",
    "                                   list_encoding='binary', options={})  # the list_encoding and options can be omitted\n",
    "    print(\"%s table has %d number of record inserted\"%(Input_table,i))\n",
    "if __name__ == '__main__':\n",
    "    main()"
   ]
  },
  {
   "cell_type": "code",
   "execution_count": 5,
   "metadata": {},
   "outputs": [],
   "source": [
    "### a look at  traning table"
   ]
  },
  {
   "cell_type": "code",
   "execution_count": 2,
   "metadata": {},
   "outputs": [
    {
     "name": "stdout",
     "output_type": "stream",
     "text": [
      "Connection successful\n",
      "Catalog [KINETICA]\n",
      "Time 0.177\n",
      "+----------+---------+\n",
      "|   number |   count |\n",
      "+----------+---------+\n",
      "|        0 |    5444 |\n",
      "|        1 |    6179 |\n",
      "|        2 |    5470 |\n",
      "|        3 |    5638 |\n",
      "|        4 |    5307 |\n",
      "|        5 |    4987 |\n",
      "|        6 |    5417 |\n",
      "|        7 |    5715 |\n",
      "|        8 |    5389 |\n",
      "|        9 |    5454 |\n",
      "+----------+---------+\n",
      "Rows read = 10\n",
      "Exec time 0.058 Fetch time 0.016\n"
     ]
    }
   ],
   "source": [
    "%%bash \n",
    "./kisql/kisql -h p4.rewreu.org -sql \\\n",
    "\"\"\"\n",
    "SELECT\n",
    "    readable_label as number, count(readable_label) as count\n",
    "FROM Mnist_train\n",
    "group by readable_label\n",
    "order by number\n",
    "\"\"\""
   ]
  },
  {
   "cell_type": "code",
   "execution_count": 4,
   "metadata": {},
   "outputs": [],
   "source": [
    "### a look at inference table"
   ]
  },
  {
   "cell_type": "code",
   "execution_count": 3,
   "metadata": {},
   "outputs": [
    {
     "name": "stdout",
     "output_type": "stream",
     "text": [
      "Connection successful\n",
      "Catalog [KINETICA]\n",
      "Time 0.171\n",
      "+----------+---------+\n",
      "|   number |   count |\n",
      "+----------+---------+\n",
      "|        0 |     980 |\n",
      "|        1 |    1135 |\n",
      "|        2 |    1032 |\n",
      "|        3 |    1010 |\n",
      "|        4 |     982 |\n",
      "|        5 |     892 |\n",
      "|        6 |     958 |\n",
      "|        7 |    1028 |\n",
      "|        8 |     974 |\n",
      "|        9 |    1009 |\n",
      "+----------+---------+\n",
      "Rows read = 10\n",
      "Exec time 0.057 Fetch time 0.02\n"
     ]
    }
   ],
   "source": [
    "%%bash \n",
    "./kisql/kisql -h p4.rewreu.org -sql \\\n",
    "\"\"\"\n",
    "SELECT\n",
    "    readable_label as number, count(readable_label) as count\n",
    "FROM Mnist_inference\n",
    "group by readable_label\n",
    "order by number\n",
    "\"\"\""
   ]
  },
  {
   "cell_type": "markdown",
   "metadata": {},
   "source": [
    "### 2. Train MNIST model on head node (ND UDF)"
   ]
  },
  {
   "cell_type": "markdown",
   "metadata": {},
   "source": [
    "\n",
    "#### Register and execute UDF for training"
   ]
  },
  {
   "cell_type": "markdown",
   "metadata": {},
   "source": [
    "Wait until it shows: ```Final Proc state: complete```"
   ]
  },
  {
   "cell_type": "code",
   "execution_count": 6,
   "metadata": {},
   "outputs": [
    {
     "name": "stdout",
     "output_type": "stream",
     "text": [
      "Registering proc...\n",
      "{'status_info': {u'status': u'OK', u'data_type': u'create_proc_response', u'message': u'', 'response_time': 0.00907}, u'proc_name': u'UDF_Mnist_train'}\n",
      "Executing proc...\n",
      "Proc was launched successfully with run_id: 15\n",
      "process is running... \n",
      "process is running... \n",
      "process is running... \n",
      "process is running... \n",
      "process is running... \n",
      "process is running... \n",
      "process is running... \n",
      "process is running... \n",
      "('total running time is ', datetime.timedelta(0, 8, 262953))\n",
      "Final Proc state: complete\n"
     ]
    }
   ],
   "source": [
    "import gpudb\n",
    "import collections\n",
    "import sys\n",
    "import time\n",
    "from datetime import datetime, timedelta\n",
    "\n",
    "INPUT_TABLE = 'Mnist_train'\n",
    "COLLECTION = 'Mnist'\n",
    "host_ip=\"p4.rewreu.org\"\n",
    "PORT = '9191'\n",
    "\n",
    "proc_name = 'UDF_Mnist_train'\n",
    "filelist = [BASE_dir+'Train_ND_UDF.py', BASE_dir+'kineticaIO.py']\n",
    "\n",
    "# Register UDF\n",
    "def Register_UDF(h_db,proc_name=proc_name, filelist=filelist):\n",
    "    files = {}\n",
    "    for ifile in filelist:\n",
    "        with open(ifile, 'rb') as f:\n",
    "            files[ifile] = f.read()\n",
    "    if h_db.has_proc(proc_name)['proc_exists']:\n",
    "        h_db.delete_proc(proc_name)\n",
    "    print \"Registering proc...\"\n",
    "    response = h_db.create_proc(proc_name, 'nondistributed', files, 'python', [filelist[0]], {})\n",
    "    print response\n",
    "# Execute UDF\n",
    "def execute_UDF(h_db,proc_name=proc_name):\n",
    "    print \"Executing proc...\"\n",
    "    response = h_db.execute_proc(proc_name, {}, {}, [], {}, [], {})\n",
    "    if response['status_info']['status'] == 'OK':\n",
    "        run_id = response['run_id']\n",
    "        print('Proc was launched successfully with run_id: ' + run_id)\n",
    "        start_time = datetime.now()\n",
    "        while h_db.show_proc_status(run_id)['overall_statuses'][run_id] == 'running':\n",
    "            time.sleep(1)\n",
    "            print('process is running, wait... ')\n",
    "        final_proc_state = h_db.show_proc_status(run_id)['overall_statuses'][run_id]\n",
    "        print(\"total running time is \",datetime.now() - start_time)\n",
    "        print('Final Proc state: ' + final_proc_state)\n",
    "        if final_proc_state=='error':\n",
    "            raise RuntimeError('proc error')\n",
    "    else:\n",
    "        print('Error launching proc; response: ')\n",
    "        #print(response)\n",
    "        raise RuntimeError('proc error')\n",
    "    #print response\n",
    "\n",
    "if __name__ == \"__main__\":\n",
    "    h_db = gpudb.GPUdb(encoding='BINARY', host=host_ip,port=PORT)\n",
    "    Register_UDF(h_db)\n",
    "    execute_UDF(h_db)"
   ]
  },
  {
   "cell_type": "markdown",
   "metadata": {},
   "source": [
    "### Now let's look at the training result"
   ]
  },
  {
   "cell_type": "code",
   "execution_count": 8,
   "metadata": {},
   "outputs": [
    {
     "data": {
      "image/png": "[encoded data removed]",
      "text/plain": [
       "<Figure size 432x288 with 1 Axes>"
      ]
     },
     "metadata": {},
     "output_type": "display_data"
    },
    {
     "name": "stdout",
     "output_type": "stream",
     "text": [
      "Connection successful\n",
      "Catalog [KINETICA]\n",
      "Time 0.205\n",
      "+----------------------------------------+----------------------+------------------------------+\n",
      "| model_id                               |             Accuracy |                 time_created |\n",
      "+----------------------------------------+----------------------+------------------------------+\n",
      "| 98d72c0c-860a-11e8-a049-984be16d139a   |   0.9580890645662522 |   2018-07-12 19:34:30.000000 |\n",
      "| daafb7c0-860f-11e8-9c34-984be16d139a   |   1.5387691124673468 |   2018-07-12 20:12:08.000000 |\n",
      "+----------------------------------------+----------------------+------------------------------+\n",
      "Rows read = 2\n",
      "Exec time 0.108 Fetch time 0.038\n"
     ]
    }
   ],
   "source": [
    "import matplotlib.pyplot as plt; plt.rcdefaults()\n",
    "import numpy as np\n",
    "import matplotlib.pyplot as plt\n",
    "from UDF_util import kineticaIO\n",
    "import pandas as pd\n",
    "import gpudb\n",
    "%matplotlib inline\n",
    "host_ip=\"p4.rewreu.org\"\n",
    "PORT = '9191'\n",
    "\n",
    "h_db = gpudb.GPUdb(encoding='BINARY', host=host_ip,port=PORT)\n",
    "KIO=kineticaIO.kineticaIO(h_db)\n",
    "df=pd.DataFrame(KIO.getData(table=\"TFmodel\",offset=0,numberData=100))\n",
    "df=df[df[\"model\"]==\"TF1\"]\n",
    "x=[i+\"-\"+j[:10]+\"...\" for i,j in zip(df[\"model\"],df[\"model_id\"])]\n",
    "objects=tuple(x)\n",
    "y_pos = np.arange(len(objects))\n",
    "performance = list(df[\"Accuracy\"])\n",
    "\n",
    "plt.barh(y_pos, performance, align='center', alpha=0.5)\n",
    "plt.yticks(y_pos, objects)\n",
    "plt.xlabel('Accuracy')\n",
    "plt.ylabel('Model')\n",
    "plt.title('Comparision of models')\n",
    "plt.show()\n",
    "\n",
    "!./kisql/kisql -h p4.rewreu.org -sql \\\n",
    "\"\"\"select model_id,Accuracy, Data_Time_created as time_created from TFmodel where model='TF1' order by Accuracy\"\"\""
   ]
  },
  {
   "cell_type": "markdown",
   "metadata": {},
   "source": [
    "### Now let's look at the trained Model"
   ]
  },
  {
   "cell_type": "markdown",
   "metadata": {},
   "source": [
    "<font color='red'>Modify Model_id from last step</font>\n",
    "\n",
    "double click the import button"
   ]
  },
  {
   "cell_type": "code",
   "execution_count": 9,
   "metadata": {},
   "outputs": [
    {
     "data": {
      "text/html": [
       "\n",
       "        <iframe seamless style=\"width:1200px;height:620px;border:0\" srcdoc=\"\n",
       "        <script>\n",
       "          function load() {\n",
       "            document.getElementById(&quot;graph0.800731546019&quot;).pbtxt = 'node {\\n  name: &quot;import/input&quot;\\n  op: &quot;Placeholder&quot;\\n  attr {\\n    key: &quot;dtype&quot;\\n    value {\\n      type: DT_FLOAT\\n    }\\n  }\\n  attr {\\n    key: &quot;shape&quot;\\n    value {\\n      shape {\\n        dim {\\n          size: -1\\n        }\\n        dim {\\n          size: 784\\n        }\\n      }\\n    }\\n  }\\n}\\nnode {\\n  name: &quot;import/Variable&quot;\\n  op: &quot;Const&quot;\\n  attr {\\n    key: &quot;dtype&quot;\\n    value {\\n      type: DT_FLOAT\\n    }\\n  }\\n  attr {\\n    key: &quot;value&quot;\\n    value {\\n      tensor {\\n        dtype: DT_FLOAT\\n        tensor_shape {\\n          dim {\\n            size: 784\\n          }\\n          dim {\\n            size: 256\\n          }\\n        }\\n        tensor_content: &quot;b<stripped 802816 bytes>&quot;\\n      }\\n    }\\n  }\\n}\\nnode {\\n  name: &quot;import/Variable/read&quot;\\n  op: &quot;Identity&quot;\\n  input: &quot;import/Variable&quot;\\n  attr {\\n    key: &quot;T&quot;\\n    value {\\n      type: DT_FLOAT\\n    }\\n  }\\n  attr {\\n    key: &quot;_class&quot;\\n    value {\\n      list {\\n        s: &quot;loc:@import/Variable&quot;\\n      }\\n    }\\n  }\\n}\\nnode {\\n  name: &quot;import/Variable_1&quot;\\n  op: &quot;Const&quot;\\n  attr {\\n    key: &quot;dtype&quot;\\n    value {\\n      type: DT_FLOAT\\n    }\\n  }\\n  attr {\\n    key: &quot;value&quot;\\n    value {\\n      tensor {\\n        dtype: DT_FLOAT\\n        tensor_shape {\\n          dim {\\n            size: 256\\n          }\\n          dim {\\n            size: 256\\n          }\\n        }\\n        tensor_content: &quot;b<stripped 262144 bytes>&quot;\\n      }\\n    }\\n  }\\n}\\nnode {\\n  name: &quot;import/Variable_1/read&quot;\\n  op: &quot;Identity&quot;\\n  input: &quot;import/Variable_1&quot;\\n  attr {\\n    key: &quot;T&quot;\\n    value {\\n      type: DT_FLOAT\\n    }\\n  }\\n  attr {\\n    key: &quot;_class&quot;\\n    value {\\n      list {\\n        s: &quot;loc:@import/Variable_1&quot;\\n      }\\n    }\\n  }\\n}\\nnode {\\n  name: &quot;import/Variable_2&quot;\\n  op: &quot;Const&quot;\\n  attr {\\n    key: &quot;dtype&quot;\\n    value {\\n      type: DT_FLOAT\\n    }\\n  }\\n  attr {\\n    key: &quot;value&quot;\\n    value {\\n      tensor {\\n        dtype: DT_FLOAT\\n        tensor_shape {\\n          dim {\\n            size: 256\\n          }\\n          dim {\\n            size: 10\\n          }\\n        }\\n        tensor_content: &quot;b<stripped 10240 bytes>&quot;\\n      }\\n    }\\n  }\\n}\\nnode {\\n  name: &quot;import/Variable_2/read&quot;\\n  op: &quot;Identity&quot;\\n  input: &quot;import/Variable_2&quot;\\n  attr {\\n    key: &quot;T&quot;\\n    value {\\n      type: DT_FLOAT\\n    }\\n  }\\n  attr {\\n    key: &quot;_class&quot;\\n    value {\\n      list {\\n        s: &quot;loc:@import/Variable_2&quot;\\n      }\\n    }\\n  }\\n}\\nnode {\\n  name: &quot;import/Variable_3&quot;\\n  op: &quot;Const&quot;\\n  attr {\\n    key: &quot;dtype&quot;\\n    value {\\n      type: DT_FLOAT\\n    }\\n  }\\n  attr {\\n    key: &quot;value&quot;\\n    value {\\n      tensor {\\n        dtype: DT_FLOAT\\n        tensor_shape {\\n          dim {\\n            size: 256\\n          }\\n        }\\n        tensor_content: &quot;b<stripped 1024 bytes>&quot;\\n      }\\n    }\\n  }\\n}\\nnode {\\n  name: &quot;import/Variable_3/read&quot;\\n  op: &quot;Identity&quot;\\n  input: &quot;import/Variable_3&quot;\\n  attr {\\n    key: &quot;T&quot;\\n    value {\\n      type: DT_FLOAT\\n    }\\n  }\\n  attr {\\n    key: &quot;_class&quot;\\n    value {\\n      list {\\n        s: &quot;loc:@import/Variable_3&quot;\\n      }\\n    }\\n  }\\n}\\nnode {\\n  name: &quot;import/Variable_4&quot;\\n  op: &quot;Const&quot;\\n  attr {\\n    key: &quot;dtype&quot;\\n    value {\\n      type: DT_FLOAT\\n    }\\n  }\\n  attr {\\n    key: &quot;value&quot;\\n    value {\\n      tensor {\\n        dtype: DT_FLOAT\\n        tensor_shape {\\n          dim {\\n            size: 256\\n          }\\n        }\\n        tensor_content: &quot;b<stripped 1024 bytes>&quot;\\n      }\\n    }\\n  }\\n}\\nnode {\\n  name: &quot;import/Variable_4/read&quot;\\n  op: &quot;Identity&quot;\\n  input: &quot;import/Variable_4&quot;\\n  attr {\\n    key: &quot;T&quot;\\n    value {\\n      type: DT_FLOAT\\n    }\\n  }\\n  attr {\\n    key: &quot;_class&quot;\\n    value {\\n      list {\\n        s: &quot;loc:@import/Variable_4&quot;\\n      }\\n    }\\n  }\\n}\\nnode {\\n  name: &quot;import/Variable_5&quot;\\n  op: &quot;Const&quot;\\n  attr {\\n    key: &quot;dtype&quot;\\n    value {\\n      type: DT_FLOAT\\n    }\\n  }\\n  attr {\\n    key: &quot;value&quot;\\n    value {\\n      tensor {\\n        dtype: DT_FLOAT\\n        tensor_shape {\\n          dim {\\n            size: 10\\n          }\\n        }\\n        tensor_content: &quot;b<stripped 40 bytes>&quot;\\n      }\\n    }\\n  }\\n}\\nnode {\\n  name: &quot;import/Variable_5/read&quot;\\n  op: &quot;Identity&quot;\\n  input: &quot;import/Variable_5&quot;\\n  attr {\\n    key: &quot;T&quot;\\n    value {\\n      type: DT_FLOAT\\n    }\\n  }\\n  attr {\\n    key: &quot;_class&quot;\\n    value {\\n      list {\\n        s: &quot;loc:@import/Variable_5&quot;\\n      }\\n    }\\n  }\\n}\\nnode {\\n  name: &quot;import/MatMul&quot;\\n  op: &quot;MatMul&quot;\\n  input: &quot;import/input&quot;\\n  input: &quot;import/Variable/read&quot;\\n  attr {\\n    key: &quot;T&quot;\\n    value {\\n      type: DT_FLOAT\\n    }\\n  }\\n  attr {\\n    key: &quot;transpose_a&quot;\\n    value {\\n      b: false\\n    }\\n  }\\n  attr {\\n    key: &quot;transpose_b&quot;\\n    value {\\n      b: false\\n    }\\n  }\\n}\\nnode {\\n  name: &quot;import/Add&quot;\\n  op: &quot;Add&quot;\\n  input: &quot;import/MatMul&quot;\\n  input: &quot;import/Variable_3/read&quot;\\n  attr {\\n    key: &quot;T&quot;\\n    value {\\n      type: DT_FLOAT\\n    }\\n  }\\n}\\nnode {\\n  name: &quot;import/Relu&quot;\\n  op: &quot;Relu&quot;\\n  input: &quot;import/Add&quot;\\n  attr {\\n    key: &quot;T&quot;\\n    value {\\n      type: DT_FLOAT\\n    }\\n  }\\n}\\nnode {\\n  name: &quot;import/MatMul_1&quot;\\n  op: &quot;MatMul&quot;\\n  input: &quot;import/Relu&quot;\\n  input: &quot;import/Variable_1/read&quot;\\n  attr {\\n    key: &quot;T&quot;\\n    value {\\n      type: DT_FLOAT\\n    }\\n  }\\n  attr {\\n    key: &quot;transpose_a&quot;\\n    value {\\n      b: false\\n    }\\n  }\\n  attr {\\n    key: &quot;transpose_b&quot;\\n    value {\\n      b: false\\n    }\\n  }\\n}\\nnode {\\n  name: &quot;import/Add_1&quot;\\n  op: &quot;Add&quot;\\n  input: &quot;import/MatMul_1&quot;\\n  input: &quot;import/Variable_4/read&quot;\\n  attr {\\n    key: &quot;T&quot;\\n    value {\\n      type: DT_FLOAT\\n    }\\n  }\\n}\\nnode {\\n  name: &quot;import/Relu_1&quot;\\n  op: &quot;Relu&quot;\\n  input: &quot;import/Add_1&quot;\\n  attr {\\n    key: &quot;T&quot;\\n    value {\\n      type: DT_FLOAT\\n    }\\n  }\\n}\\nnode {\\n  name: &quot;import/MatMul_2&quot;\\n  op: &quot;MatMul&quot;\\n  input: &quot;import/Relu_1&quot;\\n  input: &quot;import/Variable_2/read&quot;\\n  attr {\\n    key: &quot;T&quot;\\n    value {\\n      type: DT_FLOAT\\n    }\\n  }\\n  attr {\\n    key: &quot;transpose_a&quot;\\n    value {\\n      b: false\\n    }\\n  }\\n  attr {\\n    key: &quot;transpose_b&quot;\\n    value {\\n      b: false\\n    }\\n  }\\n}\\nnode {\\n  name: &quot;import/output&quot;\\n  op: &quot;Add&quot;\\n  input: &quot;import/MatMul_2&quot;\\n  input: &quot;import/Variable_5/read&quot;\\n  attr {\\n    key: &quot;T&quot;\\n    value {\\n      type: DT_FLOAT\\n    }\\n  }\\n}\\n';\n",
       "          }\n",
       "        </script>\n",
       "        <link rel=&quot;import&quot; href=&quot;https://tensorboard.appspot.com/tf-graph-basic.build.html&quot; onload=load()>\n",
       "        <div style=&quot;height:600px&quot;>\n",
       "          <tf-graph-basic id=&quot;graph0.800731546019&quot;></tf-graph-basic>\n",
       "        </div>\n",
       "    \"></iframe>\n",
       "    "
      ],
      "text/plain": [
       "<IPython.core.display.HTML object>"
      ]
     },
     "metadata": {},
     "output_type": "display_data"
    }
   ],
   "source": [
    "from UDF_util import displayModel\n",
    "import gpudb\n",
    "\n",
    "host_ip=\"p4.rewreu.org\"\n",
    "PORT = '9191'\n",
    "\n",
    "h_db = gpudb.GPUdb(encoding='BINARY', host=host_ip,port=PORT)\n",
    "displayModel.displayGraphDef(h_db=h_db,\n",
    "                             Model_id=\"98d72c0c-860a-11e8-a049-984be16d139a\")"
   ]
  },
  {
   "cell_type": "markdown",
   "metadata": {},
   "source": [
    "### 3. Use last step trained MNIST model for inferencing (distributed UDF)"
   ]
  },
  {
   "cell_type": "markdown",
   "metadata": {},
   "source": [
    "#### Register and execute UDF_inference.py file"
   ]
  },
  {
   "cell_type": "markdown",
   "metadata": {},
   "source": [
    "Wait unital it shows: ```Final Proc state: complete```"
   ]
  },
  {
   "cell_type": "markdown",
   "metadata": {},
   "source": [
    "<font color='red'>Modify Model_id from last step</font>"
   ]
  },
  {
   "cell_type": "code",
   "execution_count": 12,
   "metadata": {},
   "outputs": [
    {
     "name": "stdout",
     "output_type": "stream",
     "text": [
      "Registering proc...\n",
      "Executing proc...\n",
      "Proc was launched successfully with run_id: 18\n",
      "process is running, wait... \n",
      "process is running, wait... \n",
      "process is running, wait... \n",
      "process is running, wait... \n",
      "process is running, wait... \n",
      "process is running, wait... \n",
      "process is running, wait... \n",
      "('total running time is ', datetime.timedelta(0, 7, 234479))\n",
      "Final Proc state: complete\n"
     ]
    }
   ],
   "source": [
    "import gpudb\n",
    "import collections\n",
    "import sys\n",
    "import time\n",
    "from datetime import datetime, timedelta\n",
    "\n",
    "# User specified parameters\n",
    "INPUT_TABLE = 'Mnist_inference'\n",
    "OUTPUT_TABLE = 'Mnist_inference_out'\n",
    "COLLECTION='Mnist'\n",
    "host_ip = \"p4.rewreu.org\"\n",
    "modelID=\"98d72c0c-860a-11e8-a049-984be16d139a\"\n",
    "GPU_memory_allocation_fraction=\"0.1\" # fraction of GPU memory for inference usage, \n",
    "#if Kinetica is running on CPU instance, this parameter has no effect\n",
    "\n",
    "############################\n",
    "output_type = \"\"\"\n",
    "{\n",
    "   \"type\": \"record\",\n",
    "   \"name\": \"output_type\",\n",
    "   \"fields\": [\n",
    "      {\"name\":\"Predict\",\"type\":\"int\"},\n",
    "      {\"name\":\"Label\",\"type\":\"int\"}\n",
    "   ]\n",
    "}  \"\"\".replace(' ','').replace('\\n','')\n",
    "output_properties={\"Label\":[\"shard_key\"]}\n",
    "#create output predict table\n",
    "def Create_out_table():\n",
    "    response = h_db.create_type(type_definition = output_type, label = OUTPUT_TABLE, properties=output_properties)\n",
    "    if h_db.has_table(table_name = OUTPUT_TABLE)['table_exists']:\n",
    "       h_db.clear_table(table_name = OUTPUT_TABLE)\n",
    "    response=h_db.create_table(table_name = OUTPUT_TABLE, type_id = response['type_id'],\n",
    "                               options={\"collection_name\":COLLECTION})\n",
    "    return response\n",
    "\n",
    "#register UDF\n",
    "def main():\n",
    "    proc_name = 'UDF_Mnist_inference'\n",
    "    filelist=[BASE_dir + \"Inference_D_UDF.py\",BASE_dir + \"kineticaIO.py\"] # put the main python script in the first place\n",
    "    # Read proc code in as bytes and add to a file data array\n",
    "    files = {}\n",
    "    for ifile in filelist:\n",
    "        with open(ifile,'rb') as f:\n",
    "            files[ifile]=f.read()\n",
    "    # Connect to Kinetica\n",
    "    h_db = gpudb.GPUdb(encoding = 'BINARY', host = host_ip, port =\"9191\")\n",
    "    # Remove proc if it exists from a prior registration\n",
    "    if h_db.has_proc(proc_name)['proc_exists']:\n",
    "        h_db.delete_proc(proc_name)\n",
    "    print \"Registering proc...\"\n",
    "    response = h_db.create_proc(proc_name, 'distributed', files, 'python', [filelist[0],modelID,\"127.0.0.1\",GPU_memory_allocation_fraction], {})\n",
    "    #print response\n",
    "\n",
    "    #Execute UDF\n",
    "    print \"Executing proc...\"\n",
    "    response = h_db.execute_proc(proc_name, {}, {}, [INPUT_TABLE], {}, [OUTPUT_TABLE], {})\n",
    "    if response['status_info']['status'] == 'OK':\n",
    "        run_id = response['run_id']\n",
    "        print('Proc was launched successfully with run_id: ' + run_id)\n",
    "        start_time = datetime.now()\n",
    "        while h_db.show_proc_status(run_id)['overall_statuses'][run_id] == 'running':\n",
    "            time.sleep(1)\n",
    "            print('process is running, wait... ')\n",
    "        final_proc_state = h_db.show_proc_status(run_id)['overall_statuses'][run_id]\n",
    "        print(\"total running time is \",datetime.now() - start_time)\n",
    "        print('Final Proc state: ' + final_proc_state)\n",
    "        if final_proc_state=='error':\n",
    "            raise RuntimeError('proc error')\n",
    "    else:\n",
    "        print('Error launching proc; response: ')\n",
    "        #print(response)\n",
    "        raise RuntimeError('proc error')\n",
    "\n",
    "if __name__==\"__main__\":\n",
    "    Create_out_table()\n",
    "    main()"
   ]
  },
  {
   "cell_type": "markdown",
   "metadata": {},
   "source": [
    "# Now lets look at the inferencing result"
   ]
  },
  {
   "cell_type": "code",
   "execution_count": 13,
   "metadata": {},
   "outputs": [
    {
     "name": "stdout",
     "output_type": "stream",
     "text": [
      "\n",
      "The distribution of Label result\n"
     ]
    },
    {
     "data": {
      "image/png": "[encoded data removed]",
      "text/plain": [
       "<Figure size 432x288 with 1 Axes>"
      ]
     },
     "metadata": {},
     "output_type": "display_data"
    },
    {
     "name": "stdout",
     "output_type": "stream",
     "text": [
      "hist plot\n"
     ]
    },
    {
     "data": {
      "image/png": "[encoded data removed]",
      "text/plain": [
       "<Figure size 432x288 with 1 Axes>"
      ]
     },
     "metadata": {},
     "output_type": "display_data"
    }
   ],
   "source": [
    "import pandas as pd\n",
    "from UDF_util import kineticaIO\n",
    "import matplotlib.pyplot as plt\n",
    "import gpudb\n",
    "\n",
    "host_ip=\"p4.rewreu.org\"\n",
    "PORT = '9191'\n",
    "\n",
    "h_db = gpudb.GPUdb(encoding='BINARY', host=host_ip,port=PORT)\n",
    "KIO=kineticaIO.kineticaIO(h_db)\n",
    "df=pd.DataFrame(KIO.getData(table=\"Mnist_inference_out\",offset=0,numberData=10000))\n",
    "ldf=df.groupby(['Label']).count()\n",
    "pdf=df.groupby(['Predict']).count()\n",
    "print(\"\\nThe distribution of Label result\")\n",
    "ldf[\"Predict\"].plot.pie()\n",
    "plt.show()\n",
    "df[\"Label\"].hist()\n",
    "print(\"hist plot\")\n",
    "plt.show()"
   ]
  },
  {
   "cell_type": "code",
   "execution_count": 14,
   "metadata": {},
   "outputs": [
    {
     "name": "stdout",
     "output_type": "stream",
     "text": [
      "\n",
      "The distribution of Predict result\n"
     ]
    },
    {
     "data": {
      "image/png": "[encoded data removed]",
      "text/plain": [
       "<Figure size 432x288 with 1 Axes>"
      ]
     },
     "metadata": {},
     "output_type": "display_data"
    },
    {
     "data": {
      "image/png": "[encoded data removed]",
      "text/plain": [
       "<Figure size 432x288 with 1 Axes>"
      ]
     },
     "metadata": {},
     "output_type": "display_data"
    }
   ],
   "source": [
    "print \"\\nThe distribution of Predict result\"\n",
    "pdf[\"Label\"].plot.pie()\n",
    "plt.show()\n",
    "df[\"Predict\"].hist()\n",
    "plt.show()"
   ]
  },
  {
   "cell_type": "code",
   "execution_count": 15,
   "metadata": {},
   "outputs": [
    {
     "data": {
      "image/png": "[encoded data removed]",
      "text/plain": [
       "<Figure size 432x288 with 1 Axes>"
      ]
     },
     "metadata": {},
     "output_type": "display_data"
    }
   ],
   "source": [
    "corr=sum(abs(df[\"Label\"]-df[\"Predict\"])==0)\n",
    "cdf = pd.DataFrame([10**4\n",
    "                    -corr,corr], index=['Incorrect', 'Correct'],columns=[\"Prediction Pie chart\"])\n",
    "cdf.plot.pie(subplots=True)\n",
    "plt.show()"
   ]
  },
  {
   "cell_type": "code",
   "execution_count": 16,
   "metadata": {},
   "outputs": [
    {
     "name": "stdout",
     "output_type": "stream",
     "text": [
      "Connection successful\n",
      "Catalog [KINETICA]\n",
      "Time 0.19\n",
      "+-----------+---------------+-------------------+-----------------+\n",
      "|   Predict |   count_total |   count_incorrect |   count_correct |\n",
      "+-----------+---------------+-------------------+-----------------+\n",
      "|         5 |           287 |               146 |             141 |\n",
      "|         0 |           609 |               126 |             483 |\n",
      "|         8 |           615 |               257 |             358 |\n",
      "|         6 |           796 |               159 |             637 |\n",
      "|         2 |           830 |               340 |             490 |\n",
      "|         7 |           963 |               216 |             747 |\n",
      "|         1 |          1064 |                77 |             987 |\n",
      "|         3 |          1365 |               613 |             752 |\n",
      "|         9 |          1449 |               879 |             570 |\n",
      "|         4 |          2022 |              1363 |             659 |\n",
      "+-----------+---------------+-------------------+-----------------+\n",
      "Rows read = 10\n",
      "Exec time 0.071 Fetch time 0.022\n"
     ]
    }
   ],
   "source": [
    "%%bash \n",
    "./kisql/kisql -h p4.rewreu.org -sql \\\n",
    "\"\"\"\n",
    "SELECT\n",
    "    Predict,\n",
    "    count(*) as count_total,\n",
    "    sum(case when Predict != Label then 1 else 0 end) as count_incorrect,\n",
    "    sum(case when Label = Predict then 1 else 0 end) as count_correct\n",
    "FROM Mnist_inference_out\n",
    "group by Predict\n",
    "\"\"\""
   ]
  },
  {
   "cell_type": "code",
   "execution_count": null,
   "metadata": {},
   "outputs": [],
   "source": []
  }
 ],
 "metadata": {
  "kernelspec": {
   "display_name": "Python 2",
   "language": "python",
   "name": "python2"
  },
  "language_info": {
   "codemirror_mode": {
    "name": "ipython",
    "version": 2
   },
   "file_extension": ".py",
   "mimetype": "text/x-python",
   "name": "python",
   "nbconvert_exporter": "python",
   "pygments_lexer": "ipython2",
   "version": "2.7.12"
  }
 },
 "nbformat": 4,
 "nbformat_minor": 2
}
